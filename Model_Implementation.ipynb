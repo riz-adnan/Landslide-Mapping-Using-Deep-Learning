{
  "nbformat": 4,
  "nbformat_minor": 0,
  "metadata": {
    "colab": {
      "provenance": [],
      "authorship_tag": "ABX9TyMi0ieNlBWjXB5OmqtUpKRl",
      "include_colab_link": true
    },
    "kernelspec": {
      "name": "python3",
      "display_name": "Python 3"
    },
    "language_info": {
      "name": "python"
    }
  },
  "cells": [
    {
      "cell_type": "markdown",
      "metadata": {
        "id": "view-in-github",
        "colab_type": "text"
      },
      "source": [
        "<a href=\"https://colab.research.google.com/github/riz-adnan/Landslide-Mapping-Using-Deep-Learning/blob/main/Model_Implementation.ipynb\" target=\"_parent\"><img src=\"https://colab.research.google.com/assets/colab-badge.svg\" alt=\"Open In Colab\"/></a>"
      ]
    },
    {
      "cell_type": "code",
      "execution_count": null,
      "metadata": {
        "colab": {
          "base_uri": "https://localhost:8080/"
        },
        "id": "pf56Maa_6I2Z",
        "outputId": "816d3879-1ec3-4e06-9c4d-4f39ca6cd9dc"
      },
      "outputs": [
        {
          "output_type": "stream",
          "name": "stdout",
          "text": [
            "Mounted at /content/drive\n"
          ]
        }
      ],
      "source": [
        "from google.colab import drive\n",
        "drive.mount('/content/drive')"
      ]
    },
    {
      "cell_type": "code",
      "source": [],
      "metadata": {
        "id": "Wfgr37kU_iP6"
      },
      "execution_count": null,
      "outputs": []
    },
    {
      "cell_type": "code",
      "source": [
        "import tensorflow as tf\n",
        "\n",
        "model = tf.keras.models.load_model('/content/drive/My Drive/model_save.h5')"
      ],
      "metadata": {
        "colab": {
          "base_uri": "https://localhost:8080/"
        },
        "id": "wbkSiu7H6bsp",
        "outputId": "fb3efb5c-ea18-479d-8bd9-bb508017a021"
      },
      "execution_count": null,
      "outputs": [
        {
          "output_type": "stream",
          "name": "stderr",
          "text": [
            "WARNING:absl:Compiled the loaded model, but the compiled metrics have yet to be built. `model.compile_metrics` will be empty until you train or evaluate the model.\n"
          ]
        }
      ]
    },
    {
      "cell_type": "code",
      "source": [
        "!pip install kaggle\n",
        "!pip install utils\n",
        "!pip install scikit-learn"
      ],
      "metadata": {
        "colab": {
          "base_uri": "https://localhost:8080/"
        },
        "id": "2QE8kQ8v6cXF",
        "outputId": "3db46457-c243-49d6-93ff-a5a81055098d"
      },
      "execution_count": null,
      "outputs": [
        {
          "output_type": "stream",
          "name": "stdout",
          "text": [
            "Requirement already satisfied: kaggle in /usr/local/lib/python3.10/dist-packages (1.6.17)\n",
            "Requirement already satisfied: six>=1.10 in /usr/local/lib/python3.10/dist-packages (from kaggle) (1.16.0)\n",
            "Requirement already satisfied: certifi>=2023.7.22 in /usr/local/lib/python3.10/dist-packages (from kaggle) (2024.8.30)\n",
            "Requirement already satisfied: python-dateutil in /usr/local/lib/python3.10/dist-packages (from kaggle) (2.8.2)\n",
            "Requirement already satisfied: requests in /usr/local/lib/python3.10/dist-packages (from kaggle) (2.32.3)\n",
            "Requirement already satisfied: tqdm in /usr/local/lib/python3.10/dist-packages (from kaggle) (4.66.6)\n",
            "Requirement already satisfied: python-slugify in /usr/local/lib/python3.10/dist-packages (from kaggle) (8.0.4)\n",
            "Requirement already satisfied: urllib3 in /usr/local/lib/python3.10/dist-packages (from kaggle) (2.2.3)\n",
            "Requirement already satisfied: bleach in /usr/local/lib/python3.10/dist-packages (from kaggle) (6.2.0)\n",
            "Requirement already satisfied: webencodings in /usr/local/lib/python3.10/dist-packages (from bleach->kaggle) (0.5.1)\n",
            "Requirement already satisfied: text-unidecode>=1.3 in /usr/local/lib/python3.10/dist-packages (from python-slugify->kaggle) (1.3)\n",
            "Requirement already satisfied: charset-normalizer<4,>=2 in /usr/local/lib/python3.10/dist-packages (from requests->kaggle) (3.4.0)\n",
            "Requirement already satisfied: idna<4,>=2.5 in /usr/local/lib/python3.10/dist-packages (from requests->kaggle) (3.10)\n",
            "Collecting utils\n",
            "  Downloading utils-1.0.2.tar.gz (13 kB)\n",
            "  Preparing metadata (setup.py) ... \u001b[?25l\u001b[?25hdone\n",
            "Building wheels for collected packages: utils\n",
            "  Building wheel for utils (setup.py) ... \u001b[?25l\u001b[?25hdone\n",
            "  Created wheel for utils: filename=utils-1.0.2-py2.py3-none-any.whl size=13906 sha256=c58e8de1dab6d8a18399dd37f5ad346e64a99b6d2c69b4c3c7a6185e027c635d\n",
            "  Stored in directory: /root/.cache/pip/wheels/b8/39/f5/9d0ca31dba85773ececf0a7f5469f18810e1c8a8ed9da28ca7\n",
            "Successfully built utils\n",
            "Installing collected packages: utils\n",
            "Successfully installed utils-1.0.2\n",
            "Requirement already satisfied: scikit-learn in /usr/local/lib/python3.10/dist-packages (1.5.2)\n",
            "Requirement already satisfied: numpy>=1.19.5 in /usr/local/lib/python3.10/dist-packages (from scikit-learn) (1.26.4)\n",
            "Requirement already satisfied: scipy>=1.6.0 in /usr/local/lib/python3.10/dist-packages (from scikit-learn) (1.13.1)\n",
            "Requirement already satisfied: joblib>=1.2.0 in /usr/local/lib/python3.10/dist-packages (from scikit-learn) (1.4.2)\n",
            "Requirement already satisfied: threadpoolctl>=3.1.0 in /usr/local/lib/python3.10/dist-packages (from scikit-learn) (3.5.0)\n"
          ]
        }
      ]
    },
    {
      "cell_type": "code",
      "source": [
        "!kaggle datasets download -d tekbahadurkshetri/landslide4sense\n"
      ],
      "metadata": {
        "colab": {
          "base_uri": "https://localhost:8080/"
        },
        "id": "_HE8ASui6pm3",
        "outputId": "1fcf28bd-8b25-4407-b011-c21c803ed10c"
      },
      "execution_count": null,
      "outputs": [
        {
          "output_type": "stream",
          "name": "stdout",
          "text": [
            "Dataset URL: https://www.kaggle.com/datasets/tekbahadurkshetri/landslide4sense\n",
            "License(s): other\n",
            "Downloading landslide4sense.zip to /content\n",
            " 99% 2.83G/2.85G [00:40<00:00, 98.1MB/s]\n",
            "100% 2.85G/2.85G [00:40<00:00, 75.2MB/s]\n"
          ]
        }
      ]
    },
    {
      "cell_type": "code",
      "source": [
        "import zipfile\n",
        "\n",
        "with zipfile.ZipFile('landslide4sense.zip', 'r') as zip_ref:\n",
        "    zip_ref.extractall('landslide4sense')\n"
      ],
      "metadata": {
        "id": "HWXNCWmu6te2"
      },
      "execution_count": null,
      "outputs": []
    },
    {
      "cell_type": "code",
      "source": [
        "!pip install tensorflow matplotlib"
      ],
      "metadata": {
        "colab": {
          "base_uri": "https://localhost:8080/"
        },
        "id": "VMI_i3aU6wVo",
        "outputId": "f928c6ba-51d2-4030-9743-d17e9da8a727"
      },
      "execution_count": null,
      "outputs": [
        {
          "output_type": "stream",
          "name": "stdout",
          "text": [
            "Requirement already satisfied: tensorflow in /usr/local/lib/python3.10/dist-packages (2.17.1)\n",
            "Requirement already satisfied: matplotlib in /usr/local/lib/python3.10/dist-packages (3.8.0)\n",
            "Requirement already satisfied: absl-py>=1.0.0 in /usr/local/lib/python3.10/dist-packages (from tensorflow) (1.4.0)\n",
            "Requirement already satisfied: astunparse>=1.6.0 in /usr/local/lib/python3.10/dist-packages (from tensorflow) (1.6.3)\n",
            "Requirement already satisfied: flatbuffers>=24.3.25 in /usr/local/lib/python3.10/dist-packages (from tensorflow) (24.3.25)\n",
            "Requirement already satisfied: gast!=0.5.0,!=0.5.1,!=0.5.2,>=0.2.1 in /usr/local/lib/python3.10/dist-packages (from tensorflow) (0.6.0)\n",
            "Requirement already satisfied: google-pasta>=0.1.1 in /usr/local/lib/python3.10/dist-packages (from tensorflow) (0.2.0)\n",
            "Requirement already satisfied: h5py>=3.10.0 in /usr/local/lib/python3.10/dist-packages (from tensorflow) (3.12.1)\n",
            "Requirement already satisfied: libclang>=13.0.0 in /usr/local/lib/python3.10/dist-packages (from tensorflow) (18.1.1)\n",
            "Requirement already satisfied: ml-dtypes<0.5.0,>=0.3.1 in /usr/local/lib/python3.10/dist-packages (from tensorflow) (0.4.1)\n",
            "Requirement already satisfied: opt-einsum>=2.3.2 in /usr/local/lib/python3.10/dist-packages (from tensorflow) (3.4.0)\n",
            "Requirement already satisfied: packaging in /usr/local/lib/python3.10/dist-packages (from tensorflow) (24.2)\n",
            "Requirement already satisfied: protobuf!=4.21.0,!=4.21.1,!=4.21.2,!=4.21.3,!=4.21.4,!=4.21.5,<5.0.0dev,>=3.20.3 in /usr/local/lib/python3.10/dist-packages (from tensorflow) (4.25.5)\n",
            "Requirement already satisfied: requests<3,>=2.21.0 in /usr/local/lib/python3.10/dist-packages (from tensorflow) (2.32.3)\n",
            "Requirement already satisfied: setuptools in /usr/local/lib/python3.10/dist-packages (from tensorflow) (75.1.0)\n",
            "Requirement already satisfied: six>=1.12.0 in /usr/local/lib/python3.10/dist-packages (from tensorflow) (1.16.0)\n",
            "Requirement already satisfied: termcolor>=1.1.0 in /usr/local/lib/python3.10/dist-packages (from tensorflow) (2.5.0)\n",
            "Requirement already satisfied: typing-extensions>=3.6.6 in /usr/local/lib/python3.10/dist-packages (from tensorflow) (4.12.2)\n",
            "Requirement already satisfied: wrapt>=1.11.0 in /usr/local/lib/python3.10/dist-packages (from tensorflow) (1.16.0)\n",
            "Requirement already satisfied: grpcio<2.0,>=1.24.3 in /usr/local/lib/python3.10/dist-packages (from tensorflow) (1.68.0)\n",
            "Requirement already satisfied: tensorboard<2.18,>=2.17 in /usr/local/lib/python3.10/dist-packages (from tensorflow) (2.17.1)\n",
            "Requirement already satisfied: keras>=3.2.0 in /usr/local/lib/python3.10/dist-packages (from tensorflow) (3.5.0)\n",
            "Requirement already satisfied: tensorflow-io-gcs-filesystem>=0.23.1 in /usr/local/lib/python3.10/dist-packages (from tensorflow) (0.37.1)\n",
            "Requirement already satisfied: numpy<2.0.0,>=1.23.5 in /usr/local/lib/python3.10/dist-packages (from tensorflow) (1.26.4)\n",
            "Requirement already satisfied: contourpy>=1.0.1 in /usr/local/lib/python3.10/dist-packages (from matplotlib) (1.3.1)\n",
            "Requirement already satisfied: cycler>=0.10 in /usr/local/lib/python3.10/dist-packages (from matplotlib) (0.12.1)\n",
            "Requirement already satisfied: fonttools>=4.22.0 in /usr/local/lib/python3.10/dist-packages (from matplotlib) (4.55.0)\n",
            "Requirement already satisfied: kiwisolver>=1.0.1 in /usr/local/lib/python3.10/dist-packages (from matplotlib) (1.4.7)\n",
            "Requirement already satisfied: pillow>=6.2.0 in /usr/local/lib/python3.10/dist-packages (from matplotlib) (11.0.0)\n",
            "Requirement already satisfied: pyparsing>=2.3.1 in /usr/local/lib/python3.10/dist-packages (from matplotlib) (3.2.0)\n",
            "Requirement already satisfied: python-dateutil>=2.7 in /usr/local/lib/python3.10/dist-packages (from matplotlib) (2.8.2)\n",
            "Requirement already satisfied: wheel<1.0,>=0.23.0 in /usr/local/lib/python3.10/dist-packages (from astunparse>=1.6.0->tensorflow) (0.45.0)\n",
            "Requirement already satisfied: rich in /usr/local/lib/python3.10/dist-packages (from keras>=3.2.0->tensorflow) (13.9.4)\n",
            "Requirement already satisfied: namex in /usr/local/lib/python3.10/dist-packages (from keras>=3.2.0->tensorflow) (0.0.8)\n",
            "Requirement already satisfied: optree in /usr/local/lib/python3.10/dist-packages (from keras>=3.2.0->tensorflow) (0.13.1)\n",
            "Requirement already satisfied: charset-normalizer<4,>=2 in /usr/local/lib/python3.10/dist-packages (from requests<3,>=2.21.0->tensorflow) (3.4.0)\n",
            "Requirement already satisfied: idna<4,>=2.5 in /usr/local/lib/python3.10/dist-packages (from requests<3,>=2.21.0->tensorflow) (3.10)\n",
            "Requirement already satisfied: urllib3<3,>=1.21.1 in /usr/local/lib/python3.10/dist-packages (from requests<3,>=2.21.0->tensorflow) (2.2.3)\n",
            "Requirement already satisfied: certifi>=2017.4.17 in /usr/local/lib/python3.10/dist-packages (from requests<3,>=2.21.0->tensorflow) (2024.8.30)\n",
            "Requirement already satisfied: markdown>=2.6.8 in /usr/local/lib/python3.10/dist-packages (from tensorboard<2.18,>=2.17->tensorflow) (3.7)\n",
            "Requirement already satisfied: tensorboard-data-server<0.8.0,>=0.7.0 in /usr/local/lib/python3.10/dist-packages (from tensorboard<2.18,>=2.17->tensorflow) (0.7.2)\n",
            "Requirement already satisfied: werkzeug>=1.0.1 in /usr/local/lib/python3.10/dist-packages (from tensorboard<2.18,>=2.17->tensorflow) (3.1.3)\n",
            "Requirement already satisfied: MarkupSafe>=2.1.1 in /usr/local/lib/python3.10/dist-packages (from werkzeug>=1.0.1->tensorboard<2.18,>=2.17->tensorflow) (3.0.2)\n",
            "Requirement already satisfied: markdown-it-py>=2.2.0 in /usr/local/lib/python3.10/dist-packages (from rich->keras>=3.2.0->tensorflow) (3.0.0)\n",
            "Requirement already satisfied: pygments<3.0.0,>=2.13.0 in /usr/local/lib/python3.10/dist-packages (from rich->keras>=3.2.0->tensorflow) (2.18.0)\n",
            "Requirement already satisfied: mdurl~=0.1 in /usr/local/lib/python3.10/dist-packages (from markdown-it-py>=2.2.0->rich->keras>=3.2.0->tensorflow) (0.1.2)\n"
          ]
        }
      ]
    },
    {
      "cell_type": "code",
      "source": [
        "import pandas as pd\n",
        "import numpy as np\n",
        "import h5py\n",
        "import glob\n",
        "import matplotlib.pyplot as plt\n",
        "%matplotlib inline\n",
        "import tensorflow as tf"
      ],
      "metadata": {
        "id": "ESInwNVC60h2"
      },
      "execution_count": null,
      "outputs": []
    },
    {
      "cell_type": "code",
      "source": [
        "path_single = r\"landslide4sense/TrainData/img/image_10.h5\"\n",
        "path_single_mask = r'landslide4sense/TrainData/mask/mask_1.h5'\n",
        "TRAIN_PATH = r\"landslide4sense/TrainData/img/*.h5\"\n",
        "TRAIN_MASK = r'landslide4sense/TrainData/mask/*.h5'\n",
        "TEST_PATH= r\"landslide4sense/TestData/img/*.h5\"\n",
        "\n",
        "TRAIN_XX = np.zeros((3799, 128, 128, 6))\n",
        "TRAIN_YY = np.zeros((3799, 128, 128, 1))\n",
        "TEST_XX = np.zeros((3799, 128, 128, 6))\n",
        "TEST_YY = np.zeros((1800, 128, 128, 1))\n",
        "all_train = sorted(glob.glob(TRAIN_PATH))\n",
        "all_mask = sorted(glob.glob(TRAIN_MASK))\n",
        "all_test = sorted(glob.glob(TEST_PATH))\n"
      ],
      "metadata": {
        "id": "354IssZ367Qq"
      },
      "execution_count": null,
      "outputs": []
    },
    {
      "cell_type": "code",
      "source": [
        "print(all_test)"
      ],
      "metadata": {
        "colab": {
          "base_uri": "https://localhost:8080/"
        },
        "id": "OeEAMeTI86bA",
        "outputId": "9e1a5668-e211-4ca4-a42f-1ff9b4e2848d"
      },
      "execution_count": null,
      "outputs": [
        {
          "output_type": "stream",
          "name": "stdout",
          "text": [
            "['landslide4sense/TestData/img/image_1.h5', 'landslide4sense/TestData/img/image_10.h5', 'landslide4sense/TestData/img/image_100.h5', 'landslide4sense/TestData/img/image_101.h5', 'landslide4sense/TestData/img/image_102.h5', 'landslide4sense/TestData/img/image_103.h5', 'landslide4sense/TestData/img/image_104.h5', 'landslide4sense/TestData/img/image_105.h5', 'landslide4sense/TestData/img/image_106.h5', 'landslide4sense/TestData/img/image_107.h5', 'landslide4sense/TestData/img/image_108.h5', 'landslide4sense/TestData/img/image_109.h5', 'landslide4sense/TestData/img/image_11.h5', 'landslide4sense/TestData/img/image_110.h5', 'landslide4sense/TestData/img/image_111.h5', 'landslide4sense/TestData/img/image_112.h5', 'landslide4sense/TestData/img/image_113.h5', 'landslide4sense/TestData/img/image_114.h5', 'landslide4sense/TestData/img/image_115.h5', 'landslide4sense/TestData/img/image_116.h5', 'landslide4sense/TestData/img/image_117.h5', 'landslide4sense/TestData/img/image_118.h5', 'landslide4sense/TestData/img/image_119.h5', 'landslide4sense/TestData/img/image_12.h5', 'landslide4sense/TestData/img/image_120.h5', 'landslide4sense/TestData/img/image_121.h5', 'landslide4sense/TestData/img/image_122.h5', 'landslide4sense/TestData/img/image_123.h5', 'landslide4sense/TestData/img/image_124.h5', 'landslide4sense/TestData/img/image_125.h5', 'landslide4sense/TestData/img/image_126.h5', 'landslide4sense/TestData/img/image_127.h5', 'landslide4sense/TestData/img/image_128.h5', 'landslide4sense/TestData/img/image_129.h5', 'landslide4sense/TestData/img/image_13.h5', 'landslide4sense/TestData/img/image_130.h5', 'landslide4sense/TestData/img/image_131.h5', 'landslide4sense/TestData/img/image_132.h5', 'landslide4sense/TestData/img/image_133.h5', 'landslide4sense/TestData/img/image_134.h5', 'landslide4sense/TestData/img/image_135.h5', 'landslide4sense/TestData/img/image_136.h5', 'landslide4sense/TestData/img/image_137.h5', 'landslide4sense/TestData/img/image_138.h5', 'landslide4sense/TestData/img/image_139.h5', 'landslide4sense/TestData/img/image_14.h5', 'landslide4sense/TestData/img/image_140.h5', 'landslide4sense/TestData/img/image_141.h5', 'landslide4sense/TestData/img/image_142.h5', 'landslide4sense/TestData/img/image_143.h5', 'landslide4sense/TestData/img/image_144.h5', 'landslide4sense/TestData/img/image_145.h5', 'landslide4sense/TestData/img/image_146.h5', 'landslide4sense/TestData/img/image_147.h5', 'landslide4sense/TestData/img/image_148.h5', 'landslide4sense/TestData/img/image_149.h5', 'landslide4sense/TestData/img/image_15.h5', 'landslide4sense/TestData/img/image_150.h5', 'landslide4sense/TestData/img/image_151.h5', 'landslide4sense/TestData/img/image_152.h5', 'landslide4sense/TestData/img/image_153.h5', 'landslide4sense/TestData/img/image_154.h5', 'landslide4sense/TestData/img/image_155.h5', 'landslide4sense/TestData/img/image_156.h5', 'landslide4sense/TestData/img/image_157.h5', 'landslide4sense/TestData/img/image_158.h5', 'landslide4sense/TestData/img/image_159.h5', 'landslide4sense/TestData/img/image_16.h5', 'landslide4sense/TestData/img/image_160.h5', 'landslide4sense/TestData/img/image_161.h5', 'landslide4sense/TestData/img/image_162.h5', 'landslide4sense/TestData/img/image_163.h5', 'landslide4sense/TestData/img/image_164.h5', 'landslide4sense/TestData/img/image_165.h5', 'landslide4sense/TestData/img/image_166.h5', 'landslide4sense/TestData/img/image_167.h5', 'landslide4sense/TestData/img/image_168.h5', 'landslide4sense/TestData/img/image_169.h5', 'landslide4sense/TestData/img/image_17.h5', 'landslide4sense/TestData/img/image_170.h5', 'landslide4sense/TestData/img/image_171.h5', 'landslide4sense/TestData/img/image_172.h5', 'landslide4sense/TestData/img/image_173.h5', 'landslide4sense/TestData/img/image_174.h5', 'landslide4sense/TestData/img/image_175.h5', 'landslide4sense/TestData/img/image_176.h5', 'landslide4sense/TestData/img/image_177.h5', 'landslide4sense/TestData/img/image_178.h5', 'landslide4sense/TestData/img/image_179.h5', 'landslide4sense/TestData/img/image_18.h5', 'landslide4sense/TestData/img/image_180.h5', 'landslide4sense/TestData/img/image_181.h5', 'landslide4sense/TestData/img/image_182.h5', 'landslide4sense/TestData/img/image_183.h5', 'landslide4sense/TestData/img/image_184.h5', 'landslide4sense/TestData/img/image_185.h5', 'landslide4sense/TestData/img/image_186.h5', 'landslide4sense/TestData/img/image_187.h5', 'landslide4sense/TestData/img/image_188.h5', 'landslide4sense/TestData/img/image_189.h5', 'landslide4sense/TestData/img/image_19.h5', 'landslide4sense/TestData/img/image_190.h5', 'landslide4sense/TestData/img/image_191.h5', 'landslide4sense/TestData/img/image_192.h5', 'landslide4sense/TestData/img/image_193.h5', 'landslide4sense/TestData/img/image_194.h5', 'landslide4sense/TestData/img/image_195.h5', 'landslide4sense/TestData/img/image_196.h5', 'landslide4sense/TestData/img/image_197.h5', 'landslide4sense/TestData/img/image_198.h5', 'landslide4sense/TestData/img/image_199.h5', 'landslide4sense/TestData/img/image_2.h5', 'landslide4sense/TestData/img/image_20.h5', 'landslide4sense/TestData/img/image_200.h5', 'landslide4sense/TestData/img/image_201.h5', 'landslide4sense/TestData/img/image_202.h5', 'landslide4sense/TestData/img/image_203.h5', 'landslide4sense/TestData/img/image_204.h5', 'landslide4sense/TestData/img/image_205.h5', 'landslide4sense/TestData/img/image_206.h5', 'landslide4sense/TestData/img/image_207.h5', 'landslide4sense/TestData/img/image_208.h5', 'landslide4sense/TestData/img/image_209.h5', 'landslide4sense/TestData/img/image_21.h5', 'landslide4sense/TestData/img/image_210.h5', 'landslide4sense/TestData/img/image_211.h5', 'landslide4sense/TestData/img/image_212.h5', 'landslide4sense/TestData/img/image_213.h5', 'landslide4sense/TestData/img/image_214.h5', 'landslide4sense/TestData/img/image_215.h5', 'landslide4sense/TestData/img/image_216.h5', 'landslide4sense/TestData/img/image_217.h5', 'landslide4sense/TestData/img/image_218.h5', 'landslide4sense/TestData/img/image_219.h5', 'landslide4sense/TestData/img/image_22.h5', 'landslide4sense/TestData/img/image_220.h5', 'landslide4sense/TestData/img/image_221.h5', 'landslide4sense/TestData/img/image_222.h5', 'landslide4sense/TestData/img/image_223.h5', 'landslide4sense/TestData/img/image_224.h5', 'landslide4sense/TestData/img/image_225.h5', 'landslide4sense/TestData/img/image_226.h5', 'landslide4sense/TestData/img/image_227.h5', 'landslide4sense/TestData/img/image_228.h5', 'landslide4sense/TestData/img/image_229.h5', 'landslide4sense/TestData/img/image_23.h5', 'landslide4sense/TestData/img/image_230.h5', 'landslide4sense/TestData/img/image_231.h5', 'landslide4sense/TestData/img/image_232.h5', 'landslide4sense/TestData/img/image_233.h5', 'landslide4sense/TestData/img/image_234.h5', 'landslide4sense/TestData/img/image_235.h5', 'landslide4sense/TestData/img/image_236.h5', 'landslide4sense/TestData/img/image_237.h5', 'landslide4sense/TestData/img/image_238.h5', 'landslide4sense/TestData/img/image_239.h5', 'landslide4sense/TestData/img/image_24.h5', 'landslide4sense/TestData/img/image_240.h5', 'landslide4sense/TestData/img/image_241.h5', 'landslide4sense/TestData/img/image_242.h5', 'landslide4sense/TestData/img/image_243.h5', 'landslide4sense/TestData/img/image_244.h5', 'landslide4sense/TestData/img/image_245.h5', 'landslide4sense/TestData/img/image_246.h5', 'landslide4sense/TestData/img/image_247.h5', 'landslide4sense/TestData/img/image_248.h5', 'landslide4sense/TestData/img/image_249.h5', 'landslide4sense/TestData/img/image_25.h5', 'landslide4sense/TestData/img/image_250.h5', 'landslide4sense/TestData/img/image_251.h5', 'landslide4sense/TestData/img/image_252.h5', 'landslide4sense/TestData/img/image_253.h5', 'landslide4sense/TestData/img/image_254.h5', 'landslide4sense/TestData/img/image_255.h5', 'landslide4sense/TestData/img/image_256.h5', 'landslide4sense/TestData/img/image_257.h5', 'landslide4sense/TestData/img/image_258.h5', 'landslide4sense/TestData/img/image_259.h5', 'landslide4sense/TestData/img/image_26.h5', 'landslide4sense/TestData/img/image_260.h5', 'landslide4sense/TestData/img/image_261.h5', 'landslide4sense/TestData/img/image_262.h5', 'landslide4sense/TestData/img/image_263.h5', 'landslide4sense/TestData/img/image_264.h5', 'landslide4sense/TestData/img/image_265.h5', 'landslide4sense/TestData/img/image_266.h5', 'landslide4sense/TestData/img/image_267.h5', 'landslide4sense/TestData/img/image_268.h5', 'landslide4sense/TestData/img/image_269.h5', 'landslide4sense/TestData/img/image_27.h5', 'landslide4sense/TestData/img/image_270.h5', 'landslide4sense/TestData/img/image_271.h5', 'landslide4sense/TestData/img/image_272.h5', 'landslide4sense/TestData/img/image_273.h5', 'landslide4sense/TestData/img/image_274.h5', 'landslide4sense/TestData/img/image_275.h5', 'landslide4sense/TestData/img/image_276.h5', 'landslide4sense/TestData/img/image_277.h5', 'landslide4sense/TestData/img/image_278.h5', 'landslide4sense/TestData/img/image_279.h5', 'landslide4sense/TestData/img/image_28.h5', 'landslide4sense/TestData/img/image_280.h5', 'landslide4sense/TestData/img/image_281.h5', 'landslide4sense/TestData/img/image_282.h5', 'landslide4sense/TestData/img/image_283.h5', 'landslide4sense/TestData/img/image_284.h5', 'landslide4sense/TestData/img/image_285.h5', 'landslide4sense/TestData/img/image_286.h5', 'landslide4sense/TestData/img/image_287.h5', 'landslide4sense/TestData/img/image_288.h5', 'landslide4sense/TestData/img/image_289.h5', 'landslide4sense/TestData/img/image_29.h5', 'landslide4sense/TestData/img/image_290.h5', 'landslide4sense/TestData/img/image_291.h5', 'landslide4sense/TestData/img/image_292.h5', 'landslide4sense/TestData/img/image_293.h5', 'landslide4sense/TestData/img/image_294.h5', 'landslide4sense/TestData/img/image_295.h5', 'landslide4sense/TestData/img/image_296.h5', 'landslide4sense/TestData/img/image_297.h5', 'landslide4sense/TestData/img/image_298.h5', 'landslide4sense/TestData/img/image_299.h5', 'landslide4sense/TestData/img/image_3.h5', 'landslide4sense/TestData/img/image_30.h5', 'landslide4sense/TestData/img/image_300.h5', 'landslide4sense/TestData/img/image_301.h5', 'landslide4sense/TestData/img/image_302.h5', 'landslide4sense/TestData/img/image_303.h5', 'landslide4sense/TestData/img/image_304.h5', 'landslide4sense/TestData/img/image_305.h5', 'landslide4sense/TestData/img/image_306.h5', 'landslide4sense/TestData/img/image_307.h5', 'landslide4sense/TestData/img/image_308.h5', 'landslide4sense/TestData/img/image_309.h5', 'landslide4sense/TestData/img/image_31.h5', 'landslide4sense/TestData/img/image_310.h5', 'landslide4sense/TestData/img/image_311.h5', 'landslide4sense/TestData/img/image_312.h5', 'landslide4sense/TestData/img/image_313.h5', 'landslide4sense/TestData/img/image_314.h5', 'landslide4sense/TestData/img/image_315.h5', 'landslide4sense/TestData/img/image_316.h5', 'landslide4sense/TestData/img/image_317.h5', 'landslide4sense/TestData/img/image_318.h5', 'landslide4sense/TestData/img/image_319.h5', 'landslide4sense/TestData/img/image_32.h5', 'landslide4sense/TestData/img/image_320.h5', 'landslide4sense/TestData/img/image_321.h5', 'landslide4sense/TestData/img/image_322.h5', 'landslide4sense/TestData/img/image_323.h5', 'landslide4sense/TestData/img/image_324.h5', 'landslide4sense/TestData/img/image_325.h5', 'landslide4sense/TestData/img/image_326.h5', 'landslide4sense/TestData/img/image_327.h5', 'landslide4sense/TestData/img/image_328.h5', 'landslide4sense/TestData/img/image_329.h5', 'landslide4sense/TestData/img/image_33.h5', 'landslide4sense/TestData/img/image_330.h5', 'landslide4sense/TestData/img/image_331.h5', 'landslide4sense/TestData/img/image_332.h5', 'landslide4sense/TestData/img/image_333.h5', 'landslide4sense/TestData/img/image_334.h5', 'landslide4sense/TestData/img/image_335.h5', 'landslide4sense/TestData/img/image_336.h5', 'landslide4sense/TestData/img/image_337.h5', 'landslide4sense/TestData/img/image_338.h5', 'landslide4sense/TestData/img/image_339.h5', 'landslide4sense/TestData/img/image_34.h5', 'landslide4sense/TestData/img/image_340.h5', 'landslide4sense/TestData/img/image_341.h5', 'landslide4sense/TestData/img/image_342.h5', 'landslide4sense/TestData/img/image_343.h5', 'landslide4sense/TestData/img/image_344.h5', 'landslide4sense/TestData/img/image_345.h5', 'landslide4sense/TestData/img/image_346.h5', 'landslide4sense/TestData/img/image_347.h5', 'landslide4sense/TestData/img/image_348.h5', 'landslide4sense/TestData/img/image_349.h5', 'landslide4sense/TestData/img/image_35.h5', 'landslide4sense/TestData/img/image_350.h5', 'landslide4sense/TestData/img/image_351.h5', 'landslide4sense/TestData/img/image_352.h5', 'landslide4sense/TestData/img/image_353.h5', 'landslide4sense/TestData/img/image_354.h5', 'landslide4sense/TestData/img/image_355.h5', 'landslide4sense/TestData/img/image_356.h5', 'landslide4sense/TestData/img/image_357.h5', 'landslide4sense/TestData/img/image_358.h5', 'landslide4sense/TestData/img/image_359.h5', 'landslide4sense/TestData/img/image_36.h5', 'landslide4sense/TestData/img/image_360.h5', 'landslide4sense/TestData/img/image_361.h5', 'landslide4sense/TestData/img/image_362.h5', 'landslide4sense/TestData/img/image_363.h5', 'landslide4sense/TestData/img/image_364.h5', 'landslide4sense/TestData/img/image_365.h5', 'landslide4sense/TestData/img/image_366.h5', 'landslide4sense/TestData/img/image_367.h5', 'landslide4sense/TestData/img/image_368.h5', 'landslide4sense/TestData/img/image_369.h5', 'landslide4sense/TestData/img/image_37.h5', 'landslide4sense/TestData/img/image_370.h5', 'landslide4sense/TestData/img/image_371.h5', 'landslide4sense/TestData/img/image_372.h5', 'landslide4sense/TestData/img/image_373.h5', 'landslide4sense/TestData/img/image_374.h5', 'landslide4sense/TestData/img/image_375.h5', 'landslide4sense/TestData/img/image_376.h5', 'landslide4sense/TestData/img/image_377.h5', 'landslide4sense/TestData/img/image_378.h5', 'landslide4sense/TestData/img/image_379.h5', 'landslide4sense/TestData/img/image_38.h5', 'landslide4sense/TestData/img/image_380.h5', 'landslide4sense/TestData/img/image_381.h5', 'landslide4sense/TestData/img/image_382.h5', 'landslide4sense/TestData/img/image_383.h5', 'landslide4sense/TestData/img/image_384.h5', 'landslide4sense/TestData/img/image_385.h5', 'landslide4sense/TestData/img/image_386.h5', 'landslide4sense/TestData/img/image_387.h5', 'landslide4sense/TestData/img/image_388.h5', 'landslide4sense/TestData/img/image_389.h5', 'landslide4sense/TestData/img/image_39.h5', 'landslide4sense/TestData/img/image_390.h5', 'landslide4sense/TestData/img/image_391.h5', 'landslide4sense/TestData/img/image_392.h5', 'landslide4sense/TestData/img/image_393.h5', 'landslide4sense/TestData/img/image_394.h5', 'landslide4sense/TestData/img/image_395.h5', 'landslide4sense/TestData/img/image_396.h5', 'landslide4sense/TestData/img/image_397.h5', 'landslide4sense/TestData/img/image_398.h5', 'landslide4sense/TestData/img/image_399.h5', 'landslide4sense/TestData/img/image_4.h5', 'landslide4sense/TestData/img/image_40.h5', 'landslide4sense/TestData/img/image_400.h5', 'landslide4sense/TestData/img/image_401.h5', 'landslide4sense/TestData/img/image_402.h5', 'landslide4sense/TestData/img/image_403.h5', 'landslide4sense/TestData/img/image_404.h5', 'landslide4sense/TestData/img/image_405.h5', 'landslide4sense/TestData/img/image_406.h5', 'landslide4sense/TestData/img/image_407.h5', 'landslide4sense/TestData/img/image_408.h5', 'landslide4sense/TestData/img/image_409.h5', 'landslide4sense/TestData/img/image_41.h5', 'landslide4sense/TestData/img/image_410.h5', 'landslide4sense/TestData/img/image_411.h5', 'landslide4sense/TestData/img/image_412.h5', 'landslide4sense/TestData/img/image_413.h5', 'landslide4sense/TestData/img/image_414.h5', 'landslide4sense/TestData/img/image_415.h5', 'landslide4sense/TestData/img/image_416.h5', 'landslide4sense/TestData/img/image_417.h5', 'landslide4sense/TestData/img/image_418.h5', 'landslide4sense/TestData/img/image_419.h5', 'landslide4sense/TestData/img/image_42.h5', 'landslide4sense/TestData/img/image_420.h5', 'landslide4sense/TestData/img/image_421.h5', 'landslide4sense/TestData/img/image_422.h5', 'landslide4sense/TestData/img/image_423.h5', 'landslide4sense/TestData/img/image_424.h5', 'landslide4sense/TestData/img/image_425.h5', 'landslide4sense/TestData/img/image_426.h5', 'landslide4sense/TestData/img/image_427.h5', 'landslide4sense/TestData/img/image_428.h5', 'landslide4sense/TestData/img/image_429.h5', 'landslide4sense/TestData/img/image_43.h5', 'landslide4sense/TestData/img/image_430.h5', 'landslide4sense/TestData/img/image_431.h5', 'landslide4sense/TestData/img/image_432.h5', 'landslide4sense/TestData/img/image_433.h5', 'landslide4sense/TestData/img/image_434.h5', 'landslide4sense/TestData/img/image_435.h5', 'landslide4sense/TestData/img/image_436.h5', 'landslide4sense/TestData/img/image_437.h5', 'landslide4sense/TestData/img/image_438.h5', 'landslide4sense/TestData/img/image_439.h5', 'landslide4sense/TestData/img/image_44.h5', 'landslide4sense/TestData/img/image_440.h5', 'landslide4sense/TestData/img/image_441.h5', 'landslide4sense/TestData/img/image_442.h5', 'landslide4sense/TestData/img/image_443.h5', 'landslide4sense/TestData/img/image_444.h5', 'landslide4sense/TestData/img/image_445.h5', 'landslide4sense/TestData/img/image_446.h5', 'landslide4sense/TestData/img/image_447.h5', 'landslide4sense/TestData/img/image_448.h5', 'landslide4sense/TestData/img/image_449.h5', 'landslide4sense/TestData/img/image_45.h5', 'landslide4sense/TestData/img/image_450.h5', 'landslide4sense/TestData/img/image_451.h5', 'landslide4sense/TestData/img/image_452.h5', 'landslide4sense/TestData/img/image_453.h5', 'landslide4sense/TestData/img/image_454.h5', 'landslide4sense/TestData/img/image_455.h5', 'landslide4sense/TestData/img/image_456.h5', 'landslide4sense/TestData/img/image_457.h5', 'landslide4sense/TestData/img/image_458.h5', 'landslide4sense/TestData/img/image_459.h5', 'landslide4sense/TestData/img/image_46.h5', 'landslide4sense/TestData/img/image_460.h5', 'landslide4sense/TestData/img/image_461.h5', 'landslide4sense/TestData/img/image_462.h5', 'landslide4sense/TestData/img/image_463.h5', 'landslide4sense/TestData/img/image_464.h5', 'landslide4sense/TestData/img/image_465.h5', 'landslide4sense/TestData/img/image_466.h5', 'landslide4sense/TestData/img/image_467.h5', 'landslide4sense/TestData/img/image_468.h5', 'landslide4sense/TestData/img/image_469.h5', 'landslide4sense/TestData/img/image_47.h5', 'landslide4sense/TestData/img/image_470.h5', 'landslide4sense/TestData/img/image_471.h5', 'landslide4sense/TestData/img/image_472.h5', 'landslide4sense/TestData/img/image_473.h5', 'landslide4sense/TestData/img/image_474.h5', 'landslide4sense/TestData/img/image_475.h5', 'landslide4sense/TestData/img/image_476.h5', 'landslide4sense/TestData/img/image_477.h5', 'landslide4sense/TestData/img/image_478.h5', 'landslide4sense/TestData/img/image_479.h5', 'landslide4sense/TestData/img/image_48.h5', 'landslide4sense/TestData/img/image_480.h5', 'landslide4sense/TestData/img/image_481.h5', 'landslide4sense/TestData/img/image_482.h5', 'landslide4sense/TestData/img/image_483.h5', 'landslide4sense/TestData/img/image_484.h5', 'landslide4sense/TestData/img/image_485.h5', 'landslide4sense/TestData/img/image_486.h5', 'landslide4sense/TestData/img/image_487.h5', 'landslide4sense/TestData/img/image_488.h5', 'landslide4sense/TestData/img/image_489.h5', 'landslide4sense/TestData/img/image_49.h5', 'landslide4sense/TestData/img/image_490.h5', 'landslide4sense/TestData/img/image_491.h5', 'landslide4sense/TestData/img/image_492.h5', 'landslide4sense/TestData/img/image_493.h5', 'landslide4sense/TestData/img/image_494.h5', 'landslide4sense/TestData/img/image_495.h5', 'landslide4sense/TestData/img/image_496.h5', 'landslide4sense/TestData/img/image_497.h5', 'landslide4sense/TestData/img/image_498.h5', 'landslide4sense/TestData/img/image_499.h5', 'landslide4sense/TestData/img/image_5.h5', 'landslide4sense/TestData/img/image_50.h5', 'landslide4sense/TestData/img/image_500.h5', 'landslide4sense/TestData/img/image_501.h5', 'landslide4sense/TestData/img/image_502.h5', 'landslide4sense/TestData/img/image_503.h5', 'landslide4sense/TestData/img/image_504.h5', 'landslide4sense/TestData/img/image_505.h5', 'landslide4sense/TestData/img/image_506.h5', 'landslide4sense/TestData/img/image_507.h5', 'landslide4sense/TestData/img/image_508.h5', 'landslide4sense/TestData/img/image_509.h5', 'landslide4sense/TestData/img/image_51.h5', 'landslide4sense/TestData/img/image_510.h5', 'landslide4sense/TestData/img/image_511.h5', 'landslide4sense/TestData/img/image_512.h5', 'landslide4sense/TestData/img/image_513.h5', 'landslide4sense/TestData/img/image_514.h5', 'landslide4sense/TestData/img/image_515.h5', 'landslide4sense/TestData/img/image_516.h5', 'landslide4sense/TestData/img/image_517.h5', 'landslide4sense/TestData/img/image_518.h5', 'landslide4sense/TestData/img/image_519.h5', 'landslide4sense/TestData/img/image_52.h5', 'landslide4sense/TestData/img/image_520.h5', 'landslide4sense/TestData/img/image_521.h5', 'landslide4sense/TestData/img/image_522.h5', 'landslide4sense/TestData/img/image_523.h5', 'landslide4sense/TestData/img/image_524.h5', 'landslide4sense/TestData/img/image_525.h5', 'landslide4sense/TestData/img/image_526.h5', 'landslide4sense/TestData/img/image_527.h5', 'landslide4sense/TestData/img/image_528.h5', 'landslide4sense/TestData/img/image_529.h5', 'landslide4sense/TestData/img/image_53.h5', 'landslide4sense/TestData/img/image_530.h5', 'landslide4sense/TestData/img/image_531.h5', 'landslide4sense/TestData/img/image_532.h5', 'landslide4sense/TestData/img/image_533.h5', 'landslide4sense/TestData/img/image_534.h5', 'landslide4sense/TestData/img/image_535.h5', 'landslide4sense/TestData/img/image_536.h5', 'landslide4sense/TestData/img/image_537.h5', 'landslide4sense/TestData/img/image_538.h5', 'landslide4sense/TestData/img/image_539.h5', 'landslide4sense/TestData/img/image_54.h5', 'landslide4sense/TestData/img/image_540.h5', 'landslide4sense/TestData/img/image_541.h5', 'landslide4sense/TestData/img/image_542.h5', 'landslide4sense/TestData/img/image_543.h5', 'landslide4sense/TestData/img/image_544.h5', 'landslide4sense/TestData/img/image_545.h5', 'landslide4sense/TestData/img/image_546.h5', 'landslide4sense/TestData/img/image_547.h5', 'landslide4sense/TestData/img/image_548.h5', 'landslide4sense/TestData/img/image_549.h5', 'landslide4sense/TestData/img/image_55.h5', 'landslide4sense/TestData/img/image_550.h5', 'landslide4sense/TestData/img/image_551.h5', 'landslide4sense/TestData/img/image_552.h5', 'landslide4sense/TestData/img/image_553.h5', 'landslide4sense/TestData/img/image_554.h5', 'landslide4sense/TestData/img/image_555.h5', 'landslide4sense/TestData/img/image_556.h5', 'landslide4sense/TestData/img/image_557.h5', 'landslide4sense/TestData/img/image_558.h5', 'landslide4sense/TestData/img/image_559.h5', 'landslide4sense/TestData/img/image_56.h5', 'landslide4sense/TestData/img/image_560.h5', 'landslide4sense/TestData/img/image_561.h5', 'landslide4sense/TestData/img/image_562.h5', 'landslide4sense/TestData/img/image_563.h5', 'landslide4sense/TestData/img/image_564.h5', 'landslide4sense/TestData/img/image_565.h5', 'landslide4sense/TestData/img/image_566.h5', 'landslide4sense/TestData/img/image_567.h5', 'landslide4sense/TestData/img/image_568.h5', 'landslide4sense/TestData/img/image_569.h5', 'landslide4sense/TestData/img/image_57.h5', 'landslide4sense/TestData/img/image_570.h5', 'landslide4sense/TestData/img/image_571.h5', 'landslide4sense/TestData/img/image_572.h5', 'landslide4sense/TestData/img/image_573.h5', 'landslide4sense/TestData/img/image_574.h5', 'landslide4sense/TestData/img/image_575.h5', 'landslide4sense/TestData/img/image_576.h5', 'landslide4sense/TestData/img/image_577.h5', 'landslide4sense/TestData/img/image_578.h5', 'landslide4sense/TestData/img/image_579.h5', 'landslide4sense/TestData/img/image_58.h5', 'landslide4sense/TestData/img/image_580.h5', 'landslide4sense/TestData/img/image_581.h5', 'landslide4sense/TestData/img/image_582.h5', 'landslide4sense/TestData/img/image_583.h5', 'landslide4sense/TestData/img/image_584.h5', 'landslide4sense/TestData/img/image_585.h5', 'landslide4sense/TestData/img/image_586.h5', 'landslide4sense/TestData/img/image_587.h5', 'landslide4sense/TestData/img/image_588.h5', 'landslide4sense/TestData/img/image_589.h5', 'landslide4sense/TestData/img/image_59.h5', 'landslide4sense/TestData/img/image_590.h5', 'landslide4sense/TestData/img/image_591.h5', 'landslide4sense/TestData/img/image_592.h5', 'landslide4sense/TestData/img/image_593.h5', 'landslide4sense/TestData/img/image_594.h5', 'landslide4sense/TestData/img/image_595.h5', 'landslide4sense/TestData/img/image_596.h5', 'landslide4sense/TestData/img/image_597.h5', 'landslide4sense/TestData/img/image_598.h5', 'landslide4sense/TestData/img/image_599.h5', 'landslide4sense/TestData/img/image_6.h5', 'landslide4sense/TestData/img/image_60.h5', 'landslide4sense/TestData/img/image_600.h5', 'landslide4sense/TestData/img/image_601.h5', 'landslide4sense/TestData/img/image_602.h5', 'landslide4sense/TestData/img/image_603.h5', 'landslide4sense/TestData/img/image_604.h5', 'landslide4sense/TestData/img/image_605.h5', 'landslide4sense/TestData/img/image_606.h5', 'landslide4sense/TestData/img/image_607.h5', 'landslide4sense/TestData/img/image_608.h5', 'landslide4sense/TestData/img/image_609.h5', 'landslide4sense/TestData/img/image_61.h5', 'landslide4sense/TestData/img/image_610.h5', 'landslide4sense/TestData/img/image_611.h5', 'landslide4sense/TestData/img/image_612.h5', 'landslide4sense/TestData/img/image_613.h5', 'landslide4sense/TestData/img/image_614.h5', 'landslide4sense/TestData/img/image_615.h5', 'landslide4sense/TestData/img/image_616.h5', 'landslide4sense/TestData/img/image_617.h5', 'landslide4sense/TestData/img/image_618.h5', 'landslide4sense/TestData/img/image_619.h5', 'landslide4sense/TestData/img/image_62.h5', 'landslide4sense/TestData/img/image_620.h5', 'landslide4sense/TestData/img/image_621.h5', 'landslide4sense/TestData/img/image_622.h5', 'landslide4sense/TestData/img/image_623.h5', 'landslide4sense/TestData/img/image_624.h5', 'landslide4sense/TestData/img/image_625.h5', 'landslide4sense/TestData/img/image_626.h5', 'landslide4sense/TestData/img/image_627.h5', 'landslide4sense/TestData/img/image_628.h5', 'landslide4sense/TestData/img/image_629.h5', 'landslide4sense/TestData/img/image_63.h5', 'landslide4sense/TestData/img/image_630.h5', 'landslide4sense/TestData/img/image_631.h5', 'landslide4sense/TestData/img/image_632.h5', 'landslide4sense/TestData/img/image_633.h5', 'landslide4sense/TestData/img/image_634.h5', 'landslide4sense/TestData/img/image_635.h5', 'landslide4sense/TestData/img/image_636.h5', 'landslide4sense/TestData/img/image_637.h5', 'landslide4sense/TestData/img/image_638.h5', 'landslide4sense/TestData/img/image_639.h5', 'landslide4sense/TestData/img/image_64.h5', 'landslide4sense/TestData/img/image_640.h5', 'landslide4sense/TestData/img/image_641.h5', 'landslide4sense/TestData/img/image_642.h5', 'landslide4sense/TestData/img/image_643.h5', 'landslide4sense/TestData/img/image_644.h5', 'landslide4sense/TestData/img/image_645.h5', 'landslide4sense/TestData/img/image_646.h5', 'landslide4sense/TestData/img/image_647.h5', 'landslide4sense/TestData/img/image_648.h5', 'landslide4sense/TestData/img/image_649.h5', 'landslide4sense/TestData/img/image_65.h5', 'landslide4sense/TestData/img/image_650.h5', 'landslide4sense/TestData/img/image_651.h5', 'landslide4sense/TestData/img/image_652.h5', 'landslide4sense/TestData/img/image_653.h5', 'landslide4sense/TestData/img/image_654.h5', 'landslide4sense/TestData/img/image_655.h5', 'landslide4sense/TestData/img/image_656.h5', 'landslide4sense/TestData/img/image_657.h5', 'landslide4sense/TestData/img/image_658.h5', 'landslide4sense/TestData/img/image_659.h5', 'landslide4sense/TestData/img/image_66.h5', 'landslide4sense/TestData/img/image_660.h5', 'landslide4sense/TestData/img/image_661.h5', 'landslide4sense/TestData/img/image_662.h5', 'landslide4sense/TestData/img/image_663.h5', 'landslide4sense/TestData/img/image_664.h5', 'landslide4sense/TestData/img/image_665.h5', 'landslide4sense/TestData/img/image_666.h5', 'landslide4sense/TestData/img/image_667.h5', 'landslide4sense/TestData/img/image_668.h5', 'landslide4sense/TestData/img/image_669.h5', 'landslide4sense/TestData/img/image_67.h5', 'landslide4sense/TestData/img/image_670.h5', 'landslide4sense/TestData/img/image_671.h5', 'landslide4sense/TestData/img/image_672.h5', 'landslide4sense/TestData/img/image_673.h5', 'landslide4sense/TestData/img/image_674.h5', 'landslide4sense/TestData/img/image_675.h5', 'landslide4sense/TestData/img/image_676.h5', 'landslide4sense/TestData/img/image_677.h5', 'landslide4sense/TestData/img/image_678.h5', 'landslide4sense/TestData/img/image_679.h5', 'landslide4sense/TestData/img/image_68.h5', 'landslide4sense/TestData/img/image_680.h5', 'landslide4sense/TestData/img/image_681.h5', 'landslide4sense/TestData/img/image_682.h5', 'landslide4sense/TestData/img/image_683.h5', 'landslide4sense/TestData/img/image_684.h5', 'landslide4sense/TestData/img/image_685.h5', 'landslide4sense/TestData/img/image_686.h5', 'landslide4sense/TestData/img/image_687.h5', 'landslide4sense/TestData/img/image_688.h5', 'landslide4sense/TestData/img/image_689.h5', 'landslide4sense/TestData/img/image_69.h5', 'landslide4sense/TestData/img/image_690.h5', 'landslide4sense/TestData/img/image_691.h5', 'landslide4sense/TestData/img/image_692.h5', 'landslide4sense/TestData/img/image_693.h5', 'landslide4sense/TestData/img/image_694.h5', 'landslide4sense/TestData/img/image_695.h5', 'landslide4sense/TestData/img/image_696.h5', 'landslide4sense/TestData/img/image_697.h5', 'landslide4sense/TestData/img/image_698.h5', 'landslide4sense/TestData/img/image_699.h5', 'landslide4sense/TestData/img/image_7.h5', 'landslide4sense/TestData/img/image_70.h5', 'landslide4sense/TestData/img/image_700.h5', 'landslide4sense/TestData/img/image_701.h5', 'landslide4sense/TestData/img/image_702.h5', 'landslide4sense/TestData/img/image_703.h5', 'landslide4sense/TestData/img/image_704.h5', 'landslide4sense/TestData/img/image_705.h5', 'landslide4sense/TestData/img/image_706.h5', 'landslide4sense/TestData/img/image_707.h5', 'landslide4sense/TestData/img/image_708.h5', 'landslide4sense/TestData/img/image_709.h5', 'landslide4sense/TestData/img/image_71.h5', 'landslide4sense/TestData/img/image_710.h5', 'landslide4sense/TestData/img/image_711.h5', 'landslide4sense/TestData/img/image_712.h5', 'landslide4sense/TestData/img/image_713.h5', 'landslide4sense/TestData/img/image_714.h5', 'landslide4sense/TestData/img/image_715.h5', 'landslide4sense/TestData/img/image_716.h5', 'landslide4sense/TestData/img/image_717.h5', 'landslide4sense/TestData/img/image_718.h5', 'landslide4sense/TestData/img/image_719.h5', 'landslide4sense/TestData/img/image_72.h5', 'landslide4sense/TestData/img/image_720.h5', 'landslide4sense/TestData/img/image_721.h5', 'landslide4sense/TestData/img/image_722.h5', 'landslide4sense/TestData/img/image_723.h5', 'landslide4sense/TestData/img/image_724.h5', 'landslide4sense/TestData/img/image_725.h5', 'landslide4sense/TestData/img/image_726.h5', 'landslide4sense/TestData/img/image_727.h5', 'landslide4sense/TestData/img/image_728.h5', 'landslide4sense/TestData/img/image_729.h5', 'landslide4sense/TestData/img/image_73.h5', 'landslide4sense/TestData/img/image_730.h5', 'landslide4sense/TestData/img/image_731.h5', 'landslide4sense/TestData/img/image_732.h5', 'landslide4sense/TestData/img/image_733.h5', 'landslide4sense/TestData/img/image_734.h5', 'landslide4sense/TestData/img/image_735.h5', 'landslide4sense/TestData/img/image_736.h5', 'landslide4sense/TestData/img/image_737.h5', 'landslide4sense/TestData/img/image_738.h5', 'landslide4sense/TestData/img/image_739.h5', 'landslide4sense/TestData/img/image_74.h5', 'landslide4sense/TestData/img/image_740.h5', 'landslide4sense/TestData/img/image_741.h5', 'landslide4sense/TestData/img/image_742.h5', 'landslide4sense/TestData/img/image_743.h5', 'landslide4sense/TestData/img/image_744.h5', 'landslide4sense/TestData/img/image_745.h5', 'landslide4sense/TestData/img/image_746.h5', 'landslide4sense/TestData/img/image_747.h5', 'landslide4sense/TestData/img/image_748.h5', 'landslide4sense/TestData/img/image_749.h5', 'landslide4sense/TestData/img/image_75.h5', 'landslide4sense/TestData/img/image_750.h5', 'landslide4sense/TestData/img/image_751.h5', 'landslide4sense/TestData/img/image_752.h5', 'landslide4sense/TestData/img/image_753.h5', 'landslide4sense/TestData/img/image_754.h5', 'landslide4sense/TestData/img/image_755.h5', 'landslide4sense/TestData/img/image_756.h5', 'landslide4sense/TestData/img/image_757.h5', 'landslide4sense/TestData/img/image_758.h5', 'landslide4sense/TestData/img/image_759.h5', 'landslide4sense/TestData/img/image_76.h5', 'landslide4sense/TestData/img/image_760.h5', 'landslide4sense/TestData/img/image_761.h5', 'landslide4sense/TestData/img/image_762.h5', 'landslide4sense/TestData/img/image_763.h5', 'landslide4sense/TestData/img/image_764.h5', 'landslide4sense/TestData/img/image_765.h5', 'landslide4sense/TestData/img/image_766.h5', 'landslide4sense/TestData/img/image_767.h5', 'landslide4sense/TestData/img/image_768.h5', 'landslide4sense/TestData/img/image_769.h5', 'landslide4sense/TestData/img/image_77.h5', 'landslide4sense/TestData/img/image_770.h5', 'landslide4sense/TestData/img/image_771.h5', 'landslide4sense/TestData/img/image_772.h5', 'landslide4sense/TestData/img/image_773.h5', 'landslide4sense/TestData/img/image_774.h5', 'landslide4sense/TestData/img/image_775.h5', 'landslide4sense/TestData/img/image_776.h5', 'landslide4sense/TestData/img/image_777.h5', 'landslide4sense/TestData/img/image_778.h5', 'landslide4sense/TestData/img/image_779.h5', 'landslide4sense/TestData/img/image_78.h5', 'landslide4sense/TestData/img/image_780.h5', 'landslide4sense/TestData/img/image_781.h5', 'landslide4sense/TestData/img/image_782.h5', 'landslide4sense/TestData/img/image_783.h5', 'landslide4sense/TestData/img/image_784.h5', 'landslide4sense/TestData/img/image_785.h5', 'landslide4sense/TestData/img/image_786.h5', 'landslide4sense/TestData/img/image_787.h5', 'landslide4sense/TestData/img/image_788.h5', 'landslide4sense/TestData/img/image_789.h5', 'landslide4sense/TestData/img/image_79.h5', 'landslide4sense/TestData/img/image_790.h5', 'landslide4sense/TestData/img/image_791.h5', 'landslide4sense/TestData/img/image_792.h5', 'landslide4sense/TestData/img/image_793.h5', 'landslide4sense/TestData/img/image_794.h5', 'landslide4sense/TestData/img/image_795.h5', 'landslide4sense/TestData/img/image_796.h5', 'landslide4sense/TestData/img/image_797.h5', 'landslide4sense/TestData/img/image_798.h5', 'landslide4sense/TestData/img/image_799.h5', 'landslide4sense/TestData/img/image_8.h5', 'landslide4sense/TestData/img/image_80.h5', 'landslide4sense/TestData/img/image_800.h5', 'landslide4sense/TestData/img/image_81.h5', 'landslide4sense/TestData/img/image_82.h5', 'landslide4sense/TestData/img/image_83.h5', 'landslide4sense/TestData/img/image_84.h5', 'landslide4sense/TestData/img/image_85.h5', 'landslide4sense/TestData/img/image_86.h5', 'landslide4sense/TestData/img/image_87.h5', 'landslide4sense/TestData/img/image_88.h5', 'landslide4sense/TestData/img/image_89.h5', 'landslide4sense/TestData/img/image_9.h5', 'landslide4sense/TestData/img/image_90.h5', 'landslide4sense/TestData/img/image_91.h5', 'landslide4sense/TestData/img/image_92.h5', 'landslide4sense/TestData/img/image_93.h5', 'landslide4sense/TestData/img/image_94.h5', 'landslide4sense/TestData/img/image_95.h5', 'landslide4sense/TestData/img/image_96.h5', 'landslide4sense/TestData/img/image_97.h5', 'landslide4sense/TestData/img/image_98.h5', 'landslide4sense/TestData/img/image_99.h5']\n"
          ]
        }
      ]
    },
    {
      "cell_type": "code",
      "source": [
        "for i, (img) in enumerate(all_test):\n",
        "\n",
        "    with h5py.File(img) as hdf:\n",
        "        ls = list(hdf.keys())\n",
        "        data = np.array(hdf.get('img'))\n",
        "\n",
        "\n",
        "        data[np.isnan(data)] = 0.000001\n",
        "\n",
        "\n",
        "        mid_rgb = data[:, :, 1:4].max() / 2.0\n",
        "        mid_slope = data[:, :, 12].max() / 2.0\n",
        "        mid_elevation = data[:, :, 13].max() / 2.0\n",
        "\n",
        "\n",
        "        data_red = data[:, :, 3]\n",
        "        data_nir = data[:, :, 7]\n",
        "        data_ndvi = np.divide(data_nir - data_red,np.add(data_nir, data_red))\n",
        "\n",
        "\n",
        "        TEST_XX[i, :, :, 0] = 1 - data[:, :, 3] / mid_rgb  #RED\n",
        "        TEST_XX[i, :, :, 1] = 1 - data[:, :, 2] / mid_rgb #GREEN\n",
        "        TEST_XX[i, :, :, 2] = 1 - data[:, :, 1] / mid_rgb #BLUE\n",
        "        TEST_XX[i, :, :, 3] = data_ndvi #NDVI\n",
        "        TEST_XX[i, :, :, 4] = 1 - data[:, :, 12] / mid_slope #SLOPE\n",
        "        TEST_XX[i, :, :, 5] = 1 - data[:, :, 13] / mid_elevation #ELEVATION\n",
        "\n",
        "\n",
        "\n"
      ],
      "metadata": {
        "colab": {
          "base_uri": "https://localhost:8080/"
        },
        "id": "c9fVzAjt9KXq",
        "outputId": "f37bad00-25cd-4223-9c6a-bb00c636f020"
      },
      "execution_count": null,
      "outputs": [
        {
          "output_type": "stream",
          "name": "stderr",
          "text": [
            "<ipython-input-10-6073fd094164>:18: RuntimeWarning: invalid value encountered in divide\n",
            "  data_ndvi = np.divide(data_nir - data_red,np.add(data_nir, data_red))\n"
          ]
        }
      ]
    },
    {
      "cell_type": "code",
      "source": [
        "for i, (img) in enumerate(all_train):\n",
        "\n",
        "    with h5py.File(img) as hdf:\n",
        "        ls = list(hdf.keys())\n",
        "        data = np.array(hdf.get('img'))\n",
        "\n",
        "\n",
        "        data[np.isnan(data)] = 0.000001\n",
        "\n",
        "\n",
        "        mid_rgb = data[:, :, 1:4].max() / 2.0\n",
        "        mid_slope = data[:, :, 12].max() / 2.0\n",
        "        mid_elevation = data[:, :, 13].max() / 2.0\n",
        "\n",
        "\n",
        "        data_red = data[:, :, 3]\n",
        "        data_nir = data[:, :, 7]\n",
        "        data_ndvi = np.divide(data_nir - data_red,np.add(data_nir, data_red))\n",
        "\n",
        "\n",
        "        TEST_XX[i, :, :, 0] = 1 - data[:, :, 3] / mid_rgb  #RED\n",
        "        TEST_XX[i, :, :, 1] = 1 - data[:, :, 2] / mid_rgb #GREEN\n",
        "        TEST_XX[i, :, :, 2] = 1 - data[:, :, 1] / mid_rgb #BLUE\n",
        "        TEST_XX[i, :, :, 3] = data_ndvi #NDVI\n",
        "        TEST_XX[i, :, :, 4] = 1 - data[:, :, 12] / mid_slope #SLOPE\n",
        "        TEST_XX[i, :, :, 5] = 1 - data[:, :, 13] / mid_elevation #ELEVATION"
      ],
      "metadata": {
        "colab": {
          "base_uri": "https://localhost:8080/"
        },
        "id": "mh5OSaLRy0IR",
        "outputId": "fe4331f9-aa98-4a96-83f2-9a840fe44534"
      },
      "execution_count": null,
      "outputs": [
        {
          "output_type": "stream",
          "name": "stderr",
          "text": [
            "<ipython-input-15-622b8d44279f>:25: RuntimeWarning: invalid value encountered in divide\n",
            "  TEST_XX[i, :, :, 4] = 1 - data[:, :, 12] / mid_slope #SLOPE\n",
            "<ipython-input-15-622b8d44279f>:18: RuntimeWarning: invalid value encountered in divide\n",
            "  data_ndvi = np.divide(data_nir - data_red,np.add(data_nir, data_red))\n"
          ]
        }
      ]
    },
    {
      "cell_type": "code",
      "source": [
        "for i, (img, mask) in enumerate(zip(all_train, all_mask)):\n",
        "\n",
        "\n",
        "\n",
        "    with h5py.File(mask) as hdf:\n",
        "        ls = list(hdf.keys())\n",
        "        data=np.array(hdf.get('mask'))\n",
        "        TRAIN_YY[i, :, :, 0] = data"
      ],
      "metadata": {
        "id": "n126IS1P_Unn"
      },
      "execution_count": null,
      "outputs": []
    },
    {
      "cell_type": "code",
      "source": [
        "threshold = 0.5\n",
        "pred_img = model.predict(TEST_XX)\n",
        "pred_img = (pred_img > threshold).astype(np.uint8)"
      ],
      "metadata": {
        "colab": {
          "base_uri": "https://localhost:8080/"
        },
        "id": "gSvLPvBF6_UH",
        "outputId": "35aaf038-27a8-4132-e681-2839bee57243"
      },
      "execution_count": null,
      "outputs": [
        {
          "output_type": "stream",
          "name": "stdout",
          "text": [
            "\u001b[1m119/119\u001b[0m \u001b[32m━━━━━━━━━━━━━━━━━━━━\u001b[0m\u001b[37m\u001b[0m \u001b[1m187s\u001b[0m 2s/step\n"
          ]
        }
      ]
    },
    {
      "cell_type": "code",
      "source": [
        "TRAIN_YY"
      ],
      "metadata": {
        "colab": {
          "base_uri": "https://localhost:8080/"
        },
        "id": "E-2aJSTMA9Oq",
        "outputId": "52a3936f-04b8-4d85-e45f-db44d0f8d72a"
      },
      "execution_count": null,
      "outputs": [
        {
          "output_type": "execute_result",
          "data": {
            "text/plain": [
              "array([[[[0.],\n",
              "         [0.],\n",
              "         [0.],\n",
              "         ...,\n",
              "         [0.],\n",
              "         [0.],\n",
              "         [1.]],\n",
              "\n",
              "        [[0.],\n",
              "         [0.],\n",
              "         [0.],\n",
              "         ...,\n",
              "         [0.],\n",
              "         [0.],\n",
              "         [0.]],\n",
              "\n",
              "        [[0.],\n",
              "         [0.],\n",
              "         [0.],\n",
              "         ...,\n",
              "         [0.],\n",
              "         [0.],\n",
              "         [0.]],\n",
              "\n",
              "        ...,\n",
              "\n",
              "        [[0.],\n",
              "         [0.],\n",
              "         [0.],\n",
              "         ...,\n",
              "         [0.],\n",
              "         [0.],\n",
              "         [0.]],\n",
              "\n",
              "        [[0.],\n",
              "         [0.],\n",
              "         [0.],\n",
              "         ...,\n",
              "         [0.],\n",
              "         [0.],\n",
              "         [0.]],\n",
              "\n",
              "        [[0.],\n",
              "         [0.],\n",
              "         [0.],\n",
              "         ...,\n",
              "         [0.],\n",
              "         [0.],\n",
              "         [0.]]],\n",
              "\n",
              "\n",
              "       [[[0.],\n",
              "         [0.],\n",
              "         [0.],\n",
              "         ...,\n",
              "         [0.],\n",
              "         [0.],\n",
              "         [0.]],\n",
              "\n",
              "        [[0.],\n",
              "         [0.],\n",
              "         [0.],\n",
              "         ...,\n",
              "         [0.],\n",
              "         [0.],\n",
              "         [0.]],\n",
              "\n",
              "        [[0.],\n",
              "         [0.],\n",
              "         [0.],\n",
              "         ...,\n",
              "         [0.],\n",
              "         [0.],\n",
              "         [0.]],\n",
              "\n",
              "        ...,\n",
              "\n",
              "        [[0.],\n",
              "         [0.],\n",
              "         [0.],\n",
              "         ...,\n",
              "         [0.],\n",
              "         [0.],\n",
              "         [0.]],\n",
              "\n",
              "        [[0.],\n",
              "         [0.],\n",
              "         [0.],\n",
              "         ...,\n",
              "         [0.],\n",
              "         [0.],\n",
              "         [0.]],\n",
              "\n",
              "        [[0.],\n",
              "         [0.],\n",
              "         [0.],\n",
              "         ...,\n",
              "         [0.],\n",
              "         [0.],\n",
              "         [0.]]],\n",
              "\n",
              "\n",
              "       [[[0.],\n",
              "         [0.],\n",
              "         [0.],\n",
              "         ...,\n",
              "         [0.],\n",
              "         [0.],\n",
              "         [0.]],\n",
              "\n",
              "        [[0.],\n",
              "         [0.],\n",
              "         [0.],\n",
              "         ...,\n",
              "         [0.],\n",
              "         [0.],\n",
              "         [0.]],\n",
              "\n",
              "        [[0.],\n",
              "         [0.],\n",
              "         [0.],\n",
              "         ...,\n",
              "         [0.],\n",
              "         [0.],\n",
              "         [0.]],\n",
              "\n",
              "        ...,\n",
              "\n",
              "        [[0.],\n",
              "         [0.],\n",
              "         [0.],\n",
              "         ...,\n",
              "         [0.],\n",
              "         [0.],\n",
              "         [0.]],\n",
              "\n",
              "        [[0.],\n",
              "         [0.],\n",
              "         [0.],\n",
              "         ...,\n",
              "         [0.],\n",
              "         [0.],\n",
              "         [0.]],\n",
              "\n",
              "        [[0.],\n",
              "         [0.],\n",
              "         [0.],\n",
              "         ...,\n",
              "         [0.],\n",
              "         [0.],\n",
              "         [0.]]],\n",
              "\n",
              "\n",
              "       ...,\n",
              "\n",
              "\n",
              "       [[[0.],\n",
              "         [0.],\n",
              "         [0.],\n",
              "         ...,\n",
              "         [0.],\n",
              "         [0.],\n",
              "         [0.]],\n",
              "\n",
              "        [[0.],\n",
              "         [0.],\n",
              "         [0.],\n",
              "         ...,\n",
              "         [0.],\n",
              "         [0.],\n",
              "         [0.]],\n",
              "\n",
              "        [[0.],\n",
              "         [0.],\n",
              "         [0.],\n",
              "         ...,\n",
              "         [0.],\n",
              "         [0.],\n",
              "         [0.]],\n",
              "\n",
              "        ...,\n",
              "\n",
              "        [[0.],\n",
              "         [0.],\n",
              "         [0.],\n",
              "         ...,\n",
              "         [0.],\n",
              "         [0.],\n",
              "         [0.]],\n",
              "\n",
              "        [[0.],\n",
              "         [0.],\n",
              "         [0.],\n",
              "         ...,\n",
              "         [0.],\n",
              "         [0.],\n",
              "         [0.]],\n",
              "\n",
              "        [[0.],\n",
              "         [0.],\n",
              "         [0.],\n",
              "         ...,\n",
              "         [0.],\n",
              "         [0.],\n",
              "         [0.]]],\n",
              "\n",
              "\n",
              "       [[[0.],\n",
              "         [0.],\n",
              "         [0.],\n",
              "         ...,\n",
              "         [0.],\n",
              "         [0.],\n",
              "         [0.]],\n",
              "\n",
              "        [[0.],\n",
              "         [0.],\n",
              "         [0.],\n",
              "         ...,\n",
              "         [0.],\n",
              "         [0.],\n",
              "         [0.]],\n",
              "\n",
              "        [[0.],\n",
              "         [0.],\n",
              "         [0.],\n",
              "         ...,\n",
              "         [0.],\n",
              "         [0.],\n",
              "         [0.]],\n",
              "\n",
              "        ...,\n",
              "\n",
              "        [[0.],\n",
              "         [0.],\n",
              "         [0.],\n",
              "         ...,\n",
              "         [0.],\n",
              "         [0.],\n",
              "         [0.]],\n",
              "\n",
              "        [[0.],\n",
              "         [0.],\n",
              "         [0.],\n",
              "         ...,\n",
              "         [0.],\n",
              "         [0.],\n",
              "         [0.]],\n",
              "\n",
              "        [[0.],\n",
              "         [0.],\n",
              "         [0.],\n",
              "         ...,\n",
              "         [0.],\n",
              "         [0.],\n",
              "         [0.]]],\n",
              "\n",
              "\n",
              "       [[[0.],\n",
              "         [0.],\n",
              "         [0.],\n",
              "         ...,\n",
              "         [0.],\n",
              "         [0.],\n",
              "         [0.]],\n",
              "\n",
              "        [[0.],\n",
              "         [0.],\n",
              "         [0.],\n",
              "         ...,\n",
              "         [0.],\n",
              "         [0.],\n",
              "         [0.]],\n",
              "\n",
              "        [[0.],\n",
              "         [0.],\n",
              "         [0.],\n",
              "         ...,\n",
              "         [0.],\n",
              "         [0.],\n",
              "         [0.]],\n",
              "\n",
              "        ...,\n",
              "\n",
              "        [[0.],\n",
              "         [0.],\n",
              "         [0.],\n",
              "         ...,\n",
              "         [0.],\n",
              "         [0.],\n",
              "         [0.]],\n",
              "\n",
              "        [[0.],\n",
              "         [0.],\n",
              "         [0.],\n",
              "         ...,\n",
              "         [0.],\n",
              "         [0.],\n",
              "         [0.]],\n",
              "\n",
              "        [[0.],\n",
              "         [0.],\n",
              "         [0.],\n",
              "         ...,\n",
              "         [0.],\n",
              "         [0.],\n",
              "         [0.]]]])"
            ]
          },
          "metadata": {},
          "execution_count": 35
        }
      ]
    },
    {
      "cell_type": "code",
      "source": [
        "import numpy as np\n",
        "from sklearn.metrics import accuracy_score, precision_score, recall_score, f1_score, confusion_matrix\n",
        "\n",
        "\n",
        "TRAIN_YY = np.nan_to_num(TRAIN_YY, nan=0)\n",
        "\n",
        "ground_truth = TRAIN_YY.flatten()\n",
        "predictions = pred_img.flatten()\n",
        "\n",
        "\n",
        "accuracy = accuracy_score(ground_truth, predictions)\n",
        "precision = precision_score(ground_truth, predictions, average='binary')\n",
        "recall = recall_score(ground_truth, predictions, average='binary')\n",
        "f1 = f1_score(ground_truth, predictions, average='binary')\n",
        "conf_matrix = confusion_matrix(ground_truth, predictions)\n",
        "\n",
        "\n",
        "print(f\"Accuracy: {accuracy}\")\n",
        "print(f\"Precision: {precision}\")\n",
        "print(f\"Recall: {recall}\")\n",
        "print(f\"F1 Score: {f1}\")\n",
        "print(f\"Confusion Matrix:\\n{conf_matrix}\")"
      ],
      "metadata": {
        "colab": {
          "base_uri": "https://localhost:8080/"
        },
        "id": "ExZaoEdSCHvB",
        "outputId": "428aabca-1361-4521-ebbf-8a14f56d2fcd"
      },
      "execution_count": null,
      "outputs": [
        {
          "output_type": "stream",
          "name": "stdout",
          "text": [
            "Accuracy: 0.9914807678367251\n",
            "Precision: 0.8658794660935739\n",
            "Recall: 0.7483985888452235\n",
            "F1 Score: 0.8028641268484009\n",
            "Confusion Matrix:\n",
            "[[60632773   167253]\n",
            " [  363008  1079782]]\n"
          ]
        }
      ]
    },
    {
      "cell_type": "code",
      "source": [
        "img = 70\n",
        "fig,(ax1,ax2)= plt.subplots(1,2,figsize=(15,10))\n",
        "ax1.imshow(pred_img[img, :, :, 0])\n",
        "ax1.set_title(\"Predictions\")\n",
        "\n",
        "ax2.imshow(TEST_XX[img, :, :, 0:3])\n",
        "ax2.set_title('Test Image')"
      ],
      "metadata": {
        "colab": {
          "base_uri": "https://localhost:8080/",
          "height": 646
        },
        "id": "847plObV7IMb",
        "outputId": "7dd804cc-72c6-4f18-d10b-fe46396b2a44"
      },
      "execution_count": null,
      "outputs": [
        {
          "output_type": "stream",
          "name": "stderr",
          "text": [
            "WARNING:matplotlib.image:Clipping input data to the valid range for imshow with RGB data ([0..1] for floats or [0..255] for integers).\n"
          ]
        },
        {
          "output_type": "execute_result",
          "data": {
            "text/plain": [
              "Text(0.5, 1.0, 'Test Image')"
            ]
          },
          "metadata": {},
          "execution_count": 25
        },
        {
          "output_type": "display_data",
          "data": {
            "text/plain": [
              "<Figure size 1500x1000 with 2 Axes>"
            ],
            "image/png": "[encoded data removed]"
          },
          "metadata": {}
        }
      ]
    },
    {
      "cell_type": "code",
      "source": [
        "TEST_XX2 = np.zeros((3799, 128, 128, 6))\n"
      ],
      "metadata": {
        "id": "5f3knqMc7K1i"
      },
      "execution_count": null,
      "outputs": []
    },
    {
      "cell_type": "code",
      "source": [],
      "metadata": {
        "id": "mjbyhuTM8vip"
      },
      "execution_count": null,
      "outputs": []
    },
    {
      "cell_type": "code",
      "source": [
        "def image_reshaping (image_array):\n",
        "  print(\"hi\")\n",
        "  print(image_array.shape)\n",
        "  row = image_array.shape[1]\n",
        "  column = image_array.shape[2]\n",
        "  print(row)\n",
        "  no_of_rows= row/120\n",
        "  no_of_columns = column/120\n",
        "\n",
        "\n",
        "\n",
        "\n",
        "\n",
        "\n",
        "\n",
        "\n"
      ],
      "metadata": {
        "id": "QoR9C_VL--5s"
      },
      "execution_count": null,
      "outputs": []
    },
    {
      "cell_type": "code",
      "source": [
        "from google.colab import drive\n",
        "drive.mount('/content/drive')"
      ],
      "metadata": {
        "colab": {
          "base_uri": "https://localhost:8080/"
        },
        "id": "1XFW2bx6UH19",
        "outputId": "c9e85e70-efda-4f51-9c51-1338782fb604"
      },
      "execution_count": null,
      "outputs": [
        {
          "output_type": "stream",
          "name": "stdout",
          "text": [
            "Mounted at /content/drive\n"
          ]
        }
      ]
    },
    {
      "cell_type": "code",
      "source": [
        "import h5py\n",
        "import numpy as np\n",
        "import matplotlib.pyplot as plt\n",
        "from skimage.transform import resize\n",
        "\n",
        "\n",
        "base_path = '/content/drive/MyDrive/nainital_sentinel/sentinel_bands.h5'\n",
        "\n",
        "band_numbers = [f'B{i:02d}' for i in range(1, 13)]\n",
        "image_arrays = []\n",
        "\n",
        "\n",
        "with h5py.File(base_path, 'r') as h5_file:\n",
        "\n",
        "    for band in band_numbers:\n",
        "\n",
        "        image_array = h5_file[band][...]\n",
        "        image_arrays.append(image_array)\n",
        "\n",
        "\n",
        "min_height = min(arr.shape[0] for arr in image_arrays)\n",
        "min_width = min(arr.shape[1] for arr in image_arrays)\n",
        "\n",
        "\n",
        "resized_arrays = []\n",
        "for arr in image_arrays:\n",
        "    resized = resize(arr, (min_height, min_width), anti_aliasing=True)\n",
        "    resized_arrays.append(resized)\n",
        "\n",
        "\n",
        "image_arrays = np.array(resized_arrays)\n",
        "\n",
        "\n",
        "print(\"Shape of image arrays:\", image_arrays.shape)\n",
        "\n",
        "plt.imshow(image_arrays[0], cmap='gray')\n",
        "plt.title('Resized Band B01')\n",
        "plt.colorbar()\n",
        "plt.show()\n"
      ],
      "metadata": {
        "colab": {
          "base_uri": "https://localhost:8080/",
          "height": 506
        },
        "id": "gm0pJCGK9ZW7",
        "outputId": "51eebfc1-79ae-40c1-dfcd-38e8ba478f9e"
      },
      "execution_count": null,
      "outputs": [
        {
          "output_type": "error",
          "ename": "KeyError",
          "evalue": "\"Unable to synchronously open object (object 'B01' doesn't exist)\"",
          "traceback": [
            "\u001b[0;31m---------------------------------------------------------------------------\u001b[0m",
            "\u001b[0;31mKeyError\u001b[0m                                  Traceback (most recent call last)",
            "\u001b[0;32m<ipython-input-2-8c3c69bc53ec>\u001b[0m in \u001b[0;36m<cell line: 15>\u001b[0;34m()\u001b[0m\n\u001b[1;32m     17\u001b[0m     \u001b[0;32mfor\u001b[0m \u001b[0mband\u001b[0m \u001b[0;32min\u001b[0m \u001b[0mband_numbers\u001b[0m\u001b[0;34m:\u001b[0m\u001b[0;34m\u001b[0m\u001b[0;34m\u001b[0m\u001b[0m\n\u001b[1;32m     18\u001b[0m         \u001b[0;31m# Access the dataset for the band (assuming the dataset name is band number)\u001b[0m\u001b[0;34m\u001b[0m\u001b[0;34m\u001b[0m\u001b[0m\n\u001b[0;32m---> 19\u001b[0;31m         \u001b[0mimage_array\u001b[0m \u001b[0;34m=\u001b[0m \u001b[0mh5_file\u001b[0m\u001b[0;34m[\u001b[0m\u001b[0mband\u001b[0m\u001b[0;34m]\u001b[0m\u001b[0;34m[\u001b[0m\u001b[0;34m...\u001b[0m\u001b[0;34m]\u001b[0m  \u001b[0;31m# Read the entire dataset\u001b[0m\u001b[0;34m\u001b[0m\u001b[0;34m\u001b[0m\u001b[0m\n\u001b[0m\u001b[1;32m     20\u001b[0m         \u001b[0mimage_arrays\u001b[0m\u001b[0;34m.\u001b[0m\u001b[0mappend\u001b[0m\u001b[0;34m(\u001b[0m\u001b[0mimage_array\u001b[0m\u001b[0;34m)\u001b[0m\u001b[0;34m\u001b[0m\u001b[0;34m\u001b[0m\u001b[0m\n\u001b[1;32m     21\u001b[0m \u001b[0;34m\u001b[0m\u001b[0m\n",
            "\u001b[0;32mh5py/_objects.pyx\u001b[0m in \u001b[0;36mh5py._objects.with_phil.wrapper\u001b[0;34m()\u001b[0m\n",
            "\u001b[0;32mh5py/_objects.pyx\u001b[0m in \u001b[0;36mh5py._objects.with_phil.wrapper\u001b[0;34m()\u001b[0m\n",
            "\u001b[0;32m/usr/local/lib/python3.10/dist-packages/h5py/_hl/group.py\u001b[0m in \u001b[0;36m__getitem__\u001b[0;34m(self, name)\u001b[0m\n\u001b[1;32m    355\u001b[0m                 \u001b[0;32mraise\u001b[0m \u001b[0mValueError\u001b[0m\u001b[0;34m(\u001b[0m\u001b[0;34m\"Invalid HDF5 object reference\"\u001b[0m\u001b[0;34m)\u001b[0m\u001b[0;34m\u001b[0m\u001b[0;34m\u001b[0m\u001b[0m\n\u001b[1;32m    356\u001b[0m         \u001b[0;32melif\u001b[0m \u001b[0misinstance\u001b[0m\u001b[0;34m(\u001b[0m\u001b[0mname\u001b[0m\u001b[0;34m,\u001b[0m \u001b[0;34m(\u001b[0m\u001b[0mbytes\u001b[0m\u001b[0;34m,\u001b[0m \u001b[0mstr\u001b[0m\u001b[0;34m)\u001b[0m\u001b[0;34m)\u001b[0m\u001b[0;34m:\u001b[0m\u001b[0;34m\u001b[0m\u001b[0;34m\u001b[0m\u001b[0m\n\u001b[0;32m--> 357\u001b[0;31m             \u001b[0moid\u001b[0m \u001b[0;34m=\u001b[0m \u001b[0mh5o\u001b[0m\u001b[0;34m.\u001b[0m\u001b[0mopen\u001b[0m\u001b[0;34m(\u001b[0m\u001b[0mself\u001b[0m\u001b[0;34m.\u001b[0m\u001b[0mid\u001b[0m\u001b[0;34m,\u001b[0m \u001b[0mself\u001b[0m\u001b[0;34m.\u001b[0m\u001b[0m_e\u001b[0m\u001b[0;34m(\u001b[0m\u001b[0mname\u001b[0m\u001b[0;34m)\u001b[0m\u001b[0;34m,\u001b[0m \u001b[0mlapl\u001b[0m\u001b[0;34m=\u001b[0m\u001b[0mself\u001b[0m\u001b[0;34m.\u001b[0m\u001b[0m_lapl\u001b[0m\u001b[0;34m)\u001b[0m\u001b[0;34m\u001b[0m\u001b[0;34m\u001b[0m\u001b[0m\n\u001b[0m\u001b[1;32m    358\u001b[0m         \u001b[0;32melse\u001b[0m\u001b[0;34m:\u001b[0m\u001b[0;34m\u001b[0m\u001b[0;34m\u001b[0m\u001b[0m\n\u001b[1;32m    359\u001b[0m             raise TypeError(\"Accessing a group is done with bytes or str, \"\n",
            "\u001b[0;32mh5py/_objects.pyx\u001b[0m in \u001b[0;36mh5py._objects.with_phil.wrapper\u001b[0;34m()\u001b[0m\n",
            "\u001b[0;32mh5py/_objects.pyx\u001b[0m in \u001b[0;36mh5py._objects.with_phil.wrapper\u001b[0;34m()\u001b[0m\n",
            "\u001b[0;32mh5py/h5o.pyx\u001b[0m in \u001b[0;36mh5py.h5o.open\u001b[0;34m()\u001b[0m\n",
            "\u001b[0;31mKeyError\u001b[0m: \"Unable to synchronously open object (object 'B01' doesn't exist)\""
          ]
        }
      ]
    },
    {
      "cell_type": "code",
      "source": [
        "image_arrays.shape"
      ],
      "metadata": {
        "colab": {
          "base_uri": "https://localhost:8080/"
        },
        "id": "xFVjk3luLowg",
        "outputId": "f8ef6b87-2ee6-4f90-ade4-c9dc10686981"
      },
      "execution_count": null,
      "outputs": [
        {
          "output_type": "execute_result",
          "data": {
            "text/plain": [
              "(12, 1830, 1830)"
            ]
          },
          "metadata": {},
          "execution_count": 42
        }
      ]
    },
    {
      "cell_type": "code",
      "source": [
        "mid_rgb = data[1:4,:, :].max() / 2.0\n",
        "mid_slope = data[12,:, :].max() / 2.0\n",
        "mid_elevation = data[13, :, :].max() / 2.0\n"
      ],
      "metadata": {
        "id": "l0fYKaJ39kpK"
      },
      "execution_count": null,
      "outputs": []
    },
    {
      "cell_type": "code",
      "source": [
        "!pip install scipy"
      ],
      "metadata": {
        "colab": {
          "base_uri": "https://localhost:8080/"
        },
        "id": "qCAZ8jpUD5UG",
        "outputId": "f33bee6d-fe9f-44a8-839b-3cde1dd664e2"
      },
      "execution_count": null,
      "outputs": [
        {
          "output_type": "stream",
          "name": "stdout",
          "text": [
            "Requirement already satisfied: scipy in /usr/local/lib/python3.10/dist-packages (1.13.1)\n",
            "Requirement already satisfied: numpy<2.3,>=1.22.4 in /usr/local/lib/python3.10/dist-packages (from scipy) (1.26.4)\n"
          ]
        }
      ]
    },
    {
      "cell_type": "code",
      "source": [
        "import h5py\n",
        "import numpy as np\n",
        "from scipy.ndimage import zoom\n",
        "\n",
        "\n",
        "base_path = '/content/drive/MyDrive/nainital_sentinel/slope_data.h5'\n",
        "\n",
        "\n",
        "with h5py.File(base_path, 'r+') as h5_file:\n",
        "    for band_name in h5_file.keys():\n",
        "        dataset = h5_file[band_name][:]\n",
        "        print(f'Original Dataset: {band_name}, Shape: {dataset.shape}')\n",
        "\n",
        "\n",
        "        zoom_factor = (256 / dataset.shape[0], 256 / dataset.shape[1])\n",
        "        resized_dataset = zoom(dataset, zoom_factor, order=3)\n",
        "\n",
        "\n",
        "        del h5_file[band_name]\n",
        "        h5_file.create_dataset(band_name, data=resized_dataset)\n",
        "\n",
        "        print(f'Resized Dataset: {band_name}, New Shape: {resized_dataset.shape}')\n"
      ],
      "metadata": {
        "colab": {
          "base_uri": "https://localhost:8080/"
        },
        "id": "qAs7bSCcEiRw",
        "outputId": "4b21a421-1e4d-420b-d967-c6558a888593"
      },
      "execution_count": null,
      "outputs": [
        {
          "output_type": "stream",
          "name": "stdout",
          "text": [
            "Original Dataset: slope, Shape: (512, 512)\n",
            "Resized Dataset: slope, New Shape: (256, 256)\n"
          ]
        }
      ]
    },
    {
      "cell_type": "code",
      "source": [
        "import h5py\n",
        "\n",
        "\n",
        "base_path = '/content/drive/MyDrive/tirupati_sentinel/slope_data.h5'\n",
        "\n",
        "\n",
        "with h5py.File(base_path, 'r') as h5_file:\n",
        "\n",
        "      dataset = h5_file['slope']\n",
        "      print(f'Dataset: , Shape: {dataset}')\n"
      ],
      "metadata": {
        "id": "9gixg6rUTwnE",
        "colab": {
          "base_uri": "https://localhost:8080/"
        },
        "outputId": "a7c60fff-79aa-4bc1-b75e-49225f0cd7ae"
      },
      "execution_count": null,
      "outputs": [
        {
          "output_type": "stream",
          "name": "stdout",
          "text": [
            "Dataset: , Shape: <HDF5 dataset \"slope\": shape (512, 512), type \"<f8\">\n"
          ]
        }
      ]
    },
    {
      "cell_type": "code",
      "source": [
        "import h5py\n",
        "\n",
        "\n",
        "base_path = '/content/drive/MyDrive/nainital_sentinel/sentinel_bands.h5'\n",
        "\n",
        "\n",
        "with h5py.File(base_path, 'r') as h5_file:\n",
        "\n",
        "    dataset = h5_file['sentinel_bands']\n",
        "\n",
        "\n",
        "    num_bands = dataset.shape[0]\n",
        "    for i in range(num_bands):\n",
        "        band_data = dataset[i]\n",
        "        print(f'Band {i+1}, Shape: {band_data.shape}')"
      ],
      "metadata": {
        "colab": {
          "base_uri": "https://localhost:8080/"
        },
        "id": "wNt24sDGVHiX",
        "outputId": "66225158-0776-4f9e-e7f8-b38c7d4d1d14"
      },
      "execution_count": null,
      "outputs": [
        {
          "output_type": "stream",
          "name": "stdout",
          "text": [
            "Band 1, Shape: (256, 256)\n",
            "Band 2, Shape: (256, 256)\n",
            "Band 3, Shape: (256, 256)\n",
            "Band 4, Shape: (256, 256)\n",
            "Band 5, Shape: (256, 256)\n",
            "Band 6, Shape: (256, 256)\n",
            "Band 7, Shape: (256, 256)\n",
            "Band 8, Shape: (256, 256)\n",
            "Band 9, Shape: (256, 256)\n",
            "Band 10, Shape: (256, 256)\n",
            "Band 11, Shape: (256, 256)\n",
            "Band 12, Shape: (256, 256)\n",
            "Band 13, Shape: (256, 256)\n"
          ]
        }
      ]
    },
    {
      "cell_type": "code",
      "source": [
        "import h5py\n",
        "\n",
        "\n",
        "base_path = '/content/drive/MyDrive/nainital_sentinel/dem_data.h5'\n",
        "\n",
        "\n",
        "with h5py.File(base_path, 'r') as h5_file:\n",
        "\n",
        "\n",
        "    dataset = h5_file['']\n",
        "\n",
        "\n",
        "    num_bands = dataset.shape[0]\n",
        "    for i in range(num_bands):\n",
        "        band_data = dataset[i]\n",
        "        print(f'Band {i+1}, Shape: {band_data.shape}')"
      ],
      "metadata": {
        "colab": {
          "base_uri": "https://localhost:8080/",
          "height": 505
        },
        "id": "mXSGFKjPVgqR",
        "outputId": "d40489a3-14a6-4604-d916-316da947cfbd"
      },
      "execution_count": null,
      "outputs": [
        {
          "output_type": "error",
          "ename": "KeyError",
          "evalue": "\"Unable to synchronously open object (object 'dem_data' doesn't exist)\"",
          "traceback": [
            "\u001b[0;31m---------------------------------------------------------------------------\u001b[0m",
            "\u001b[0;31mKeyError\u001b[0m                                  Traceback (most recent call last)",
            "\u001b[0;32m<ipython-input-8-b494e676b2ce>\u001b[0m in \u001b[0;36m<cell line: 7>\u001b[0;34m()\u001b[0m\n\u001b[1;32m      8\u001b[0m     \u001b[0;31m# Access the main dataset\u001b[0m\u001b[0;34m\u001b[0m\u001b[0;34m\u001b[0m\u001b[0m\n\u001b[1;32m      9\u001b[0m \u001b[0;34m\u001b[0m\u001b[0m\n\u001b[0;32m---> 10\u001b[0;31m     \u001b[0mdataset\u001b[0m \u001b[0;34m=\u001b[0m \u001b[0mh5_file\u001b[0m\u001b[0;34m[\u001b[0m\u001b[0;34m'dem_data'\u001b[0m\u001b[0;34m]\u001b[0m\u001b[0;34m\u001b[0m\u001b[0;34m\u001b[0m\u001b[0m\n\u001b[0m\u001b[1;32m     11\u001b[0m \u001b[0;34m\u001b[0m\u001b[0m\n\u001b[1;32m     12\u001b[0m     \u001b[0;31m# Loop through each band\u001b[0m\u001b[0;34m\u001b[0m\u001b[0;34m\u001b[0m\u001b[0m\n",
            "\u001b[0;32mh5py/_objects.pyx\u001b[0m in \u001b[0;36mh5py._objects.with_phil.wrapper\u001b[0;34m()\u001b[0m\n",
            "\u001b[0;32mh5py/_objects.pyx\u001b[0m in \u001b[0;36mh5py._objects.with_phil.wrapper\u001b[0;34m()\u001b[0m\n",
            "\u001b[0;32m/usr/local/lib/python3.10/dist-packages/h5py/_hl/group.py\u001b[0m in \u001b[0;36m__getitem__\u001b[0;34m(self, name)\u001b[0m\n\u001b[1;32m    355\u001b[0m                 \u001b[0;32mraise\u001b[0m \u001b[0mValueError\u001b[0m\u001b[0;34m(\u001b[0m\u001b[0;34m\"Invalid HDF5 object reference\"\u001b[0m\u001b[0;34m)\u001b[0m\u001b[0;34m\u001b[0m\u001b[0;34m\u001b[0m\u001b[0m\n\u001b[1;32m    356\u001b[0m         \u001b[0;32melif\u001b[0m \u001b[0misinstance\u001b[0m\u001b[0;34m(\u001b[0m\u001b[0mname\u001b[0m\u001b[0;34m,\u001b[0m \u001b[0;34m(\u001b[0m\u001b[0mbytes\u001b[0m\u001b[0;34m,\u001b[0m \u001b[0mstr\u001b[0m\u001b[0;34m)\u001b[0m\u001b[0;34m)\u001b[0m\u001b[0;34m:\u001b[0m\u001b[0;34m\u001b[0m\u001b[0;34m\u001b[0m\u001b[0m\n\u001b[0;32m--> 357\u001b[0;31m             \u001b[0moid\u001b[0m \u001b[0;34m=\u001b[0m \u001b[0mh5o\u001b[0m\u001b[0;34m.\u001b[0m\u001b[0mopen\u001b[0m\u001b[0;34m(\u001b[0m\u001b[0mself\u001b[0m\u001b[0;34m.\u001b[0m\u001b[0mid\u001b[0m\u001b[0;34m,\u001b[0m \u001b[0mself\u001b[0m\u001b[0;34m.\u001b[0m\u001b[0m_e\u001b[0m\u001b[0;34m(\u001b[0m\u001b[0mname\u001b[0m\u001b[0;34m)\u001b[0m\u001b[0;34m,\u001b[0m \u001b[0mlapl\u001b[0m\u001b[0;34m=\u001b[0m\u001b[0mself\u001b[0m\u001b[0;34m.\u001b[0m\u001b[0m_lapl\u001b[0m\u001b[0;34m)\u001b[0m\u001b[0;34m\u001b[0m\u001b[0;34m\u001b[0m\u001b[0m\n\u001b[0m\u001b[1;32m    358\u001b[0m         \u001b[0;32melse\u001b[0m\u001b[0;34m:\u001b[0m\u001b[0;34m\u001b[0m\u001b[0;34m\u001b[0m\u001b[0m\n\u001b[1;32m    359\u001b[0m             raise TypeError(\"Accessing a group is done with bytes or str, \"\n",
            "\u001b[0;32mh5py/_objects.pyx\u001b[0m in \u001b[0;36mh5py._objects.with_phil.wrapper\u001b[0;34m()\u001b[0m\n",
            "\u001b[0;32mh5py/_objects.pyx\u001b[0m in \u001b[0;36mh5py._objects.with_phil.wrapper\u001b[0;34m()\u001b[0m\n",
            "\u001b[0;32mh5py/h5o.pyx\u001b[0m in \u001b[0;36mh5py.h5o.open\u001b[0;34m()\u001b[0m\n",
            "\u001b[0;31mKeyError\u001b[0m: \"Unable to synchronously open object (object 'dem_data' doesn't exist)\""
          ]
        }
      ]
    },
    {
      "cell_type": "code",
      "source": [
        "import h5py\n",
        "import numpy as np\n",
        "import matplotlib.pyplot as plt\n",
        "\n",
        "\n",
        "base_path = '/content/drive/MyDrive/nainital_sentinel/sentinel_bands.h5'\n",
        "\n",
        "\n",
        "with h5py.File(base_path, 'r') as h5_file:\n",
        "\n",
        "    dataset = h5_file['sentinel_bands']\n",
        "\n",
        "\n",
        "    B04 = dataset[3]\n",
        "    B03 = dataset[2]\n",
        "    B02 = dataset[1]\n",
        "\n",
        "\n",
        "B04_norm = (B04 - np.min(B04)) / (np.max(B04) - np.min(B04))\n",
        "B03_norm = (B03 - np.min(B03)) / (np.max(B03) - np.min(B03))\n",
        "B02_norm = (B02 - np.min(B02)) / (np.max(B02) - np.min(B02))\n",
        "\n",
        "\n",
        "rgb_image = np.stack((B02_norm, B03_norm, B04_norm), axis=-1)\n",
        "\n",
        "\n",
        "plt.figure(figsize=(10, 10))\n",
        "plt.imshow(rgb_image)\n",
        "plt.title('RGB Composite Image')\n",
        "plt.axis('off')\n",
        "plt.show()\n"
      ],
      "metadata": {
        "colab": {
          "base_uri": "https://localhost:8080/",
          "height": 829
        },
        "id": "4q1W0QMNVwvC",
        "outputId": "b6563833-6184-421f-fac2-c1b406891e3a"
      },
      "execution_count": null,
      "outputs": [
        {
          "output_type": "display_data",
          "data": {
            "text/plain": [
              "<Figure size 1000x1000 with 1 Axes>"
            ],
            "image/png": "[encoded data removed]"
          },
          "metadata": {}
        }
      ]
    },
    {
      "cell_type": "code",
      "source": [
        "import h5py\n",
        "import numpy as np\n",
        "import matplotlib.pyplot as plt\n",
        "\n",
        "TEST_XX2 = np.zeros((1, 128, 128, 6))\n",
        "base_path = '/content/drive/MyDrive/tirupati_sentinel/sentinel_bands.h5'\n",
        "base_path2 = '/content/drive/MyDrive/tirupati_sentinel/slope_data.h5'\n",
        "base_path3 = '/content/drive/MyDrive/tirupati_sentinel/elevation_data.h5'\n",
        "\n",
        "with h5py.File(base_path, 'r') as h5_file:\n",
        "\n",
        "    dataset = h5_file['sentinel_bands']\n",
        "\n",
        "\n",
        "    B04 = dataset[3]  # Red band (Band 4) - index 3\n",
        "    B03 = dataset[2]  # Green band (Band 3) - index 2\n",
        "    B02 = dataset[1]  # Blue band (Band 2) - index 1\n",
        "    B08 = dataset[7]\n",
        "\n",
        "ndvi = (B08 - B04 )/(B04 + B08)\n",
        "\n",
        "with h5py.File(base_path2, 'r') as h5_file:\n",
        "  slope_data = h5_file['slope']\n",
        "\n",
        "with h5py.File(base_path3,'r') as h5_file:\n",
        "  elevation_data = h5_file['elevation']\n",
        "\n",
        "\n",
        "\n",
        "\n",
        "\n"
      ],
      "metadata": {
        "id": "m5UYz9OPXUYv"
      },
      "execution_count": null,
      "outputs": []
    },
    {
      "cell_type": "code",
      "source": [
        "for i, (img) in enumerate(all_test):\n",
        "\n",
        "    with h5py.File(img) as hdf:\n",
        "        ls = list(hdf.keys())\n",
        "        data = np.array(hdf.get('img'))\n",
        "\n",
        "\n",
        "        data[np.isnan(data)] = 0.000001\n",
        "\n",
        "\n",
        "        mid_rgb = data[:, :, 1:4].max() / 2.0\n",
        "        mid_slope = data[:, :, 12].max() / 2.0\n",
        "        mid_elevation = data[:, :, 13].max() / 2.0\n",
        "\n",
        "\n",
        "        data_red = data[:, :, 3]\n",
        "        data_nir = data[:, :, 7]\n",
        "        data_ndvi = np.divide(data_nir - data_red,np.add(data_nir, data_red))\n",
        "\n",
        "\n",
        "        TEST_XX[i, :, :, 0] = 1 - data[:, :, 3] / mid_rgb  #RED\n",
        "        TEST_XX[i, :, :, 1] = 1 - data[:, :, 2] / mid_rgb #GREEN\n",
        "        TEST_XX[i, :, :, 2] = 1 - data[:, :, 1] / mid_rgb #BLUE\n",
        "        TEST_XX[i, :, :, 3] = data_ndvi #NDVI\n",
        "        TEST_XX[i, :, :, 4] = 1 - data[:, :, 12] / mid_slope #SLOPE\n",
        "        TEST_XX[i, :, :, 5] = 1 - data[:, :, 13] / mid_elevation #ELEVATION\n",
        "\n",
        "\n",
        "\n"
      ],
      "metadata": {
        "colab": {
          "base_uri": "https://localhost:8080/",
          "height": 211
        },
        "id": "JCueSOKzGJ28",
        "outputId": "f4cf2d4b-2c77-4166-f7a9-3779624a56ab"
      },
      "execution_count": null,
      "outputs": [
        {
          "output_type": "error",
          "ename": "NameError",
          "evalue": "name 'all_test' is not defined",
          "traceback": [
            "\u001b[0;31m---------------------------------------------------------------------------\u001b[0m",
            "\u001b[0;31mNameError\u001b[0m                                 Traceback (most recent call last)",
            "\u001b[0;32m<ipython-input-2-6073fd094164>\u001b[0m in \u001b[0;36m<cell line: 1>\u001b[0;34m()\u001b[0m\n\u001b[0;32m----> 1\u001b[0;31m \u001b[0;32mfor\u001b[0m \u001b[0mi\u001b[0m\u001b[0;34m,\u001b[0m \u001b[0;34m(\u001b[0m\u001b[0mimg\u001b[0m\u001b[0;34m)\u001b[0m \u001b[0;32min\u001b[0m \u001b[0menumerate\u001b[0m\u001b[0;34m(\u001b[0m\u001b[0mall_test\u001b[0m\u001b[0;34m)\u001b[0m\u001b[0;34m:\u001b[0m\u001b[0;34m\u001b[0m\u001b[0;34m\u001b[0m\u001b[0m\n\u001b[0m\u001b[1;32m      2\u001b[0m \u001b[0;34m\u001b[0m\u001b[0m\n\u001b[1;32m      3\u001b[0m     \u001b[0;32mwith\u001b[0m \u001b[0mh5py\u001b[0m\u001b[0;34m.\u001b[0m\u001b[0mFile\u001b[0m\u001b[0;34m(\u001b[0m\u001b[0mimg\u001b[0m\u001b[0;34m)\u001b[0m \u001b[0;32mas\u001b[0m \u001b[0mhdf\u001b[0m\u001b[0;34m:\u001b[0m\u001b[0;34m\u001b[0m\u001b[0;34m\u001b[0m\u001b[0m\n\u001b[1;32m      4\u001b[0m         \u001b[0mls\u001b[0m \u001b[0;34m=\u001b[0m \u001b[0mlist\u001b[0m\u001b[0;34m(\u001b[0m\u001b[0mhdf\u001b[0m\u001b[0;34m.\u001b[0m\u001b[0mkeys\u001b[0m\u001b[0;34m(\u001b[0m\u001b[0;34m)\u001b[0m\u001b[0;34m)\u001b[0m\u001b[0;34m\u001b[0m\u001b[0;34m\u001b[0m\u001b[0m\n\u001b[1;32m      5\u001b[0m         \u001b[0mdata\u001b[0m \u001b[0;34m=\u001b[0m \u001b[0mnp\u001b[0m\u001b[0;34m.\u001b[0m\u001b[0marray\u001b[0m\u001b[0;34m(\u001b[0m\u001b[0mhdf\u001b[0m\u001b[0;34m.\u001b[0m\u001b[0mget\u001b[0m\u001b[0;34m(\u001b[0m\u001b[0;34m'img'\u001b[0m\u001b[0;34m)\u001b[0m\u001b[0;34m)\u001b[0m\u001b[0;34m\u001b[0m\u001b[0;34m\u001b[0m\u001b[0m\n",
            "\u001b[0;31mNameError\u001b[0m: name 'all_test' is not defined"
          ]
        }
      ]
    },
    {
      "cell_type": "code",
      "source": [
        "import h5py\n",
        "import numpy as np\n",
        "\n",
        "\n",
        "base_path = '/content/drive/MyDrive/nainital_sentinel/sentinel_bands.h5'\n",
        "base_path2 = '/content/drive/MyDrive/nainital_sentinel/slope_data.h5'\n",
        "base_path3 = '/content/drive/MyDrive/nainital_sentinel/elevation_data.h5'\n",
        "\n",
        "\n",
        "TEST_XX2 = np.zeros((16, 128, 128, 6))\n",
        "\n",
        "\n",
        "with h5py.File(base_path, 'r') as h5_file:\n",
        "    dataset = h5_file['sentinel_bands']\n",
        "\n",
        "\n",
        "    B04 = dataset[3]\n",
        "    B03 = dataset[2]\n",
        "    B02 = dataset[1]\n",
        "    B08 = dataset[7]\n",
        "\n",
        "\n",
        "    ndvi = (B08 - B04) / (B08 + B04)\n",
        "\n",
        "with h5py.File(base_path2, 'r') as h5_file:\n",
        "    slope_data = h5_file['slope'][:]\n",
        "\n",
        "with h5py.File(base_path3, 'r') as h5_file:\n",
        "    elevation_data = h5_file['elevation'][:]\n",
        "\n",
        "\n",
        "def split_and_normalize(data_rgb, data_ndvi, data_slope, data_elevation, block_size=128):\n",
        "    blocks = []\n",
        "    for i in range(0, data_rgb.shape[0], block_size):\n",
        "        for j in range(0, data_rgb.shape[1], block_size):\n",
        "            block_rgb = data_rgb[i:i+block_size, j:j+block_size]\n",
        "            block_ndvi = data_ndvi[i:i+block_size, j:j+block_size]\n",
        "            block_slope = data_slope[i:i+block_size, j:j+block_size]\n",
        "            block_elevation = data_elevation[i:i+block_size, j:j+block_size]\n",
        "\n",
        "\n",
        "            mid_rgb = block_rgb.max() / 2.0\n",
        "            mid_slope = block_slope.max() / 2.0\n",
        "            mid_elevation = block_elevation.max() / 2.0\n",
        "\n",
        "\n",
        "            mid_rgb = mid_rgb if mid_rgb != 0 else 0.000001\n",
        "            mid_slope = mid_slope if mid_slope != 0 else 0.000001\n",
        "            mid_elevation = mid_elevation if mid_elevation != 0 else 0.000001\n",
        "\n",
        "\n",
        "            block_rgb[:, :, 0] = 1 - np.nan_to_num(block_rgb[:, :, 0] / mid_rgb, nan=0.000001)\n",
        "            block_rgb[:, :, 1] = 1 - np.nan_to_num(block_rgb[:, :, 1] / mid_rgb, nan=0.000001)\n",
        "            block_rgb[:, :, 2] = 1 - np.nan_to_num(block_rgb[:, :, 2] / mid_rgb, nan=0.000001)\n",
        "\n",
        "            block_slope_normalized = 1 - np.nan_to_num(block_slope / mid_slope, nan=0.000001)\n",
        "            block_elevation_normalized = 1 - np.nan_to_num(block_elevation / mid_elevation, nan=0.000001)\n",
        "\n",
        "            blocks.append((block_rgb, block_ndvi, block_slope_normalized, block_elevation_normalized))\n",
        "    return blocks\n",
        "\n",
        "\n",
        "rgb_combined = np.stack([B04, B03, B02], axis=-1)\n",
        "\n",
        "\n",
        "blocks = split_and_normalize(rgb_combined, ndvi, slope_data, elevation_data)\n",
        "\n",
        "\n",
        "for i, (block_rgb, block_ndvi, block_slope, block_elevation) in enumerate(blocks):\n",
        "    TEST_XX2[i, :, :, 0] = block_rgb[:, :, 0]\n",
        "    TEST_XX2[i, :, :, 1] = block_rgb[:, :, 1]\n",
        "    TEST_XX2[i, :, :, 2] = block_rgb[:, :, 2]\n",
        "    TEST_XX2[i, :, :, 3] = block_ndvi\n",
        "    TEST_XX2[i, :, :, 4] = block_slope\n",
        "    TEST_XX2[i, :, :, 5] = block_elevation\n",
        "output_path = '/content/drive/MyDrive/nainital_sentinel/processed_data.h5'\n",
        "with h5py.File(output_path, 'w') as h5_out:\n",
        "    h5_out.create_dataset('TEST_XX2', data=TEST_XX2)\n",
        "\n",
        "print(\"Data saved successfully in 'processed_data.h5'\")\n"
      ],
      "metadata": {
        "colab": {
          "base_uri": "https://localhost:8080/"
        },
        "id": "85OZS_qt7I5I",
        "outputId": "a88ca7ff-b162-4ed4-c889-d82b1c5fa9c4"
      },
      "execution_count": null,
      "outputs": [
        {
          "output_type": "stream",
          "name": "stdout",
          "text": [
            "Data saved successfully in 'processed_data.h5'\n"
          ]
        }
      ]
    },
    {
      "cell_type": "code",
      "source": [
        "import h5py\n",
        "import numpy as np\n",
        "\n",
        "\n",
        "base_path = '/content/drive/MyDrive/tirupati_sentinel/sentinel_bands.h5'\n",
        "base_path2 = '/content/drive/MyDrive/tirupati_sentinel/slope_data.h5'\n",
        "base_path3 = '/content/drive/MyDrive/tirupati_sentinel/elevation_data.h5'\n",
        "\n",
        "\n",
        "TEST_XX2 = np.zeros((16, 128, 128, 6))\n",
        "\n",
        "with h5py.File(base_path, 'r') as h5_file:\n",
        "    dataset = h5_file['sentinel_bands']\n",
        "\n",
        "\n",
        "    B04 = dataset[3]\n",
        "    B03 = dataset[2]\n",
        "    B02 = dataset[1]\n",
        "    B08 = dataset[7]\n",
        "\n",
        "\n",
        "    ndvi = (B08 - B04) / (B08 + B04)\n",
        "\n",
        "with h5py.File(base_path2, 'r') as h5_file:\n",
        "    slope_data = h5_file['slope'][:]\n",
        "\n",
        "with h5py.File(base_path3, 'r') as h5_file:\n",
        "    elevation_data = h5_file['elevation'][:]\n"
      ],
      "metadata": {
        "id": "6ar6i1YO7ZHv"
      },
      "execution_count": null,
      "outputs": []
    },
    {
      "cell_type": "code",
      "source": [
        "TEST_XX2"
      ],
      "metadata": {
        "colab": {
          "base_uri": "https://localhost:8080/"
        },
        "id": "9rw5ORem8eR4",
        "outputId": "3868a79b-6c97-41b5-9ba0-d6c92fca4b68"
      },
      "execution_count": null,
      "outputs": [
        {
          "output_type": "execute_result",
          "data": {
            "text/plain": [
              "array([[[[ 0.79934621,  0.68569279,  0.63339204,  0.73628551,\n",
              "          -0.94324345, -0.77768763],\n",
              "         [ 0.78979129,  0.66608   ,  0.63590646,  0.72327048,\n",
              "          -0.94227286, -0.7801217 ],\n",
              "         [ 0.80890119,  0.67563492,  0.63992965,  0.71862268,\n",
              "          -0.94035498, -0.78580122],\n",
              "         ...,\n",
              "         [ 0.77671611,  0.63992965,  0.60774457,  0.71620321,\n",
              "          -0.82581467,  0.14726166],\n",
              "         [ 0.64797586,  0.59869248,  0.55443799,  0.44400313,\n",
              "          -0.85002463,  0.14401623],\n",
              "         [ 0.63842094,  0.58008552,  0.54639173,  0.43026939,\n",
              "          -0.87577175,  0.13995943]],\n",
              "\n",
              "        [[ 0.79180288,  0.67211467,  0.63842094,  0.71438426,\n",
              "          -0.94284892, -0.78904665],\n",
              "         [ 0.78828263,  0.67060602,  0.63138044,  0.70965517,\n",
              "          -0.94206722, -0.79066937],\n",
              "         [ 0.80940408,  0.67462909,  0.63590646,  0.73816925,\n",
              "          -0.94041471, -0.79553753],\n",
              "         ...,\n",
              "         [ 0.77671611,  0.63992965,  0.60774457,  0.71620321,\n",
              "          -0.82340823,  0.14563895],\n",
              "         [ 0.64797586,  0.59869248,  0.55443799,  0.44400313,\n",
              "          -0.83748378,  0.14239351],\n",
              "         [ 0.63842094,  0.58008552,  0.54639173,  0.43026939,\n",
              "          -0.85992254,  0.13995943]],\n",
              "\n",
              "        [[ 0.79180288,  0.67211467,  0.63842094,  0.71438426,\n",
              "          -0.94174791, -0.81419878],\n",
              "         [ 0.78828263,  0.67060602,  0.63138044,  0.70965517,\n",
              "          -0.94136901, -0.81501014],\n",
              "         [ 0.80940408,  0.67462909,  0.63590646,  0.73816925,\n",
              "          -0.94030546, -0.81663286],\n",
              "         ...,\n",
              "         [ 0.77872771,  0.66004527,  0.61579084,  0.70509386,\n",
              "          -0.81960214,  0.14158215],\n",
              "         [ 0.49157661,  0.47950715,  0.48654765,  0.31294599,\n",
              "          -0.8178807 ,  0.13995943],\n",
              "         [ 0.61830521,  0.54488313,  0.50968069,  0.43860948,\n",
              "          -0.83484807,  0.13995943]],\n",
              "\n",
              "        ...,\n",
              "\n",
              "        [[ 0.42418909,  0.38244909,  0.38144332,  0.2114325 ,\n",
              "          -0.94099829, -0.93752535],\n",
              "         [ 0.82650238,  0.70731711,  0.65702796,  0.70625794,\n",
              "          -0.94109305, -0.94077079],\n",
              "         [ 0.85164696,  0.72894144,  0.66105103,  0.72570902,\n",
              "          -0.94122786, -0.94239351],\n",
              "         ...,\n",
              "         [ 0.76012069,  0.61327636,  0.59366357,  0.6970467 ,\n",
              "          -0.90890669, -0.47829615],\n",
              "         [ 0.35881323,  0.42016596,  0.40507925,  0.35312024,\n",
              "          -0.89997277, -0.47018256],\n",
              "         [ 0.70329392,  0.5529294 ,  0.57505655,  0.75569361,\n",
              "          -0.90176162, -0.47018256]],\n",
              "\n",
              "        [[ 0.31405586,  0.30550671,  0.2914257 ,  0.09877767,\n",
              "          -0.9377895 , -0.95537525],\n",
              "         [ 0.83454865,  0.70731711,  0.66105103,  0.70400357,\n",
              "          -0.9383407 , -0.95699797],\n",
              "         [ 0.83153129,  0.71385467,  0.65602213,  0.68981481,\n",
              "          -0.93948512, -0.95780933],\n",
              "         ...,\n",
              "         [ 0.76012069,  0.61327636,  0.59366357,  0.6970467 ,\n",
              "          -0.89248227, -0.47180527],\n",
              "         [ 0.35881323,  0.42016596,  0.40507925,  0.35312024,\n",
              "          -0.88515199, -0.47180527],\n",
              "         [ 0.70329392,  0.5529294 ,  0.57505655,  0.75569361,\n",
              "          -0.89513849, -0.47748479]],\n",
              "\n",
              "        [[ 0.31405586,  0.30550671,  0.2914257 ,  0.09877767,\n",
              "          -0.93095576, -0.97160243],\n",
              "         [ 0.83454865,  0.70731711,  0.66105103,  0.70400357,\n",
              "          -0.93216891, -0.97484787],\n",
              "         [ 0.83153129,  0.71385467,  0.65602213,  0.68981481,\n",
              "          -0.93492486, -0.97647059],\n",
              "         ...,\n",
              "         [ 0.63339204,  0.54337442,  0.51571536,  0.60401958,\n",
              "          -0.89022356, -0.47180527],\n",
              "         [ 0.44078451,  0.37239128,  0.37389994,  0.43553296,\n",
              "          -0.8892841 , -0.47505071],\n",
              "         [ 0.70530552,  0.56902194,  0.58410865,  0.74388111,\n",
              "          -0.90156906, -0.48397566]]],\n",
              "\n",
              "\n",
              "       [[[ 0.75503469,  0.57213598,  0.5265764 ,  0.72790617,\n",
              "          -0.87821577,  0.06274682],\n",
              "         [ 0.80191481,  0.6685375 ,  0.56421256,  0.63570124,\n",
              "          -0.89026089,  0.05397104],\n",
              "         [ 0.69428849,  0.52129412,  0.50148565,  0.69758332,\n",
              "          -0.90023253,  0.04519526],\n",
              "         ...,\n",
              "         [ 0.42819411,  0.36612737,  0.39451963,  0.58022296,\n",
              "          -0.92068821, -0.3374287 ],\n",
              "         [ 0.26906568,  0.28887421,  0.31990755,  0.41828695,\n",
              "          -0.92039081, -0.32426503],\n",
              "         [ 0.78408718,  0.65929347,  0.55364805,  0.63986784,\n",
              "          -0.9204598 , -0.31899956]],\n",
              "\n",
              "        [[ 0.75503469,  0.57213598,  0.5265764 ,  0.72790617,\n",
              "          -0.86976505,  0.06450197],\n",
              "         [ 0.82898647,  0.69758993,  0.56883454,  0.53873557,\n",
              "          -0.88741778,  0.05923651],\n",
              "         [ 0.70617366,  0.52789694,  0.50214589,  0.70451534,\n",
              "          -0.89540935,  0.05221588],\n",
              "         ...,\n",
              "         [ 0.42819411,  0.36612737,  0.39451963,  0.58022296,\n",
              "          -0.92001275, -0.34444932],\n",
              "         [ 0.26906568,  0.28887421,  0.31990755,  0.41828695,\n",
              "          -0.91994113, -0.33216323],\n",
              "         [ 0.78408718,  0.65929347,  0.55364805,  0.63986784,\n",
              "          -0.92008474, -0.32602018]],\n",
              "\n",
              "        [[ 0.78606796,  0.62826014,  0.55100691,  0.70316082,\n",
              "          -0.8570902 ,  0.06801229],\n",
              "         [ 0.82898647,  0.69758993,  0.56883454,  0.53873557,\n",
              "          -0.88396333,  0.06537955],\n",
              "         [ 0.70617366,  0.52789694,  0.50214589,  0.70451534,\n",
              "          -0.88819799,  0.06099166],\n",
              "         ...,\n",
              "         [ 0.41234726,  0.36678767,  0.37339056,  0.57170349,\n",
              "          -0.91848505, -0.35936814],\n",
              "         [ 0.44866294,  0.35622317,  0.39584017,  0.57923913,\n",
              "          -0.91884416, -0.34795963],\n",
              "         [ 0.76691973,  0.62429845,  0.54440409,  0.64397377,\n",
              "          -0.91912379, -0.34269416]],\n",
              "\n",
              "        ...,\n",
              "\n",
              "        [[ 0.64674807,  0.48299766,  0.47441399,  0.73162782,\n",
              "          -0.89882968, -0.59543659],\n",
              "         [ 0.61043251,  0.43743807,  0.44139975,  0.72779709,\n",
              "          -0.91180636, -0.60070206],\n",
              "         [ 0.6685375 ,  0.45922744,  0.47573453,  0.74975079,\n",
              "          -0.92196588, -0.60245722],\n",
              "         ...,\n",
              "         [ 0.72598219,  0.54968631,  0.51006937,  0.73915774,\n",
              "          -0.9300071 , -0.68933743],\n",
              "         [ 0.61901617,  0.52459562,  0.46715081,  0.55632442,\n",
              "          -0.93004902, -0.72005265],\n",
              "         [ 0.67249918,  0.54110265,  0.49884444,  0.61189353,\n",
              "          -0.9300209 , -0.73672663]],\n",
              "\n",
              "        [[ 0.66985798,  0.48035651,  0.47903597,  0.75775188,\n",
              "          -0.90273789, -0.60860026],\n",
              "         [ 0.63354242,  0.47177285,  0.45856714,  0.72700441,\n",
              "          -0.91916361, -0.61825362],\n",
              "         [ 0.66259491,  0.48101681,  0.47045225,  0.74963248,\n",
              "          -0.92396643, -0.62439667],\n",
              "         ...,\n",
              "         [ 0.72598219,  0.54968631,  0.51006937,  0.73915774,\n",
              "          -0.92967879, -0.70425625],\n",
              "         [ 0.6077913 ,  0.46847141,  0.43413669,  0.6146611 ,\n",
              "          -0.92904534, -0.7340939 ],\n",
              "         [ 0.72400129,  0.54506439,  0.51337069,  0.66466099,\n",
              "          -0.92859605, -0.74901272]],\n",
              "\n",
              "        [[ 0.66985798,  0.48035651,  0.47903597,  0.75775188,\n",
              "          -0.90692822, -0.61825362],\n",
              "         [ 0.63354242,  0.47177285,  0.45856714,  0.72700441,\n",
              "          -0.91987128, -0.62966213],\n",
              "         [ 0.66259491,  0.48101681,  0.47045225,  0.74963248,\n",
              "          -0.92150506, -0.63843791],\n",
              "         ...,\n",
              "         [ 0.69428849,  0.53251898,  0.51205015,  0.68363518,\n",
              "          -0.92751413, -0.72180781],\n",
              "         [ 0.6077913 ,  0.46847141,  0.43413669,  0.6146611 ,\n",
              "          -0.92614682, -0.75076788],\n",
              "         [ 0.72400129,  0.54506439,  0.51337069,  0.66466099,\n",
              "          -0.92534636, -0.76305397]]],\n",
              "\n",
              "\n",
              "       [[[ 0.14992273,  0.21854722,  0.16166925,  0.05886377,\n",
              "          -0.76640801, -0.86509146],\n",
              "         [ 0.78547144,  0.63585782,  0.57897997,  0.68654025,\n",
              "          -0.76774625, -0.86966463],\n",
              "         [ 0.80710971,  0.65625966,  0.58330756,  0.70440543,\n",
              "          -0.77133534, -0.875     ],\n",
              "         ...,\n",
              "         [ 0.54930449,  0.43863988,  0.4046368 ,  0.60401958,\n",
              "          -0.74502626, -0.38643293],\n",
              "         [ 0.31251937,  0.22843897,  0.23029369,  0.43553296,\n",
              "          -0.75099741, -0.39176829],\n",
              "         [ 0.63771248,  0.47017002,  0.4887172 ,  0.74388111,\n",
              "          -0.75950298, -0.39939024]],\n",
              "\n",
              "        [[ 0.14992273,  0.21854722,  0.16166925,  0.05886377,\n",
              "          -0.76003581, -0.87195122],\n",
              "         [ 0.78547144,  0.63585782,  0.57897997,  0.68654025,\n",
              "          -0.7604439 , -0.87881098],\n",
              "         [ 0.80710971,  0.65625966,  0.58330756,  0.70440543,\n",
              "          -0.76333235, -0.88719512],\n",
              "         ...,\n",
              "         [ 0.61978364,  0.46336943,  0.46089643,  0.69599599,\n",
              "          -0.75612054, -0.39329268],\n",
              "         [ 0.27047914,  0.23338491,  0.2581144 ,  0.4238281 ,\n",
              "          -0.76457464, -0.39862805],\n",
              "         [ 0.66924262,  0.48562598,  0.49675429,  0.73196393,\n",
              "          -0.76816615, -0.4054878 ]],\n",
              "\n",
              "        [[ 0.14992273,  0.21854722,  0.16166925,  0.05886377,\n",
              "          -0.75723513, -0.87271341],\n",
              "         [ 0.75950539,  0.6049459 ,  0.56228751,  0.64014798,\n",
              "          -0.75538636, -0.87957317],\n",
              "         [ 0.80401856,  0.68346214,  0.58701706,  0.66023582,\n",
              "          -0.75529117, -0.8902439 ],\n",
              "         ...,\n",
              "         [ 0.61978364,  0.46336943,  0.46089643,  0.69599599,\n",
              "          -0.76473321, -0.40091463],\n",
              "         [ 0.27047914,  0.23338491,  0.2581144 ,  0.4238281 ,\n",
              "          -0.76876482, -0.4070122 ],\n",
              "         [ 0.66924262,  0.48562598,  0.49675429,  0.73196393,\n",
              "          -0.76754237, -0.41234756]],\n",
              "\n",
              "        ...,\n",
              "\n",
              "        [[ 0.60309124,  0.49922723,  0.48995364,  0.57777047,\n",
              "          -0.65085345, -0.23170732],\n",
              "         [ 0.68964452,  0.49860895,  0.49304479,  0.74420387,\n",
              "          -0.66446439, -0.23246951],\n",
              "         [ 0.70262754,  0.50664604,  0.50479138,  0.74928331,\n",
              "          -0.69388615, -0.23170732],\n",
              "         ...,\n",
              "         [ 0.68593514,  0.49860895,  0.48253477,  0.72848743,\n",
              "          -0.76816074, -0.40777439],\n",
              "         [ 0.68531686,  0.53384852,  0.50046372,  0.71087754,\n",
              "          -0.76837245, -0.40396341],\n",
              "         [ 0.60432768,  0.48253477,  0.46707886,  0.64285707,\n",
              "          -0.77241021, -0.39329268]],\n",
              "\n",
              "        [[ 0.60309124,  0.49922723,  0.48995364,  0.57777047,\n",
              "          -0.68171013, -0.23323171],\n",
              "         [ 0.68964452,  0.49860895,  0.49304479,  0.74420387,\n",
              "          -0.69330891, -0.23170732],\n",
              "         [ 0.70262754,  0.50664604,  0.50479138,  0.74928331,\n",
              "          -0.71460689, -0.22865854],\n",
              "         ...,\n",
              "         [ 0.522102  ,  0.38423491,  0.36197835,  0.54368359,\n",
              "          -0.76468011, -0.39862805],\n",
              "         [ 0.65811437,  0.50108194,  0.4850077 ,  0.70530242,\n",
              "          -0.76049279, -0.39786585],\n",
              "         [ 0.58763528,  0.46584237,  0.46584237,  0.64699656,\n",
              "          -0.76488397, -0.38948171]],\n",
              "\n",
              "        [[ 0.64574957,  0.5332303 ,  0.49489957,  0.56672966,\n",
              "          -0.7000441 , -0.2339939 ],\n",
              "         [ 0.70015454,  0.53817618,  0.51159191,  0.72905028,\n",
              "          -0.70903017, -0.23170732],\n",
              "         [ 0.71251929,  0.52086556,  0.51097375,  0.78281176,\n",
              "          -0.72381238, -0.22713415],\n",
              "         ...,\n",
              "         [ 0.522102  ,  0.38423491,  0.36197835,  0.54368359,\n",
              "          -0.76300011, -0.39481707],\n",
              "         [ 0.65811437,  0.50108194,  0.4850077 ,  0.70530242,\n",
              "          -0.75666107, -0.39557927],\n",
              "         [ 0.58763528,  0.46584237,  0.46584237,  0.64699656,\n",
              "          -0.76121891, -0.38795732]]],\n",
              "\n",
              "\n",
              "       ...,\n",
              "\n",
              "\n",
              "       [[[ 0.        ,  0.        ,  0.        ,  0.        ,\n",
              "           0.        ,  0.        ],\n",
              "         [ 0.        ,  0.        ,  0.        ,  0.        ,\n",
              "           0.        ,  0.        ],\n",
              "         [ 0.        ,  0.        ,  0.        ,  0.        ,\n",
              "           0.        ,  0.        ],\n",
              "         ...,\n",
              "         [ 0.        ,  0.        ,  0.        ,  0.        ,\n",
              "           0.        ,  0.        ],\n",
              "         [ 0.        ,  0.        ,  0.        ,  0.        ,\n",
              "           0.        ,  0.        ],\n",
              "         [ 0.        ,  0.        ,  0.        ,  0.        ,\n",
              "           0.        ,  0.        ]],\n",
              "\n",
              "        [[ 0.        ,  0.        ,  0.        ,  0.        ,\n",
              "           0.        ,  0.        ],\n",
              "         [ 0.        ,  0.        ,  0.        ,  0.        ,\n",
              "           0.        ,  0.        ],\n",
              "         [ 0.        ,  0.        ,  0.        ,  0.        ,\n",
              "           0.        ,  0.        ],\n",
              "         ...,\n",
              "         [ 0.        ,  0.        ,  0.        ,  0.        ,\n",
              "           0.        ,  0.        ],\n",
              "         [ 0.        ,  0.        ,  0.        ,  0.        ,\n",
              "           0.        ,  0.        ],\n",
              "         [ 0.        ,  0.        ,  0.        ,  0.        ,\n",
              "           0.        ,  0.        ]],\n",
              "\n",
              "        [[ 0.        ,  0.        ,  0.        ,  0.        ,\n",
              "           0.        ,  0.        ],\n",
              "         [ 0.        ,  0.        ,  0.        ,  0.        ,\n",
              "           0.        ,  0.        ],\n",
              "         [ 0.        ,  0.        ,  0.        ,  0.        ,\n",
              "           0.        ,  0.        ],\n",
              "         ...,\n",
              "         [ 0.        ,  0.        ,  0.        ,  0.        ,\n",
              "           0.        ,  0.        ],\n",
              "         [ 0.        ,  0.        ,  0.        ,  0.        ,\n",
              "           0.        ,  0.        ],\n",
              "         [ 0.        ,  0.        ,  0.        ,  0.        ,\n",
              "           0.        ,  0.        ]],\n",
              "\n",
              "        ...,\n",
              "\n",
              "        [[ 0.        ,  0.        ,  0.        ,  0.        ,\n",
              "           0.        ,  0.        ],\n",
              "         [ 0.        ,  0.        ,  0.        ,  0.        ,\n",
              "           0.        ,  0.        ],\n",
              "         [ 0.        ,  0.        ,  0.        ,  0.        ,\n",
              "           0.        ,  0.        ],\n",
              "         ...,\n",
              "         [ 0.        ,  0.        ,  0.        ,  0.        ,\n",
              "           0.        ,  0.        ],\n",
              "         [ 0.        ,  0.        ,  0.        ,  0.        ,\n",
              "           0.        ,  0.        ],\n",
              "         [ 0.        ,  0.        ,  0.        ,  0.        ,\n",
              "           0.        ,  0.        ]],\n",
              "\n",
              "        [[ 0.        ,  0.        ,  0.        ,  0.        ,\n",
              "           0.        ,  0.        ],\n",
              "         [ 0.        ,  0.        ,  0.        ,  0.        ,\n",
              "           0.        ,  0.        ],\n",
              "         [ 0.        ,  0.        ,  0.        ,  0.        ,\n",
              "           0.        ,  0.        ],\n",
              "         ...,\n",
              "         [ 0.        ,  0.        ,  0.        ,  0.        ,\n",
              "           0.        ,  0.        ],\n",
              "         [ 0.        ,  0.        ,  0.        ,  0.        ,\n",
              "           0.        ,  0.        ],\n",
              "         [ 0.        ,  0.        ,  0.        ,  0.        ,\n",
              "           0.        ,  0.        ]],\n",
              "\n",
              "        [[ 0.        ,  0.        ,  0.        ,  0.        ,\n",
              "           0.        ,  0.        ],\n",
              "         [ 0.        ,  0.        ,  0.        ,  0.        ,\n",
              "           0.        ,  0.        ],\n",
              "         [ 0.        ,  0.        ,  0.        ,  0.        ,\n",
              "           0.        ,  0.        ],\n",
              "         ...,\n",
              "         [ 0.        ,  0.        ,  0.        ,  0.        ,\n",
              "           0.        ,  0.        ],\n",
              "         [ 0.        ,  0.        ,  0.        ,  0.        ,\n",
              "           0.        ,  0.        ],\n",
              "         [ 0.        ,  0.        ,  0.        ,  0.        ,\n",
              "           0.        ,  0.        ]]],\n",
              "\n",
              "\n",
              "       [[[ 0.        ,  0.        ,  0.        ,  0.        ,\n",
              "           0.        ,  0.        ],\n",
              "         [ 0.        ,  0.        ,  0.        ,  0.        ,\n",
              "           0.        ,  0.        ],\n",
              "         [ 0.        ,  0.        ,  0.        ,  0.        ,\n",
              "           0.        ,  0.        ],\n",
              "         ...,\n",
              "         [ 0.        ,  0.        ,  0.        ,  0.        ,\n",
              "           0.        ,  0.        ],\n",
              "         [ 0.        ,  0.        ,  0.        ,  0.        ,\n",
              "           0.        ,  0.        ],\n",
              "         [ 0.        ,  0.        ,  0.        ,  0.        ,\n",
              "           0.        ,  0.        ]],\n",
              "\n",
              "        [[ 0.        ,  0.        ,  0.        ,  0.        ,\n",
              "           0.        ,  0.        ],\n",
              "         [ 0.        ,  0.        ,  0.        ,  0.        ,\n",
              "           0.        ,  0.        ],\n",
              "         [ 0.        ,  0.        ,  0.        ,  0.        ,\n",
              "           0.        ,  0.        ],\n",
              "         ...,\n",
              "         [ 0.        ,  0.        ,  0.        ,  0.        ,\n",
              "           0.        ,  0.        ],\n",
              "         [ 0.        ,  0.        ,  0.        ,  0.        ,\n",
              "           0.        ,  0.        ],\n",
              "         [ 0.        ,  0.        ,  0.        ,  0.        ,\n",
              "           0.        ,  0.        ]],\n",
              "\n",
              "        [[ 0.        ,  0.        ,  0.        ,  0.        ,\n",
              "           0.        ,  0.        ],\n",
              "         [ 0.        ,  0.        ,  0.        ,  0.        ,\n",
              "           0.        ,  0.        ],\n",
              "         [ 0.        ,  0.        ,  0.        ,  0.        ,\n",
              "           0.        ,  0.        ],\n",
              "         ...,\n",
              "         [ 0.        ,  0.        ,  0.        ,  0.        ,\n",
              "           0.        ,  0.        ],\n",
              "         [ 0.        ,  0.        ,  0.        ,  0.        ,\n",
              "           0.        ,  0.        ],\n",
              "         [ 0.        ,  0.        ,  0.        ,  0.        ,\n",
              "           0.        ,  0.        ]],\n",
              "\n",
              "        ...,\n",
              "\n",
              "        [[ 0.        ,  0.        ,  0.        ,  0.        ,\n",
              "           0.        ,  0.        ],\n",
              "         [ 0.        ,  0.        ,  0.        ,  0.        ,\n",
              "           0.        ,  0.        ],\n",
              "         [ 0.        ,  0.        ,  0.        ,  0.        ,\n",
              "           0.        ,  0.        ],\n",
              "         ...,\n",
              "         [ 0.        ,  0.        ,  0.        ,  0.        ,\n",
              "           0.        ,  0.        ],\n",
              "         [ 0.        ,  0.        ,  0.        ,  0.        ,\n",
              "           0.        ,  0.        ],\n",
              "         [ 0.        ,  0.        ,  0.        ,  0.        ,\n",
              "           0.        ,  0.        ]],\n",
              "\n",
              "        [[ 0.        ,  0.        ,  0.        ,  0.        ,\n",
              "           0.        ,  0.        ],\n",
              "         [ 0.        ,  0.        ,  0.        ,  0.        ,\n",
              "           0.        ,  0.        ],\n",
              "         [ 0.        ,  0.        ,  0.        ,  0.        ,\n",
              "           0.        ,  0.        ],\n",
              "         ...,\n",
              "         [ 0.        ,  0.        ,  0.        ,  0.        ,\n",
              "           0.        ,  0.        ],\n",
              "         [ 0.        ,  0.        ,  0.        ,  0.        ,\n",
              "           0.        ,  0.        ],\n",
              "         [ 0.        ,  0.        ,  0.        ,  0.        ,\n",
              "           0.        ,  0.        ]],\n",
              "\n",
              "        [[ 0.        ,  0.        ,  0.        ,  0.        ,\n",
              "           0.        ,  0.        ],\n",
              "         [ 0.        ,  0.        ,  0.        ,  0.        ,\n",
              "           0.        ,  0.        ],\n",
              "         [ 0.        ,  0.        ,  0.        ,  0.        ,\n",
              "           0.        ,  0.        ],\n",
              "         ...,\n",
              "         [ 0.        ,  0.        ,  0.        ,  0.        ,\n",
              "           0.        ,  0.        ],\n",
              "         [ 0.        ,  0.        ,  0.        ,  0.        ,\n",
              "           0.        ,  0.        ],\n",
              "         [ 0.        ,  0.        ,  0.        ,  0.        ,\n",
              "           0.        ,  0.        ]]],\n",
              "\n",
              "\n",
              "       [[[ 0.        ,  0.        ,  0.        ,  0.        ,\n",
              "           0.        ,  0.        ],\n",
              "         [ 0.        ,  0.        ,  0.        ,  0.        ,\n",
              "           0.        ,  0.        ],\n",
              "         [ 0.        ,  0.        ,  0.        ,  0.        ,\n",
              "           0.        ,  0.        ],\n",
              "         ...,\n",
              "         [ 0.        ,  0.        ,  0.        ,  0.        ,\n",
              "           0.        ,  0.        ],\n",
              "         [ 0.        ,  0.        ,  0.        ,  0.        ,\n",
              "           0.        ,  0.        ],\n",
              "         [ 0.        ,  0.        ,  0.        ,  0.        ,\n",
              "           0.        ,  0.        ]],\n",
              "\n",
              "        [[ 0.        ,  0.        ,  0.        ,  0.        ,\n",
              "           0.        ,  0.        ],\n",
              "         [ 0.        ,  0.        ,  0.        ,  0.        ,\n",
              "           0.        ,  0.        ],\n",
              "         [ 0.        ,  0.        ,  0.        ,  0.        ,\n",
              "           0.        ,  0.        ],\n",
              "         ...,\n",
              "         [ 0.        ,  0.        ,  0.        ,  0.        ,\n",
              "           0.        ,  0.        ],\n",
              "         [ 0.        ,  0.        ,  0.        ,  0.        ,\n",
              "           0.        ,  0.        ],\n",
              "         [ 0.        ,  0.        ,  0.        ,  0.        ,\n",
              "           0.        ,  0.        ]],\n",
              "\n",
              "        [[ 0.        ,  0.        ,  0.        ,  0.        ,\n",
              "           0.        ,  0.        ],\n",
              "         [ 0.        ,  0.        ,  0.        ,  0.        ,\n",
              "           0.        ,  0.        ],\n",
              "         [ 0.        ,  0.        ,  0.        ,  0.        ,\n",
              "           0.        ,  0.        ],\n",
              "         ...,\n",
              "         [ 0.        ,  0.        ,  0.        ,  0.        ,\n",
              "           0.        ,  0.        ],\n",
              "         [ 0.        ,  0.        ,  0.        ,  0.        ,\n",
              "           0.        ,  0.        ],\n",
              "         [ 0.        ,  0.        ,  0.        ,  0.        ,\n",
              "           0.        ,  0.        ]],\n",
              "\n",
              "        ...,\n",
              "\n",
              "        [[ 0.        ,  0.        ,  0.        ,  0.        ,\n",
              "           0.        ,  0.        ],\n",
              "         [ 0.        ,  0.        ,  0.        ,  0.        ,\n",
              "           0.        ,  0.        ],\n",
              "         [ 0.        ,  0.        ,  0.        ,  0.        ,\n",
              "           0.        ,  0.        ],\n",
              "         ...,\n",
              "         [ 0.        ,  0.        ,  0.        ,  0.        ,\n",
              "           0.        ,  0.        ],\n",
              "         [ 0.        ,  0.        ,  0.        ,  0.        ,\n",
              "           0.        ,  0.        ],\n",
              "         [ 0.        ,  0.        ,  0.        ,  0.        ,\n",
              "           0.        ,  0.        ]],\n",
              "\n",
              "        [[ 0.        ,  0.        ,  0.        ,  0.        ,\n",
              "           0.        ,  0.        ],\n",
              "         [ 0.        ,  0.        ,  0.        ,  0.        ,\n",
              "           0.        ,  0.        ],\n",
              "         [ 0.        ,  0.        ,  0.        ,  0.        ,\n",
              "           0.        ,  0.        ],\n",
              "         ...,\n",
              "         [ 0.        ,  0.        ,  0.        ,  0.        ,\n",
              "           0.        ,  0.        ],\n",
              "         [ 0.        ,  0.        ,  0.        ,  0.        ,\n",
              "           0.        ,  0.        ],\n",
              "         [ 0.        ,  0.        ,  0.        ,  0.        ,\n",
              "           0.        ,  0.        ]],\n",
              "\n",
              "        [[ 0.        ,  0.        ,  0.        ,  0.        ,\n",
              "           0.        ,  0.        ],\n",
              "         [ 0.        ,  0.        ,  0.        ,  0.        ,\n",
              "           0.        ,  0.        ],\n",
              "         [ 0.        ,  0.        ,  0.        ,  0.        ,\n",
              "           0.        ,  0.        ],\n",
              "         ...,\n",
              "         [ 0.        ,  0.        ,  0.        ,  0.        ,\n",
              "           0.        ,  0.        ],\n",
              "         [ 0.        ,  0.        ,  0.        ,  0.        ,\n",
              "           0.        ,  0.        ],\n",
              "         [ 0.        ,  0.        ,  0.        ,  0.        ,\n",
              "           0.        ,  0.        ]]]])"
            ]
          },
          "metadata": {},
          "execution_count": 42
        }
      ]
    },
    {
      "cell_type": "code",
      "source": [
        "import tensorflow as tf\n",
        "\n",
        "model = tf.keras.models.load_model('/content/drive/My Drive/model_save.h5')"
      ],
      "metadata": {
        "colab": {
          "base_uri": "https://localhost:8080/"
        },
        "id": "xPjlYN-gZBIN",
        "outputId": "c250b28e-df29-4951-b8a2-3a2c1debba5d"
      },
      "execution_count": null,
      "outputs": [
        {
          "output_type": "stream",
          "name": "stderr",
          "text": [
            "WARNING:absl:Compiled the loaded model, but the compiled metrics have yet to be built. `model.compile_metrics` will be empty until you train or evaluate the model.\n"
          ]
        }
      ]
    },
    {
      "cell_type": "code",
      "source": [
        "threshold = 0.5\n",
        "pred_img = model.predict(TEST_XX2)\n",
        "maxi=pred_img.max()\n",
        "mini = pred_img.min()\n",
        "\n",
        "\n",
        "pred_img = (pred_img > threshold).astype(np.uint8)\n"
      ],
      "metadata": {
        "colab": {
          "base_uri": "https://localhost:8080/"
        },
        "id": "1rQyNmcJxer4",
        "outputId": "48238693-8930-40af-f608-d15046fc5504"
      },
      "execution_count": null,
      "outputs": [
        {
          "output_type": "stream",
          "name": "stdout",
          "text": [
            "\u001b[1m1/1\u001b[0m \u001b[32m━━━━━━━━━━━━━━━━━━━━\u001b[0m\u001b[37m\u001b[0m \u001b[1m1s\u001b[0m 563ms/step\n"
          ]
        }
      ]
    },
    {
      "cell_type": "code",
      "source": [
        "img = 3\n",
        "fig,(ax1,ax2)= plt.subplots(1,2,figsize=(15,10))\n",
        "ax1.imshow(pred_img[img, :, :, 0])\n",
        "ax1.set_title(\"Predictions\")\n",
        "\n",
        "ax2.imshow(TEST_XX2[img, :, :, 0:3])\n",
        "ax2.set_title('Test Image')"
      ],
      "metadata": {
        "colab": {
          "base_uri": "https://localhost:8080/",
          "height": 646
        },
        "id": "6L3AGZh3xosy",
        "outputId": "25ce0936-7176-4dc6-eb31-ec3d4cab1897"
      },
      "execution_count": null,
      "outputs": [
        {
          "output_type": "stream",
          "name": "stderr",
          "text": [
            "WARNING:matplotlib.image:Clipping input data to the valid range for imshow with RGB data ([0..1] for floats or [0..255] for integers).\n"
          ]
        },
        {
          "output_type": "execute_result",
          "data": {
            "text/plain": [
              "Text(0.5, 1.0, 'Test Image')"
            ]
          },
          "metadata": {},
          "execution_count": 44
        },
        {
          "output_type": "display_data",
          "data": {
            "text/plain": [
              "<Figure size 1500x1000 with 2 Axes>"
            ],
            "image/png": "[encoded data removed]"
          },
          "metadata": {}
        }
      ]
    },
    {
      "cell_type": "code",
      "source": [
        "pred_img"
      ],
      "metadata": {
        "id": "z_GBEl20x313",
        "colab": {
          "base_uri": "https://localhost:8080/"
        },
        "outputId": "92e980df-06f5-4808-e257-9edd7c0c3173"
      },
      "execution_count": null,
      "outputs": [
        {
          "output_type": "execute_result",
          "data": {
            "text/plain": [
              "array([[[[0],\n",
              "         [0],\n",
              "         [0],\n",
              "         ...,\n",
              "         [0],\n",
              "         [0],\n",
              "         [0]],\n",
              "\n",
              "        [[0],\n",
              "         [0],\n",
              "         [0],\n",
              "         ...,\n",
              "         [0],\n",
              "         [0],\n",
              "         [0]],\n",
              "\n",
              "        [[0],\n",
              "         [0],\n",
              "         [0],\n",
              "         ...,\n",
              "         [0],\n",
              "         [0],\n",
              "         [0]],\n",
              "\n",
              "        ...,\n",
              "\n",
              "        [[0],\n",
              "         [0],\n",
              "         [0],\n",
              "         ...,\n",
              "         [0],\n",
              "         [0],\n",
              "         [0]],\n",
              "\n",
              "        [[0],\n",
              "         [0],\n",
              "         [0],\n",
              "         ...,\n",
              "         [0],\n",
              "         [0],\n",
              "         [0]],\n",
              "\n",
              "        [[0],\n",
              "         [0],\n",
              "         [0],\n",
              "         ...,\n",
              "         [0],\n",
              "         [0],\n",
              "         [0]]],\n",
              "\n",
              "\n",
              "       [[[0],\n",
              "         [0],\n",
              "         [0],\n",
              "         ...,\n",
              "         [0],\n",
              "         [0],\n",
              "         [0]],\n",
              "\n",
              "        [[0],\n",
              "         [0],\n",
              "         [0],\n",
              "         ...,\n",
              "         [0],\n",
              "         [0],\n",
              "         [0]],\n",
              "\n",
              "        [[0],\n",
              "         [0],\n",
              "         [0],\n",
              "         ...,\n",
              "         [0],\n",
              "         [0],\n",
              "         [0]],\n",
              "\n",
              "        ...,\n",
              "\n",
              "        [[0],\n",
              "         [0],\n",
              "         [0],\n",
              "         ...,\n",
              "         [0],\n",
              "         [0],\n",
              "         [0]],\n",
              "\n",
              "        [[0],\n",
              "         [0],\n",
              "         [0],\n",
              "         ...,\n",
              "         [0],\n",
              "         [0],\n",
              "         [0]],\n",
              "\n",
              "        [[0],\n",
              "         [0],\n",
              "         [0],\n",
              "         ...,\n",
              "         [0],\n",
              "         [0],\n",
              "         [0]]],\n",
              "\n",
              "\n",
              "       [[[0],\n",
              "         [0],\n",
              "         [0],\n",
              "         ...,\n",
              "         [0],\n",
              "         [0],\n",
              "         [0]],\n",
              "\n",
              "        [[0],\n",
              "         [0],\n",
              "         [0],\n",
              "         ...,\n",
              "         [0],\n",
              "         [0],\n",
              "         [0]],\n",
              "\n",
              "        [[0],\n",
              "         [0],\n",
              "         [0],\n",
              "         ...,\n",
              "         [0],\n",
              "         [0],\n",
              "         [0]],\n",
              "\n",
              "        ...,\n",
              "\n",
              "        [[0],\n",
              "         [0],\n",
              "         [0],\n",
              "         ...,\n",
              "         [0],\n",
              "         [0],\n",
              "         [0]],\n",
              "\n",
              "        [[0],\n",
              "         [0],\n",
              "         [0],\n",
              "         ...,\n",
              "         [0],\n",
              "         [0],\n",
              "         [0]],\n",
              "\n",
              "        [[0],\n",
              "         [0],\n",
              "         [0],\n",
              "         ...,\n",
              "         [0],\n",
              "         [0],\n",
              "         [0]]],\n",
              "\n",
              "\n",
              "       ...,\n",
              "\n",
              "\n",
              "       [[[0],\n",
              "         [0],\n",
              "         [0],\n",
              "         ...,\n",
              "         [0],\n",
              "         [0],\n",
              "         [0]],\n",
              "\n",
              "        [[0],\n",
              "         [0],\n",
              "         [0],\n",
              "         ...,\n",
              "         [0],\n",
              "         [0],\n",
              "         [0]],\n",
              "\n",
              "        [[0],\n",
              "         [0],\n",
              "         [0],\n",
              "         ...,\n",
              "         [0],\n",
              "         [0],\n",
              "         [0]],\n",
              "\n",
              "        ...,\n",
              "\n",
              "        [[0],\n",
              "         [0],\n",
              "         [0],\n",
              "         ...,\n",
              "         [0],\n",
              "         [0],\n",
              "         [0]],\n",
              "\n",
              "        [[0],\n",
              "         [0],\n",
              "         [0],\n",
              "         ...,\n",
              "         [0],\n",
              "         [0],\n",
              "         [0]],\n",
              "\n",
              "        [[0],\n",
              "         [0],\n",
              "         [0],\n",
              "         ...,\n",
              "         [0],\n",
              "         [0],\n",
              "         [0]]],\n",
              "\n",
              "\n",
              "       [[[0],\n",
              "         [0],\n",
              "         [0],\n",
              "         ...,\n",
              "         [0],\n",
              "         [0],\n",
              "         [0]],\n",
              "\n",
              "        [[0],\n",
              "         [0],\n",
              "         [0],\n",
              "         ...,\n",
              "         [0],\n",
              "         [0],\n",
              "         [0]],\n",
              "\n",
              "        [[0],\n",
              "         [0],\n",
              "         [0],\n",
              "         ...,\n",
              "         [0],\n",
              "         [0],\n",
              "         [0]],\n",
              "\n",
              "        ...,\n",
              "\n",
              "        [[0],\n",
              "         [0],\n",
              "         [0],\n",
              "         ...,\n",
              "         [0],\n",
              "         [0],\n",
              "         [0]],\n",
              "\n",
              "        [[0],\n",
              "         [0],\n",
              "         [0],\n",
              "         ...,\n",
              "         [0],\n",
              "         [0],\n",
              "         [0]],\n",
              "\n",
              "        [[0],\n",
              "         [0],\n",
              "         [0],\n",
              "         ...,\n",
              "         [0],\n",
              "         [0],\n",
              "         [0]]],\n",
              "\n",
              "\n",
              "       [[[0],\n",
              "         [0],\n",
              "         [0],\n",
              "         ...,\n",
              "         [0],\n",
              "         [0],\n",
              "         [0]],\n",
              "\n",
              "        [[0],\n",
              "         [0],\n",
              "         [0],\n",
              "         ...,\n",
              "         [0],\n",
              "         [0],\n",
              "         [0]],\n",
              "\n",
              "        [[0],\n",
              "         [0],\n",
              "         [0],\n",
              "         ...,\n",
              "         [0],\n",
              "         [0],\n",
              "         [0]],\n",
              "\n",
              "        ...,\n",
              "\n",
              "        [[0],\n",
              "         [0],\n",
              "         [0],\n",
              "         ...,\n",
              "         [0],\n",
              "         [0],\n",
              "         [0]],\n",
              "\n",
              "        [[0],\n",
              "         [0],\n",
              "         [0],\n",
              "         ...,\n",
              "         [0],\n",
              "         [0],\n",
              "         [0]],\n",
              "\n",
              "        [[0],\n",
              "         [0],\n",
              "         [0],\n",
              "         ...,\n",
              "         [0],\n",
              "         [0],\n",
              "         [0]]]], dtype=uint8)"
            ]
          },
          "metadata": {},
          "execution_count": 45
        }
      ]
    },
    {
      "cell_type": "code",
      "source": [
        "!pip install rasterio"
      ],
      "metadata": {
        "colab": {
          "base_uri": "https://localhost:8080/"
        },
        "id": "lPjV1hYZl6Ed",
        "outputId": "db1cc5dd-c448-4cda-fd4e-60965635516b"
      },
      "execution_count": null,
      "outputs": [
        {
          "output_type": "stream",
          "name": "stdout",
          "text": [
            "Collecting rasterio\n",
            "  Downloading rasterio-1.4.3-cp310-cp310-manylinux_2_17_x86_64.manylinux2014_x86_64.whl.metadata (9.1 kB)\n",
            "Collecting affine (from rasterio)\n",
            "  Downloading affine-2.4.0-py3-none-any.whl.metadata (4.0 kB)\n",
            "Requirement already satisfied: attrs in /usr/local/lib/python3.10/dist-packages (from rasterio) (24.2.0)\n",
            "Requirement already satisfied: certifi in /usr/local/lib/python3.10/dist-packages (from rasterio) (2024.8.30)\n",
            "Requirement already satisfied: click>=4.0 in /usr/local/lib/python3.10/dist-packages (from rasterio) (8.1.7)\n",
            "Collecting cligj>=0.5 (from rasterio)\n",
            "  Downloading cligj-0.7.2-py3-none-any.whl.metadata (5.0 kB)\n",
            "Requirement already satisfied: numpy>=1.24 in /usr/local/lib/python3.10/dist-packages (from rasterio) (1.26.4)\n",
            "Collecting click-plugins (from rasterio)\n",
            "  Downloading click_plugins-1.1.1-py2.py3-none-any.whl.metadata (6.4 kB)\n",
            "Requirement already satisfied: pyparsing in /usr/local/lib/python3.10/dist-packages (from rasterio) (3.2.0)\n",
            "Downloading rasterio-1.4.3-cp310-cp310-manylinux_2_17_x86_64.manylinux2014_x86_64.whl (22.2 MB)\n",
            "\u001b[2K   \u001b[90m━━━━━━━━━━━━━━━━━━━━━━━━━━━━━━━━━━━━━━━━\u001b[0m \u001b[32m22.2/22.2 MB\u001b[0m \u001b[31m20.3 MB/s\u001b[0m eta \u001b[36m0:00:00\u001b[0m\n",
            "\u001b[?25hDownloading cligj-0.7.2-py3-none-any.whl (7.1 kB)\n",
            "Downloading affine-2.4.0-py3-none-any.whl (15 kB)\n",
            "Downloading click_plugins-1.1.1-py2.py3-none-any.whl (7.5 kB)\n",
            "Installing collected packages: cligj, click-plugins, affine, rasterio\n",
            "Successfully installed affine-2.4.0 click-plugins-1.1.1 cligj-0.7.2 rasterio-1.4.3\n"
          ]
        }
      ]
    },
    {
      "cell_type": "code",
      "source": [
        "import rasterio\n",
        "import numpy as np\n",
        "\n",
        "\n",
        "file_path = '/content/drive/My Drive/tirupati_shovik/Sentinel2_Image_3.tif'\n",
        "\n",
        "\n",
        "with rasterio.open(file_path) as src:\n",
        "    tif_array = src.read()\n",
        "\n",
        "\n",
        "print(\"TIF Array Shape:\", tif_array.shape)\n",
        "print(\"TIF Array Data Type:\", tif_array.dtype)\n",
        "print(\"TIF Array Sample Data:\", tif_array)"
      ],
      "metadata": {
        "id": "s-env9EIs7pq",
        "colab": {
          "base_uri": "https://localhost:8080/"
        },
        "outputId": "c859c0dd-2a5a-414b-ff97-5da8bfd773ee"
      },
      "execution_count": null,
      "outputs": [
        {
          "output_type": "stream",
          "name": "stdout",
          "text": [
            "TIF Array Shape: (4, 460, 557)\n",
            "TIF Array Data Type: float64\n",
            "TIF Array Sample Data: [[[1513. 1541. 1540. ... 1584. 1516. 1524.]\n",
            "  [1470. 1449. 1472. ... 1636. 1601. 1598.]\n",
            "  [1449. 1434. 1449. ... 1619. 1628. 1650.]\n",
            "  ...\n",
            "  [2540. 2610. 2844. ... 1475. 1468. 1472.]\n",
            "  [2906. 3086. 3318. ... 1476. 1460. 1474.]\n",
            "  [3426. 3614. 4034. ... 1499. 1475. 1426.]]\n",
            "\n",
            " [[1652. 1670. 1666. ... 1728. 1725. 1777.]\n",
            "  [1584. 1562. 1576. ... 1755. 1723. 1794.]\n",
            "  [1539. 1511. 1505. ... 1758. 1736. 1772.]\n",
            "  ...\n",
            "  [2470. 2462. 2712. ... 1557. 1542. 1573.]\n",
            "  [2808. 2886. 3160. ... 1588. 1558. 1548.]\n",
            "  [3220. 3390. 3734. ... 1634. 1594. 1531.]]\n",
            "\n",
            " [[1603. 1678. 1728. ... 1913. 1694. 1693.]\n",
            "  [1468. 1483. 1572. ... 1980. 1876. 1888.]\n",
            "  [1439. 1470. 1493. ... 1946. 1951. 1968.]\n",
            "  ...\n",
            "  [2182. 2194. 2444. ... 1398. 1395. 1403.]\n",
            "  [2510. 2620. 2878. ... 1402. 1399. 1410.]\n",
            "  [2936. 3132. 3502. ... 1452. 1439. 1408.]]\n",
            "\n",
            " [[3166. 3026. 2892. ... 3250. 3546. 3862.]\n",
            "  [3322. 3032. 2918. ... 3144. 3188. 3346.]\n",
            "  [3002. 2734. 2848. ... 3020. 3038. 3154.]\n",
            "  ...\n",
            "  [4054. 4340. 4308. ... 3324. 3570. 3504.]\n",
            "  [4408. 4508. 4372. ... 3386. 3714. 3492.]\n",
            "  [4640. 4784. 5000. ... 3438. 3420. 3288.]]]\n"
          ]
        }
      ]
    },
    {
      "cell_type": "code",
      "source": [
        "import rasterio\n",
        "import numpy as np\n",
        "\n",
        "file_path2 = '/content/drive/My Drive/tirupati_shovik/coregistered_DEM.tif'\n",
        "\n",
        "\n",
        "with rasterio.open(file_path2) as src:\n",
        "    tif_array2 = src.read()\n",
        "\n",
        "print(\"TIF Array Shape:\", tif_array2.shape)\n",
        "print(\"TIF Array Data Type:\", tif_array2.dtype)\n",
        "print(\"TIF Array Sample Data:\", tif_array2)"
      ],
      "metadata": {
        "colab": {
          "base_uri": "https://localhost:8080/"
        },
        "id": "WMsEg3w7lWVN",
        "outputId": "9d853f1e-0de0-40c1-efa1-5e53e74ced68"
      },
      "execution_count": null,
      "outputs": [
        {
          "output_type": "stream",
          "name": "stdout",
          "text": [
            "TIF Array Shape: (1, 460, 557)\n",
            "TIF Array Data Type: int16\n",
            "TIF Array Sample Data: [[[ 949  948  946 ...  519  514  510]\n",
            "  [ 945  943  942 ...  517  513  509]\n",
            "  [ 941  939  938 ...  515  512  508]\n",
            "  ...\n",
            "  [1679 1676 1673 ...  919  917  914]\n",
            "  [1682 1679 1676 ...  922  919  915]\n",
            "  [1682 1679 1676 ...  922  919  915]]]\n"
          ]
        }
      ]
    },
    {
      "cell_type": "code",
      "source": [
        "tif_array[np.isnan(tif_array)] = 0.000001\n",
        "tif_array2[np.isnan(tif_array2)] = 0.000001"
      ],
      "metadata": {
        "id": "LU8JMGMKRYhc"
      },
      "execution_count": null,
      "outputs": []
    },
    {
      "cell_type": "code",
      "source": [
        "\n",
        "import numpy as np\n",
        "\n",
        "\n",
        "dem_data = tif_array2\n",
        "\n",
        "\n",
        "elevation_array = dem_data[0]\n",
        "\n",
        "\n",
        "dy, dx = np.gradient(elevation_array)\n",
        "\n",
        "slope_array = np.arctan(np.sqrt(dx**2 + dy**2))\n",
        "\n",
        "slope_array_deg = np.degrees(slope_array)\n",
        "\n",
        "print(\"Elevation Array Shape:\", elevation_array.shape)\n",
        "print(\"Slope Array Shape:\", slope_array.shape)\n"
      ],
      "metadata": {
        "colab": {
          "base_uri": "https://localhost:8080/"
        },
        "id": "q_HWkrjHla8e",
        "outputId": "ef2b6add-17ce-4bb4-849d-78b115599270"
      },
      "execution_count": null,
      "outputs": [
        {
          "output_type": "stream",
          "name": "stdout",
          "text": [
            "Elevation Array Shape: (460, 557)\n",
            "Slope Array Shape: (460, 557)\n"
          ]
        }
      ]
    },
    {
      "cell_type": "code",
      "source": [
        "slope_array\n"
      ],
      "metadata": {
        "colab": {
          "base_uri": "https://localhost:8080/"
        },
        "id": "ZDwRXdfGm2ZN",
        "outputId": "db36b331-a318-4846-b343-f4b27e3fc23c"
      },
      "execution_count": null,
      "outputs": [
        {
          "output_type": "execute_result",
          "data": {
            "text/plain": [
              "array([[1.3328552 , 1.38152409, 1.3328552 , ..., 1.45677339, 1.35717574,\n",
              "        1.3328552 ],\n",
              "       [1.35080835, 1.36302032, 1.32763546, ..., 1.46275347, 1.3328552 ,\n",
              "        1.3328552 ],\n",
              "       [1.32763546, 1.28104463, 1.25313313, ..., 1.45677339, 1.35717574,\n",
              "        1.38482615],\n",
              "       ...,\n",
              "       [1.33931896, 1.33931896, 1.34235933, ..., 1.30024656, 1.26805038,\n",
              "        1.26451896],\n",
              "       [1.28104463, 1.28104463, 1.19028995, ..., 1.24037368, 1.3026894 ,\n",
              "        1.32763546],\n",
              "       [1.24904577, 1.24904577, 1.10714872, ..., 1.19028995, 1.29249667,\n",
              "        1.32581766]])"
            ]
          },
          "metadata": {},
          "execution_count": 42
        }
      ]
    },
    {
      "cell_type": "code",
      "source": [
        "slope_array_deg"
      ],
      "metadata": {
        "colab": {
          "base_uri": "https://localhost:8080/"
        },
        "id": "CbqiUU6FnKcE",
        "outputId": "4f673e1d-7639-4a59-f556-9ca12ad0f9ae"
      },
      "execution_count": null,
      "outputs": [
        {
          "output_type": "execute_result",
          "data": {
            "text/plain": [
              "array([[76.36697777, 79.15549993, 76.36697777, ..., 83.46696692,\n",
              "        77.7604417 , 76.36697777],\n",
              "       [77.39561735, 78.09531189, 76.06790845, ..., 83.80960054,\n",
              "        76.36697777, 76.36697777],\n",
              "       [76.06790845, 73.3984504 , 71.79923974, ..., 83.46696692,\n",
              "        77.7604417 , 79.34469395],\n",
              "       ...,\n",
              "       [76.73732399, 76.73732399, 76.91152391, ..., 74.49864043,\n",
              "        72.65393471, 72.45159939],\n",
              "       [73.3984504 , 73.3984504 , 68.19859051, ..., 71.06817682,\n",
              "        74.63860461, 76.06790845],\n",
              "       [71.56505118, 71.56505118, 63.43494882, ..., 68.19859051,\n",
              "        74.0546041 , 75.96375653]])"
            ]
          },
          "metadata": {},
          "execution_count": 43
        }
      ]
    },
    {
      "cell_type": "code",
      "source": [
        "elevation_array"
      ],
      "metadata": {
        "colab": {
          "base_uri": "https://localhost:8080/"
        },
        "id": "WPak7y8nnO0_",
        "outputId": "376561d6-f41d-44e6-a403-e250dbb6ff80"
      },
      "execution_count": null,
      "outputs": [
        {
          "output_type": "execute_result",
          "data": {
            "text/plain": [
              "array([[ 949,  948,  946, ...,  519,  514,  510],\n",
              "       [ 945,  943,  942, ...,  517,  513,  509],\n",
              "       [ 941,  939,  938, ...,  515,  512,  508],\n",
              "       ...,\n",
              "       [1679, 1676, 1673, ...,  919,  917,  914],\n",
              "       [1682, 1679, 1676, ...,  922,  919,  915],\n",
              "       [1682, 1679, 1676, ...,  922,  919,  915]], dtype=int16)"
            ]
          },
          "metadata": {},
          "execution_count": 44
        }
      ]
    },
    {
      "cell_type": "code",
      "source": [
        "data_nir=tif_array[3,:,:]\n",
        "data_red=tif_array[0,:,:]\n",
        "\n",
        "\n",
        "data_ndvi = np.divide(data_nir - data_red,np.add(data_nir, data_red))"
      ],
      "metadata": {
        "id": "-QRuvr4OnTl3"
      },
      "execution_count": null,
      "outputs": []
    },
    {
      "cell_type": "code",
      "source": [
        "!pip install richdem"
      ],
      "metadata": {
        "colab": {
          "base_uri": "https://localhost:8080/"
        },
        "id": "ZEFQL7FByZQO",
        "outputId": "5347de3a-6c71-45a7-9cb6-fdb1c85bd98e"
      },
      "execution_count": null,
      "outputs": [
        {
          "output_type": "stream",
          "name": "stdout",
          "text": [
            "Collecting richdem\n",
            "  Downloading richdem-0.3.4.tar.gz (329 kB)\n",
            "\u001b[?25l     \u001b[90m━━━━━━━━━━━━━━━━━━━━━━━━━━━━━━━━━━━━━━━━\u001b[0m \u001b[32m0.0/329.4 kB\u001b[0m \u001b[31m?\u001b[0m eta \u001b[36m-:--:--\u001b[0m\r\u001b[2K     \u001b[91m━━━━━━━━━━━━━━━━━━━━━\u001b[0m\u001b[90m╺\u001b[0m\u001b[90m━━━━━━━━━━━━━━━━━━\u001b[0m \u001b[32m174.1/329.4 kB\u001b[0m \u001b[31m5.2 MB/s\u001b[0m eta \u001b[36m0:00:01\u001b[0m\r\u001b[2K     \u001b[91m━━━━━━━━━━━━━━━━━━━━━━━━━━━━━━━━━━━━━━━\u001b[0m\u001b[91m╸\u001b[0m \u001b[32m327.7/329.4 kB\u001b[0m \u001b[31m6.0 MB/s\u001b[0m eta \u001b[36m0:00:01\u001b[0m\r\u001b[2K     \u001b[90m━━━━━━━━━━━━━━━━━━━━━━━━━━━━━━━━━━━━━━━━\u001b[0m \u001b[32m329.4/329.4 kB\u001b[0m \u001b[31m3.8 MB/s\u001b[0m eta \u001b[36m0:00:00\u001b[0m\n",
            "\u001b[?25h  Preparing metadata (setup.py) ... \u001b[?25l\u001b[?25hdone\n",
            "Requirement already satisfied: numpy<2,>=1.7 in /usr/local/lib/python3.10/dist-packages (from richdem) (1.26.4)\n",
            "Building wheels for collected packages: richdem\n",
            "  Building wheel for richdem (setup.py) ... \u001b[?25l\u001b[?25hdone\n",
            "  Created wheel for richdem: filename=richdem-0.3.4-cp310-cp310-linux_x86_64.whl size=7844531 sha256=a6c56a1e10343dc415ba3093b547741e552ef175efdbe497d895966cf199d3ab\n",
            "  Stored in directory: /root/.cache/pip/wheels/01/61/27/5c305116b5cffecf04ed75c40f640e2baf231dae20954e31e0\n",
            "Successfully built richdem\n",
            "Installing collected packages: richdem\n",
            "Successfully installed richdem-0.3.4\n"
          ]
        }
      ]
    },
    {
      "cell_type": "code",
      "source": [
        "import richdem as rd"
      ],
      "metadata": {
        "id": "XogQDiBDySV1"
      },
      "execution_count": null,
      "outputs": []
    },
    {
      "cell_type": "code",
      "source": [
        "file_path = '/content/drive/My Drive/tirupati_shovik/coregistered_DEM.tif'\n",
        "with rasterio.open(file_path) as src:\n",
        "    dem_array = src.read(1)\n",
        "    transform = src.transform\n",
        "\n",
        "\n",
        "dem_array = dem_array.astype(float)\n",
        "dem_array[dem_array == src.nodata] = np.nan\n",
        "\n",
        "\n",
        "dem = rd.rdarray(dem_array, no_data=np.nan)\n",
        "\n",
        "\n",
        "slope = rd.TerrainAttribute(dem, attrib='slope_radians')\n",
        "slope_degrees = np.degrees(slope)\n"
      ],
      "metadata": {
        "colab": {
          "base_uri": "https://localhost:8080/"
        },
        "id": "LICosdsBzRi1",
        "outputId": "6fa29f57-5678-4ef5-e774-62e0b2c8cf36"
      },
      "execution_count": null,
      "outputs": [
        {
          "output_type": "stream",
          "name": "stdout",
          "text": [
            "Warning! No geotransform defined. Choosing a standard one! (Top left cell's top let corner at <0,0>; cells are 1x1.)\n",
            "Warning! No geotransform defined. Choosing a standard one! (Top left cell's top let corner at <0,0>; cells are 1x1.)\n"
          ]
        }
      ]
    },
    {
      "cell_type": "code",
      "source": [
        "slope.shape"
      ],
      "metadata": {
        "colab": {
          "base_uri": "https://localhost:8080/"
        },
        "id": "0ATc2q3xNyV2",
        "outputId": "cd7be23f-664b-45a9-ddef-f6efcd58ce85"
      },
      "execution_count": null,
      "outputs": [
        {
          "output_type": "execute_result",
          "data": {
            "text/plain": [
              "(460, 557)"
            ]
          },
          "metadata": {},
          "execution_count": 49
        }
      ]
    },
    {
      "cell_type": "code",
      "source": [
        "slope_array=slope"
      ],
      "metadata": {
        "id": "LlyeLqZvN82X"
      },
      "execution_count": null,
      "outputs": []
    },
    {
      "cell_type": "code",
      "source": [
        "mid_rgb = tif_array[0:3,:, :].max() / 2.0\n",
        "mid_slope = slope_array[:, :].max() / 2.0\n",
        "mid_elevation = elevation_array[:, :].max() / 2.0"
      ],
      "metadata": {
        "id": "gq0u9zQioQLt"
      },
      "execution_count": null,
      "outputs": []
    },
    {
      "cell_type": "code",
      "source": [
        "TEST_XX2 = np.zeros((1, 460, 557, 6))"
      ],
      "metadata": {
        "id": "flRMULAepukK"
      },
      "execution_count": null,
      "outputs": []
    },
    {
      "cell_type": "code",
      "source": [
        "TEST_XX2[0, :, :, 0] = 1 - tif_array[0,:, :] / mid_rgb  #RED\n",
        "TEST_XX2[0, :, :, 1] = 1 - tif_array[1,:, :] / mid_rgb #GREEN\n",
        "TEST_XX2[0, :, :, 2] = 1 - tif_array[2,:, :] / mid_rgb #BLUE\n",
        "TEST_XX2[0, :, :, 3] = data_ndvi #NDVI\n",
        "TEST_XX2[0, :, :, 4] = 1 - slope_array[:, :] / mid_slope #SLOPE\n",
        "TEST_XX2[0, :, :, 5] = 1 - elevation_array[:, :] / mid_elevation #ELEVATION"
      ],
      "metadata": {
        "id": "6wZjbCBGoqRn"
      },
      "execution_count": null,
      "outputs": []
    },
    {
      "cell_type": "code",
      "source": [
        "\n",
        "TEST_XX3=np.zeros((1, 128, 128, 6))"
      ],
      "metadata": {
        "id": "XsX1pQ7fpfYb"
      },
      "execution_count": null,
      "outputs": []
    },
    {
      "cell_type": "code",
      "source": [
        "TEST_XX3[:,:,:,:]=TEST_XX2[0,256:384,200:328,:]"
      ],
      "metadata": {
        "id": "8O2ftfAKqJke"
      },
      "execution_count": null,
      "outputs": []
    },
    {
      "cell_type": "code",
      "source": [
        "TEST_XX3"
      ],
      "metadata": {
        "colab": {
          "base_uri": "https://localhost:8080/"
        },
        "id": "38bg80s8qb_m",
        "outputId": "759a0e90-b0a0-4fe5-90e7-d9b0dfa22a44"
      },
      "execution_count": null,
      "outputs": [
        {
          "output_type": "execute_result",
          "data": {
            "text/plain": [
              "array([[[[ 0.53658537,  0.49781113,  0.51282051,  0.39237392,\n",
              "          -0.51491749, -0.13203079],\n",
              "         [ 0.53658537,  0.5       ,  0.55222014,  0.43391902,\n",
              "          -0.46176267, -0.13203079],\n",
              "         [ 0.53095685,  0.47904941,  0.52657911,  0.43967127,\n",
              "          -0.39735675, -0.13203079],\n",
              "         ...,\n",
              "         [ 0.52220138,  0.44652908,  0.51063164,  0.47635367,\n",
              "          -0.37487078, -0.02664298],\n",
              "         [ 0.52220138,  0.44652908,  0.51063164,  0.47635367,\n",
              "          -0.06137741, -0.02901125],\n",
              "         [ 0.51657286,  0.44746717,  0.50750469,  0.47397074,\n",
              "           0.40108556, -0.02901125]],\n",
              "\n",
              "        [[ 0.5478424 ,  0.51156973,  0.54534084,  0.41433779,\n",
              "          -0.39735675, -0.13439905],\n",
              "         [ 0.54534084,  0.50750469,  0.55909944,  0.41535987,\n",
              "          -0.43015373, -0.13439905],\n",
              "         [ 0.54846779,  0.50531582,  0.5681676 ,  0.42054575,\n",
              "          -0.43015373, -0.13439905],\n",
              "         ...,\n",
              "         [ 0.51282051,  0.45309568,  0.51876173,  0.47240095,\n",
              "          -0.15747499, -0.02782712],\n",
              "         [ 0.51844903,  0.45778612,  0.51907442,  0.47440273,\n",
              "           0.34154636, -0.02901125],\n",
              "         [ 0.51844903,  0.45778612,  0.51907442,  0.47440273,\n",
              "           1.        , -0.02901125]],\n",
              "\n",
              "        [[ 0.54283927,  0.50781739,  0.54971857,  0.42053111,\n",
              "          -0.27766454, -0.13676732],\n",
              "         [ 0.54190119,  0.50969356,  0.55190744,  0.4067625 ,\n",
              "          -0.26951873, -0.13676732],\n",
              "         [ 0.54846779,  0.51219512,  0.56035022,  0.41300813,\n",
              "          -0.26951873, -0.13676732],\n",
              "         ...,\n",
              "         [ 0.51594747,  0.45153221,  0.52220138,  0.48227425,\n",
              "           0.40108556, -0.02901125],\n",
              "         [ 0.52157598,  0.45278299,  0.52595372,  0.48778038,\n",
              "           0.56101739, -0.02901125],\n",
              "         [ 0.52157598,  0.45278299,  0.52595372,  0.48778038,\n",
              "           0.77398461, -0.02901125]],\n",
              "\n",
              "        ...,\n",
              "\n",
              "        [[ 0.56222639,  0.53314572,  0.58098812,  0.4283381 ,\n",
              "          -0.68619204, -0.21373594],\n",
              "         [ 0.55816135,  0.5203252 ,  0.57661038,  0.42943671,\n",
              "          -0.64294541, -0.21018354],\n",
              "         [ 0.55816135,  0.5203252 ,  0.57661038,  0.42943671,\n",
              "          -0.63343585, -0.20663114],\n",
              "         ...,\n",
              "         [ 0.54315197,  0.4862414 ,  0.54659162,  0.49733356,\n",
              "          -0.37487078, -0.09532268],\n",
              "         [ 0.54440275,  0.47091932,  0.54283927,  0.52640988,\n",
              "          -0.06137741, -0.09413854],\n",
              "         [ 0.53502189,  0.46028768,  0.53846154,  0.50948375,\n",
              "           0.16876078, -0.09413854]],\n",
              "\n",
              "        [[ 0.55784866,  0.52407755,  0.57285804,  0.42799353,\n",
              "          -0.70299494, -0.21373594],\n",
              "         [ 0.55659787,  0.51219512,  0.57754847,  0.45187476,\n",
              "          -0.659127  , -0.20899941],\n",
              "         [ 0.55659787,  0.51219512,  0.57754847,  0.45187476,\n",
              "          -0.6187284 , -0.20544701],\n",
              "         ...,\n",
              "         [ 0.54596623,  0.47779862,  0.55347092,  0.52047556,\n",
              "          -0.30059814, -0.09650681],\n",
              "         [ 0.54846779,  0.47373358,  0.5478424 ,  0.53359173,\n",
              "           0.05240011, -0.09532268],\n",
              "         [ 0.53377111,  0.46341463,  0.53158224,  0.50783958,\n",
              "           0.40108556, -0.09413854]],\n",
              "\n",
              "        [[ 0.55753596,  0.53345841,  0.56973108,  0.40307952,\n",
              "          -0.71496618, -0.21373594],\n",
              "         [ 0.561601  ,  0.52220138,  0.57629769,  0.45255759,\n",
              "          -0.67300785, -0.20899941],\n",
              "         [ 0.561601  ,  0.52220138,  0.57629769,  0.45255759,\n",
              "          -0.6187284 , -0.20544701],\n",
              "         ...,\n",
              "         [ 0.54252658,  0.46654159,  0.54409006,  0.51580341,\n",
              "          -0.30059814, -0.09650681],\n",
              "         [ 0.53658537,  0.47060663,  0.54221388,  0.52178122,\n",
              "           0.05240011, -0.09532268],\n",
              "         [ 0.53627267,  0.46060038,  0.53158224,  0.50558426,\n",
              "           0.40108556, -0.09532268]]]])"
            ]
          },
          "metadata": {},
          "execution_count": 144
        }
      ]
    },
    {
      "cell_type": "code",
      "source": [
        "threshold = 0.0000002\n",
        "threshold2 = 0.0000005\n",
        "\n",
        "pred_img = model.predict(TEST_XX3)\n",
        "pred_img2 = model.predict(TEST_XX3)\n",
        "\n",
        "# Correct logical operation using bitwise '&'\n",
        "pred_img = ((pred_img > threshold) & (pred_img < threshold2)).astype(np.uint8)\n",
        "\n"
      ],
      "metadata": {
        "colab": {
          "base_uri": "https://localhost:8080/"
        },
        "id": "t1hoTQ3cqeU0",
        "outputId": "9c97581a-4728-4244-e186-74bf3d5952b1"
      },
      "execution_count": null,
      "outputs": [
        {
          "output_type": "stream",
          "name": "stdout",
          "text": [
            "\u001b[1m1/1\u001b[0m \u001b[32m━━━━━━━━━━━━━━━━━━━━\u001b[0m\u001b[37m\u001b[0m \u001b[1m0s\u001b[0m 105ms/step\n",
            "\u001b[1m1/1\u001b[0m \u001b[32m━━━━━━━━━━━━━━━━━━━━\u001b[0m\u001b[37m\u001b[0m \u001b[1m0s\u001b[0m 147ms/step\n"
          ]
        }
      ]
    },
    {
      "cell_type": "code",
      "source": [
        "img = 65\n",
        "fig,(ax1,ax2)= plt.subplots(1,2,figsize=(15,10))\n",
        "ax1.imshow(pred_img[0, :, :, 0])\n",
        "ax1.set_title(\"Predictions\")\n",
        "\n",
        "ax2.imshow(TEST_XX3[0, :, :, 2::-1])\n",
        "ax2.set_title('Test Image')"
      ],
      "metadata": {
        "colab": {
          "base_uri": "https://localhost:8080/",
          "height": 646
        },
        "id": "7gcgpZcoqqKo",
        "outputId": "e8eb7ba7-8071-46b6-a5f2-22c5f4fadfbb"
      },
      "execution_count": null,
      "outputs": [
        {
          "output_type": "stream",
          "name": "stderr",
          "text": [
            "WARNING:matplotlib.image:Clipping input data to the valid range for imshow with RGB data ([0..1] for floats or [0..255] for integers).\n"
          ]
        },
        {
          "output_type": "execute_result",
          "data": {
            "text/plain": [
              "Text(0.5, 1.0, 'Test Image')"
            ]
          },
          "metadata": {},
          "execution_count": 146
        },
        {
          "output_type": "display_data",
          "data": {
            "text/plain": [
              "<Figure size 1500x1000 with 2 Axes>"
            ],
            "image/png": "[encoded data removed]"
          },
          "metadata": {}
        }
      ]
    },
    {
      "cell_type": "code",
      "source": [
        "pred_img2"
      ],
      "metadata": {
        "colab": {
          "base_uri": "https://localhost:8080/"
        },
        "id": "WTnXrpYvq1kT",
        "outputId": "d1ef7193-ad15-4cc1-cacf-6cf78c647fd0"
      },
      "execution_count": null,
      "outputs": [
        {
          "output_type": "execute_result",
          "data": {
            "text/plain": [
              "array([[[[3.0378681e-03],\n",
              "         [4.8648808e-04],\n",
              "         [6.1898970e-04],\n",
              "         ...,\n",
              "         [1.7208877e-05],\n",
              "         [2.1333717e-05],\n",
              "         [2.2073997e-04]],\n",
              "\n",
              "        [[1.7771764e-04],\n",
              "         [8.3292643e-06],\n",
              "         [8.8850884e-06],\n",
              "         ...,\n",
              "         [8.8859423e-07],\n",
              "         [1.2005833e-06],\n",
              "         [2.7573722e-05]],\n",
              "\n",
              "        [[3.5345267e-05],\n",
              "         [1.4128755e-06],\n",
              "         [1.6707115e-06],\n",
              "         ...,\n",
              "         [2.0647556e-07],\n",
              "         [2.0240317e-07],\n",
              "         [2.1415744e-06]],\n",
              "\n",
              "        ...,\n",
              "\n",
              "        [[1.7805654e-04],\n",
              "         [6.1554179e-06],\n",
              "         [6.8985050e-06],\n",
              "         ...,\n",
              "         [5.3990252e-06],\n",
              "         [2.9196513e-06],\n",
              "         [2.3106773e-05]],\n",
              "\n",
              "        [[2.7202026e-04],\n",
              "         [4.6114365e-06],\n",
              "         [4.4706239e-06],\n",
              "         ...,\n",
              "         [2.9097677e-05],\n",
              "         [1.6857148e-05],\n",
              "         [1.2657195e-04]],\n",
              "\n",
              "        [[9.1533437e-03],\n",
              "         [6.7764864e-04],\n",
              "         [4.5246191e-04],\n",
              "         ...,\n",
              "         [1.2678576e-03],\n",
              "         [5.8597216e-04],\n",
              "         [1.9568268e-03]]]], dtype=float32)"
            ]
          },
          "metadata": {},
          "execution_count": 115
        }
      ]
    },
    {
      "cell_type": "code",
      "source": [
        "TEST_XX = np.zeros((1, 128, 128, 6))"
      ],
      "metadata": {
        "id": "qc9PGIIAuB7_"
      },
      "execution_count": null,
      "outputs": []
    },
    {
      "cell_type": "code",
      "source": [
        "for i, (img) in enumerate(all_test):\n",
        "\n",
        "    with h5py.File(img) as hdf:\n",
        "        ls = list(hdf.keys())\n",
        "        data = np.array(hdf.get('img'))\n",
        "\n",
        "\n",
        "        data[np.isnan(data)] = 0.000001\n",
        "\n",
        "\n",
        "        mid_rgb = data[:, :, 1:4].max() / 2.0\n",
        "        mid_slope = data[:, :, 12].max() / 2.0\n",
        "        mid_elevation = data[:, :, 13].max() / 2.0\n",
        "\n",
        "\n",
        "        data_red = data[:, :, 3]\n",
        "        data_nir = data[:, :, 7]\n",
        "        data_ndvi = np.divide(data_nir - data_red,np.add(data_nir, data_red))\n",
        "\n",
        "\n",
        "        TEST_XX[0, :, :, 0] = 1 - data[:, :, 3] / mid_rgb  #RED\n",
        "        TEST_XX[0, :, :, 1] = 1 - data[:, :, 2] / mid_rgb #GREEN\n",
        "        TEST_XX[0, :, :, 2] = 1 - data[:, :, 1] / mid_rgb #BLUE\n",
        "        TEST_XX[0, :, :, 3] = data_ndvi #NDVI\n",
        "        TEST_XX[0, :, :, 4] = 1 - data[:, :, 12] / mid_slope #SLOPE\n",
        "        TEST_XX[0, :, :, 5] = 1 - data[:, :, 13] / mid_elevation #ELEVATION"
      ],
      "metadata": {
        "id": "DO-10z20raLY",
        "colab": {
          "base_uri": "https://localhost:8080/"
        },
        "outputId": "5358e67b-4029-4040-b804-cd2f5c670ebe"
      },
      "execution_count": null,
      "outputs": [
        {
          "output_type": "stream",
          "name": "stderr",
          "text": [
            "<ipython-input-206-028bfe7ff2f6>:18: RuntimeWarning: invalid value encountered in divide\n",
            "  data_ndvi = np.divide(data_nir - data_red,np.add(data_nir, data_red))\n"
          ]
        }
      ]
    },
    {
      "cell_type": "code",
      "source": [
        "threshold = 0.5\n",
        "pred_img = model.predict(TEST_XX)\n",
        "\n",
        "pred_img = (pred_img > threshold).astype(np.uint8)"
      ],
      "metadata": {
        "colab": {
          "base_uri": "https://localhost:8080/"
        },
        "id": "MFPtbtu9t-w0",
        "outputId": "acd84d93-207e-4e6e-9750-2109c2fdf45d"
      },
      "execution_count": null,
      "outputs": [
        {
          "output_type": "stream",
          "name": "stdout",
          "text": [
            "\u001b[1m1/1\u001b[0m \u001b[32m━━━━━━━━━━━━━━━━━━━━\u001b[0m\u001b[37m\u001b[0m \u001b[1m0s\u001b[0m 196ms/step\n",
            "\u001b[1m1/1\u001b[0m \u001b[32m━━━━━━━━━━━━━━━━━━━━\u001b[0m\u001b[37m\u001b[0m \u001b[1m0s\u001b[0m 260ms/step\n"
          ]
        }
      ]
    },
    {
      "cell_type": "code",
      "source": [
        "img = 65\n",
        "fig,(ax1,ax2)= plt.subplots(1,2,figsize=(15,10))\n",
        "ax1.imshow(pred_img[0, :, :, 0])\n",
        "ax1.set_title(\"Predictions\")\n",
        "\n",
        "ax2.imshow(TEST_XX3[0, :, :, 3])\n",
        "ax2.set_title('Test Image')"
      ],
      "metadata": {
        "colab": {
          "base_uri": "https://localhost:8080/",
          "height": 628
        },
        "id": "1UtFOkTquUbr",
        "outputId": "10dd4615-b363-4309-ee43-714b27a46e36"
      },
      "execution_count": null,
      "outputs": [
        {
          "output_type": "execute_result",
          "data": {
            "text/plain": [
              "Text(0.5, 1.0, 'Test Image')"
            ]
          },
          "metadata": {},
          "execution_count": 212
        },
        {
          "output_type": "display_data",
          "data": {
            "text/plain": [
              "<Figure size 1500x1000 with 2 Axes>"
            ],
            "image/png": "[encoded data removed]"
          },
          "metadata": {}
        }
      ]
    },
    {
      "cell_type": "code",
      "source": [
        "TEST_XX"
      ],
      "metadata": {
        "colab": {
          "base_uri": "https://localhost:8080/"
        },
        "id": "BriddmQDub-N",
        "outputId": "8bfa288c-c875-4023-c721-a596a8ab19bf"
      },
      "execution_count": null,
      "outputs": [
        {
          "output_type": "execute_result",
          "data": {
            "text/plain": [
              "array([[[[ 0.48796069,  0.4862574 ,  0.54743257,  0.1426434 ,\n",
              "           0.19230769, -0.91240876],\n",
              "         [ 0.50663391,  0.49680924,  0.55432985,  0.14505855,\n",
              "           0.23076923, -0.91240876],\n",
              "         [ 0.51547912,  0.51659394,  0.56441048,  0.04020457,\n",
              "           0.23076923, -0.91403082],\n",
              "         ...,\n",
              "         [ 0.54889435,  0.53571914,  0.55061593,  0.1167934 ,\n",
              "          -0.11538462, -0.69829684],\n",
              "         [ 0.53120393,  0.4994472 ,  0.54849369,  0.13366719,\n",
              "          -0.11538462, -0.68856448],\n",
              "         [ 0.50761671,  0.48361944,  0.54690201,  0.13195373,\n",
              "          -0.19230769, -0.67721006]],\n",
              "\n",
              "        [[ 0.4977887 ,  0.47504607,  0.55486041,  0.21939622,\n",
              "           0.19230769, -0.91240876],\n",
              "         [ 0.4977887 ,  0.47702454,  0.55432985,  0.20306497,\n",
              "           0.23076923, -0.91240876],\n",
              "         [ 0.4997543 ,  0.48559791,  0.55486041,  0.15128846,\n",
              "           0.23076923, -0.91403082],\n",
              "         ...,\n",
              "         [ 0.51646192,  0.50472312,  0.53576026,  0.11716276,\n",
              "          -0.11538462, -0.69829684],\n",
              "         [ 0.50761671,  0.48823587,  0.54106585,  0.13057198,\n",
              "          -0.11538462, -0.68856448],\n",
              "         [ 0.52432432,  0.51329649,  0.54584089,  0.14142978,\n",
              "          -0.19230769, -0.67721006]],\n",
              "\n",
              "        [[ 0.52825553,  0.5060421 ,  0.57289944,  0.19773164,\n",
              "           0.15384615, -0.90429846],\n",
              "         [ 0.53022113,  0.50010669,  0.55592153,  0.19416818,\n",
              "           0.23076923, -0.90592052],\n",
              "         [ 0.51842752,  0.4796625 ,  0.54371865,  0.15253303,\n",
              "           0.26923077, -0.90754258],\n",
              "         ...,\n",
              "         [ 0.49090909,  0.47240812,  0.53682138,  0.1793111 ,\n",
              "          -0.15384615, -0.69505272],\n",
              "         [ 0.48009828,  0.48757638,  0.53576026,  0.13711219,\n",
              "          -0.15384615, -0.6836983 ],\n",
              "         [ 0.52628993,  0.5251673 ,  0.54424921,  0.11422046,\n",
              "          -0.19230769, -0.67234388]],\n",
              "\n",
              "        ...,\n",
              "\n",
              "        [[ 0.5017199 ,  0.47438658,  0.55061593,  0.17021404,\n",
              "          -0.26923077, -0.6999189 ],\n",
              "         [ 0.4987715 ,  0.50076618,  0.55220761,  0.14967971,\n",
              "          -0.23076923, -0.6999189 ],\n",
              "         [ 0.44570025,  0.47240812,  0.54212697,  0.10245278,\n",
              "          -0.15384615, -0.70154096],\n",
              "         ...,\n",
              "         [ 0.53415233,  0.52582679,  0.54690201,  0.09400934,\n",
              "           0.26923077, -0.28791565],\n",
              "         [ 0.54201474,  0.54033557,  0.56069656,  0.02515007,\n",
              "           0.23076923, -0.29115977],\n",
              "         [ 0.55970516,  0.54231404,  0.55910488,  0.04622049,\n",
              "           0.15384615, -0.29764801]],\n",
              "\n",
              "        [[ 0.50663391,  0.48295995,  0.55220761,  0.16159376,\n",
              "          -0.19230769, -0.68856448],\n",
              "         [ 0.46830467,  0.47570556,  0.54371865,  0.11228013,\n",
              "          -0.19230769, -0.68694242],\n",
              "         [ 0.38378378,  0.47702454,  0.53894361, -0.00964488,\n",
              "          -0.19230769, -0.69018654],\n",
              "         ...,\n",
              "         [ 0.55577396,  0.51989138,  0.54955481,  0.12746655,\n",
              "           0.26923077, -0.28304947],\n",
              "         [ 0.58427518,  0.56275823,  0.56069656,  0.07505582,\n",
              "           0.26923077, -0.28791565],\n",
              "         [ 0.56756757,  0.53571914,  0.5575132 ,  0.10542207,\n",
              "           0.15384615, -0.29602595]],\n",
              "\n",
              "        [[ 0.45749386,  0.48164097,  0.54477977,  0.10065483,\n",
              "          -0.23076923, -0.675588  ],\n",
              "         [ 0.4014742 ,  0.46977016,  0.53416858,  0.01616227,\n",
              "          -0.19230769, -0.675588  ],\n",
              "         [ 0.3965602 ,  0.48559791,  0.53416858, -0.02400747,\n",
              "          -0.26923077, -0.67721006],\n",
              "         ...,\n",
              "         [ 0.54692875,  0.50340414,  0.54849369,  0.13947149,\n",
              "           0.07692308, -0.27818329],\n",
              "         [ 0.58624079,  0.55748231,  0.56228824,  0.0262779 ,\n",
              "           0.07692308, -0.28629359],\n",
              "         [ 0.57837838,  0.57133159,  0.560166  ,  0.01219837,\n",
              "           0.03846154, -0.29440389]]]])"
            ]
          },
          "metadata": {},
          "execution_count": 31
        }
      ]
    },
    {
      "cell_type": "code",
      "source": [
        "TEST_XX3"
      ],
      "metadata": {
        "colab": {
          "base_uri": "https://localhost:8080/"
        },
        "id": "NhnT7Lggulkq",
        "outputId": "a7c62952-7bf5-4e0c-d182-0b74e1a5fc43"
      },
      "execution_count": null,
      "outputs": [
        {
          "output_type": "execute_result",
          "data": {
            "text/plain": [
              "array([[[[ 0.51407129,  0.44277674,  0.45465916,  0.40230769,\n",
              "          -0.99849566, -0.9408452 ],\n",
              "         [ 0.52908068,  0.47873671,  0.48530331,  0.42054636,\n",
              "          -0.98082998,  0.99926726],\n",
              "         [ 0.52657911,  0.47904941,  0.47592245,  0.41249515,\n",
              "          -0.99767842, -0.70767401],\n",
              "         ...,\n",
              "         [ 0.53752345,  0.50093809,  0.54534084,  0.39397664,\n",
              "          -0.99777601,  0.09671539],\n",
              "         [ 0.54377736,  0.49280801,  0.54409006,  0.36853495,\n",
              "          -0.90960156,  0.60980287],\n",
              "         [ 0.53721076,  0.49186992,  0.5409631 ,  0.3514461 ,\n",
              "          -0.99542225,  0.14751739]],\n",
              "\n",
              "        [[ 0.53783615,  0.49718574,  0.53001876,  0.43716679,\n",
              "          -0.99283167, -0.66921857],\n",
              "         [ 0.5478424 ,  0.50469043,  0.54252658,  0.469163  ,\n",
              "          -0.99896038,  0.40298496],\n",
              "         [ 0.5409631 ,  0.48780488,  0.52532833,  0.45750185,\n",
              "          -0.98493216,  0.91509004],\n",
              "         ...,\n",
              "         [ 0.52908068,  0.48905566,  0.53377111,  0.40380048,\n",
              "          -0.99622666,  0.1114037 ],\n",
              "         [ 0.53095685,  0.48030019,  0.50625391,  0.37027708,\n",
              "          -0.99798535, -0.80319952],\n",
              "         [ 0.53158224,  0.50500313,  0.52407755,  0.35735736,\n",
              "          -0.99531819,  0.28720877]],\n",
              "\n",
              "        [[ 0.54471545,  0.50844278,  0.54971857,  0.44257274,\n",
              "          -0.99828525, -0.47933916],\n",
              "         [ 0.55034396,  0.50156348,  0.55222014,  0.47093451,\n",
              "          -0.99733723, -0.59132778],\n",
              "         [ 0.54502814,  0.49593496,  0.54346467,  0.44348824,\n",
              "          -0.9901174 , -0.73501099],\n",
              "         ...,\n",
              "         [ 0.5272045 ,  0.48405253,  0.52188868,  0.40189873,\n",
              "          -0.99542354, -0.75012318],\n",
              "         [ 0.52595372,  0.48373984,  0.4934334 ,  0.3589852 ,\n",
              "          -0.99820733, -0.95076656],\n",
              "         [ 0.52845528,  0.49843652,  0.51156973,  0.35775128,\n",
              "          -0.99771149, -0.05467288]],\n",
              "\n",
              "        ...,\n",
              "\n",
              "        [[ 0.55534709,  0.51844903,  0.5681676 ,  0.51150807,\n",
              "          -0.9974872 , -0.81971136],\n",
              "         [ 0.54878049,  0.5065666 ,  0.55691057,  0.49037613,\n",
              "          -0.98850192, -0.48081186],\n",
              "         [ 0.53846154,  0.49906191,  0.53252033,  0.42857143,\n",
              "          -0.99745635, -0.7274465 ],\n",
              "         ...,\n",
              "         [ 0.54471545,  0.51156973,  0.56347717,  0.43346304,\n",
              "          -0.98788303,  0.09841211],\n",
              "         [ 0.54752971,  0.50343965,  0.55878674,  0.44865689,\n",
              "          -0.98448338,  0.8558766 ],\n",
              "         [ 0.55222014,  0.50469043,  0.55409631,  0.44646308,\n",
              "          -0.99359734, -0.15336967]],\n",
              "\n",
              "        [[ 0.56128831,  0.50406504,  0.55878674,  0.47423646,\n",
              "          -0.99534851,  0.26625775],\n",
              "         [ 0.55347092,  0.49218261,  0.55065666,  0.48410405,\n",
              "          -0.99395255,  0.0521741 ],\n",
              "         [ 0.54221388,  0.50218887,  0.53877423,  0.42723005,\n",
              "          -0.99191715, -0.38855618],\n",
              "         ...,\n",
              "         [ 0.55284553,  0.50906817,  0.56128831,  0.43789308,\n",
              "          -0.99642825,  0.75466937],\n",
              "         [ 0.55222014,  0.5065666 ,  0.55659787,  0.44517629,\n",
              "          -0.99678887, -0.85961408],\n",
              "         [ 0.54940588,  0.5068793 ,  0.55534709,  0.43545544,\n",
              "          -0.99683631, -0.01084698]],\n",
              "\n",
              "        [[ 0.55284553,  0.51156973,  0.56097561,  0.41489362,\n",
              "          -0.99846907, -0.537234  ],\n",
              "         [ 0.54721701,  0.50218887,  0.55909944,  0.42857143,\n",
              "          -0.99459861, -0.72885101],\n",
              "         [ 0.54971857,  0.50531582,  0.54752971,  0.44207671,\n",
              "          -0.99024296, -0.24865824],\n",
              "         ...,\n",
              "         [ 0.55534709,  0.51907442,  0.56472795,  0.43705463,\n",
              "          -0.98568521, -0.67543982],\n",
              "         [ 0.55222014,  0.51844903,  0.56285178,  0.42234772,\n",
              "          -0.97485638,  0.00120084],\n",
              "         [ 0.55722326,  0.51751094,  0.56691682,  0.40604027,\n",
              "          -0.99552645, -0.85097286]]]])"
            ]
          },
          "metadata": {},
          "execution_count": 32
        }
      ]
    },
    {
      "cell_type": "code",
      "source": [
        "pred_img2"
      ],
      "metadata": {
        "colab": {
          "base_uri": "https://localhost:8080/"
        },
        "id": "XiPU9jNuupZ0",
        "outputId": "c2fd370e-50e3-419f-b79c-630ae1e4d2c2"
      },
      "execution_count": null,
      "outputs": [
        {
          "output_type": "execute_result",
          "data": {
            "text/plain": [
              "array([[[[1.64337934e-03],\n",
              "         [7.55779256e-05],\n",
              "         [1.27684674e-04],\n",
              "         ...,\n",
              "         [4.19705553e-04],\n",
              "         [6.73097034e-04],\n",
              "         [3.90690984e-03]],\n",
              "\n",
              "        [[9.65520594e-05],\n",
              "         [7.57513772e-06],\n",
              "         [1.03678885e-05],\n",
              "         ...,\n",
              "         [2.00989001e-04],\n",
              "         [3.01398337e-04],\n",
              "         [1.86411093e-03]],\n",
              "\n",
              "        [[2.54728202e-05],\n",
              "         [8.02201725e-07],\n",
              "         [1.10824647e-06],\n",
              "         ...,\n",
              "         [7.57536181e-05],\n",
              "         [2.55606923e-04],\n",
              "         [1.67803024e-03]],\n",
              "\n",
              "        ...,\n",
              "\n",
              "        [[2.87928997e-04],\n",
              "         [4.26067709e-05],\n",
              "         [9.73438582e-05],\n",
              "         ...,\n",
              "         [1.44737744e-04],\n",
              "         [1.32879039e-04],\n",
              "         [4.03269136e-04]],\n",
              "\n",
              "        [[9.06485831e-04],\n",
              "         [2.01723538e-04],\n",
              "         [4.58778930e-04],\n",
              "         ...,\n",
              "         [4.51565691e-04],\n",
              "         [3.15071666e-04],\n",
              "         [9.57737735e-04]],\n",
              "\n",
              "        [[1.86306145e-02],\n",
              "         [6.73296489e-03],\n",
              "         [7.32473051e-03],\n",
              "         ...,\n",
              "         [1.53751089e-03],\n",
              "         [1.25836709e-03],\n",
              "         [4.42866515e-03]]]], dtype=float32)"
            ]
          },
          "metadata": {},
          "execution_count": 33
        }
      ]
    },
    {
      "cell_type": "code",
      "source": [],
      "metadata": {
        "id": "FtXii7Qgu8QE"
      },
      "execution_count": null,
      "outputs": []
    }
  ]
}